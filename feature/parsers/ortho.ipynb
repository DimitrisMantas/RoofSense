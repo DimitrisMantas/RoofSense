{
 "cells": [
  {
   "cell_type": "code",
   "execution_count": 1,
   "id": "initial_id",
   "metadata": {
    "collapsed": true,
    "ExecuteTime": {
     "end_time": "2023-12-28T20:29:52.651515Z",
     "start_time": "2023-12-28T20:29:52.300449400Z"
    }
   },
   "outputs": [],
   "source": [
    "import rasterio.merge\n",
    "\n",
    "from parsers.utils import raster"
   ]
  },
  {
   "cell_type": "code",
   "outputs": [],
   "source": [
    "images = [\"C:/Documents/RoofSense/feature/parsers/RGB_37EN1_clip.tif\",\n",
    "          \"C:/Documents/RoofSense/feature/parsers/RGB_37EN2_clip.tif\"]\n",
    "merged = rasterio.merge.merge(images)"
   ],
   "metadata": {
    "collapsed": false,
    "ExecuteTime": {
     "end_time": "2023-12-28T20:29:54.468703700Z",
     "start_time": "2023-12-28T20:29:53.729603200Z"
    }
   },
   "id": "a9d8ddbb076d67de",
   "execution_count": 2
  },
  {
   "cell_type": "code",
   "outputs": [
    {
     "data": {
      "text/plain": "(4, 4794, 4781)"
     },
     "execution_count": 57,
     "metadata": {},
     "output_type": "execute_result"
    }
   ],
   "source": [
    "merged[0].shape"
   ],
   "metadata": {
    "collapsed": false,
    "ExecuteTime": {
     "end_time": "2023-12-28T20:29:15.575206600Z",
     "start_time": "2023-12-28T20:29:15.516494700Z"
    }
   },
   "id": "7125127b21bf845c",
   "execution_count": 57
  },
  {
   "cell_type": "code",
   "outputs": [],
   "source": [
    "with rasterio.open(\"merged.tiff\",\n",
    "                   \"w\",\n",
    "                   width=merged[0].shape[2],\n",
    "                   height=merged[0].shape[1],\n",
    "                   transform=merged[1],\n",
    "                   **raster.Profiles.AHN3) as f:\n",
    "    f.write(merged[0])"
   ],
   "metadata": {
    "collapsed": false,
    "ExecuteTime": {
     "end_time": "2023-12-28T20:29:58.591074900Z",
     "start_time": "2023-12-28T20:29:55.467017500Z"
    }
   },
   "id": "f0ff37161dd83378",
   "execution_count": 3
  }
 ],
 "metadata": {
  "kernelspec": {
   "display_name": "Python 3",
   "language": "python",
   "name": "python3"
  },
  "language_info": {
   "codemirror_mode": {
    "name": "ipython",
    "version": 2
   },
   "file_extension": ".py",
   "mimetype": "text/x-python",
   "name": "python",
   "nbconvert_exporter": "python",
   "pygments_lexer": "ipython2",
   "version": "2.7.6"
  }
 },
 "nbformat": 4,
 "nbformat_minor": 5
}
