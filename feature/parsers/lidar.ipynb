{
 "cells": [
  {
   "cell_type": "code",
   "outputs": [],
   "source": [
    "import numpy as np\n",
    "import rasterio.fill\n",
    "import sklearn.neighbors\n",
    "\n",
    "from parsers.utils import pcloud\n",
    "from parsers.utils import raster"
   ],
   "metadata": {
    "collapsed": false,
    "ExecuteTime": {
     "end_time": "2024-01-25T19:53:30.502641100Z",
     "start_time": "2024-01-25T19:53:29.284393200Z"
    }
   },
   "id": "6667acd6494a494d",
   "execution_count": 1
  },
  {
   "cell_type": "markdown",
   "source": [
    "STEP 1: Read the point cloud into memory."
   ],
   "metadata": {
    "collapsed": false
   },
   "id": "7c8dd5505ee9826a"
  },
  {
   "cell_type": "code",
   "outputs": [],
   "source": [
    "pc = pcloud.PointCloud(\"C:/Documents/RoofSense/feature/parsers/test.laz\")"
   ],
   "metadata": {
    "collapsed": false,
    "ExecuteTime": {
     "end_time": "2024-01-25T19:53:59.512218700Z",
     "start_time": "2024-01-25T19:53:59.418452500Z"
    }
   },
   "id": "33e13c288f5d3b68",
   "execution_count": 3
  },
  {
   "cell_type": "markdown",
   "source": [
    "STEP 2: Initialize the raster grid and compute the center coordinates of its cells."
   ],
   "metadata": {
    "collapsed": false
   },
   "id": "2c336172645da3c6"
  },
  {
   "cell_type": "code",
   "outputs": [],
   "source": [
    "# TODO: Promote this static constant to an environment variable.\n",
    "CELL_SIZE = 0.25\n",
    "\n",
    "# TODO: Write a method to compute the bounds of the point cloud.\n",
    "r = raster.Raster(CELL_SIZE, pc.bbox())"
   ],
   "metadata": {
    "collapsed": false,
    "ExecuteTime": {
     "end_time": "2024-01-25T19:54:00.760642700Z",
     "start_time": "2024-01-25T19:54:00.752314800Z"
    }
   },
   "id": "bf962654eb92008",
   "execution_count": 4
  },
  {
   "cell_type": "code",
   "outputs": [],
   "source": [
    "# TODO: Check how the tree behaves when duplicate points are inserted to it.\n",
    "index = sklearn.neighbors.KDTree(np.vstack((pc.las.x, pc.las.y)).transpose())"
   ],
   "metadata": {
    "collapsed": true,
    "ExecuteTime": {
     "end_time": "2024-01-25T19:54:18.020970800Z",
     "start_time": "2024-01-25T19:54:17.726198200Z"
    }
   },
   "id": "initial_id",
   "execution_count": 6
  },
  {
   "cell_type": "markdown",
   "source": [
    "STEP 3: Build a k-d tree using the 2D projection of the point cloud and find the neighbors of each cell."
   ],
   "metadata": {
    "collapsed": false
   },
   "id": "8bb60391dd6db142"
  },
  {
   "cell_type": "code",
   "outputs": [],
   "source": [
    "# TODO: Optimize this tree creation and indexing processes.\n",
    "neighbors, distances = index.query_radius(r.xy(), r=CELL_SIZE, return_distance=True)"
   ],
   "metadata": {
    "collapsed": false,
    "ExecuteTime": {
     "end_time": "2024-01-25T19:54:21.150239700Z",
     "start_time": "2024-01-25T19:54:20.611963500Z"
    }
   },
   "id": "1056b952fd25af56",
   "execution_count": 7
  },
  {
   "cell_type": "markdown",
   "source": [
    "STEP 4: Interpolate the DSM and reflectance fields."
   ],
   "metadata": {
    "collapsed": false
   },
   "id": "4a98c798b716d293"
  },
  {
   "cell_type": "code",
   "outputs": [],
   "source": [
    "# FIXME: Return the neighbor indices and corresponding weights instead of performing the\n",
    "#        interpolation directly.\n",
    "# TODO: Optimize this loop.\n",
    "scalars = \"z\", \"Reflectance\"\n",
    "rasters = {scalar: raster.Raster(CELL_SIZE, pc.bbox()) for scalar in scalars}\n",
    "\n",
    "nodata = []\n",
    "for cell_id, cell_nb in enumerate(neighbors):\n",
    "    if len(cell_nb) == 0:\n",
    "        nodata.append(cell_id)\n",
    "        continue\n",
    "    attribs = {scalar: [] for scalar in scalars}\n",
    "    for scalar in scalars:\n",
    "        attribs[scalar].append(pc.las.points[cell_nb][scalar])\n",
    "    row, col = np.divmod(cell_id, r.width)\n",
    "    if np.any(distances[cell_id] == 0):\n",
    "        # The cell center belongs to the point cloud.\n",
    "        nb_id = cell_nb[np.argsort(distances[cell_id])[0]]\n",
    "        # NOTE: This indexing notation results in the point being returned in a familiar\n",
    "        #       format.\n",
    "        for scalar in scalars:\n",
    "            rasters[scalar][row, col] = pc.las.points[[nb_id]][scalar].scaled_array()\n",
    "    else:\n",
    "        weights = distances[cell_id] ** -2\n",
    "        for scalar in scalars:\n",
    "            rasters[scalar][row, col] = np.sum(attribs[scalar] * weights) / np.sum(weights)"
   ],
   "metadata": {
    "collapsed": false,
    "ExecuteTime": {
     "end_time": "2024-01-25T19:54:28.029732700Z",
     "start_time": "2024-01-25T19:54:23.036881600Z"
    }
   },
   "id": "681c19d0e05a27d6",
   "execution_count": 8
  },
  {
   "cell_type": "code",
   "outputs": [
    {
     "data": {
      "text/plain": "array([0., 0., 0., ..., 0., 0., 0.])"
     },
     "execution_count": 14,
     "metadata": {},
     "output_type": "execute_result"
    }
   ],
   "source": [
    "mask = np.ones((r.height, r.width))\n",
    "mask[np.divmod(nodata, r.width)] = 0\n",
    "mask[mask==0]"
   ],
   "metadata": {
    "collapsed": false,
    "ExecuteTime": {
     "end_time": "2024-01-25T19:56:30.244739Z",
     "start_time": "2024-01-25T19:56:30.240407500Z"
    }
   },
   "id": "1c35fa74fb952de5",
   "execution_count": 14
  },
  {
   "cell_type": "code",
   "outputs": [],
   "source": [
    "mask = np.ones((r.height, r.width))\n",
    "mask[np.divmod(nodata, r.width)] = 0\n",
    "\n",
    "for scalar, raster_ in rasters.items():\n",
    "    raster_._data = rasterio.fill.fillnodata(raster_._data, mask)\n",
    "    rasters[scalar].save(f\"{scalar}.tif\")"
   ],
   "metadata": {
    "collapsed": false,
    "ExecuteTime": {
     "end_time": "2024-01-12T23:56:53.337097200Z",
     "start_time": "2024-01-12T23:56:51.499885800Z"
    }
   },
   "id": "a5b44c34a1c59933",
   "execution_count": 20
  },
  {
   "cell_type": "markdown",
   "source": [
    "STEP 5: Compute the slope from the DSM."
   ],
   "metadata": {
    "collapsed": false
   },
   "id": "d1036fd73b14cfee"
  },
  {
   "cell_type": "code",
   "outputs": [],
   "source": [
    "rasters[\"z\"].slope().save(\"Slope.tif\")"
   ],
   "metadata": {
    "collapsed": false,
    "ExecuteTime": {
     "end_time": "2024-01-12T23:57:02.485665Z",
     "start_time": "2024-01-12T23:57:01.628414100Z"
    }
   },
   "id": "c5768b1af91b336f",
   "execution_count": 21
  }
 ],
 "metadata": {
  "kernelspec": {
   "display_name": "Python 3",
   "language": "python",
   "name": "python3"
  },
  "language_info": {
   "codemirror_mode": {
    "name": "ipython",
    "version": 2
   },
   "file_extension": ".py",
   "mimetype": "text/x-python",
   "name": "python",
   "nbconvert_exporter": "python",
   "pygments_lexer": "ipython2",
   "version": "2.7.6"
  }
 },
 "nbformat": 4,
 "nbformat_minor": 5
}
