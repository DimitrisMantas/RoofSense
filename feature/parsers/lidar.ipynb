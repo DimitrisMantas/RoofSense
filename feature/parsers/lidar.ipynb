{
 "cells": [
  {
   "cell_type": "code",
   "execution_count": 1,
   "id": "initial_id",
   "metadata": {
    "collapsed": true,
    "ExecuteTime": {
     "end_time": "2023-12-21T03:05:54.160875900Z",
     "start_time": "2023-12-21T03:05:53.419518100Z"
    }
   },
   "outputs": [],
   "source": [
    "import math\n",
    "\n",
    "import geopandas as gpd\n",
    "import laspy\n",
    "import numpy as np\n",
    "import startinpy\n",
    "\n",
    "import raster\n",
    "from feature.utils import timing"
   ]
  },
  {
   "cell_type": "code",
   "execution_count": 2,
   "outputs": [],
   "source": [
    "class PointCloud:\n",
    "    @timing\n",
    "    def __init__(self, filename: str) -> None:\n",
    "        with laspy.open(filename) as f:\n",
    "            self.las = f.read()\n",
    "\n",
    "    def __len__(self) -> int:\n",
    "        return len(self.las.points)\n",
    "\n",
    "    def __getitem__(self, key: int):\n",
    "        ...\n",
    "\n",
    "\n",
    "# FIXME: Rewrite this function as a PointCloud method.\n",
    "@timing\n",
    "def to_gdf(pc: PointCloud) -> gpd.GeoDataFrame:\n",
    "    return gpd.GeoDataFrame({\"id\": np.arange(len(pc)), \"geometry\": gpd.points_from_xy(pc.las.x, pc.las.y)},\n",
    "                            crs=\"EPSG:28992\")\n",
    "\n",
    "\n",
    "# FIXME: Rewrite this function as a PointCloud method.\n",
    "@timing\n",
    "def intersect(pc: PointCloud, objs: gpd.GeoDataFrame) -> np.ndarray:\n",
    "    return to_gdf(pc).overlay(objs)[\"id_1\"].to_numpy()\n",
    "\n",
    "\n",
    "# FIXME: Rewrite this function as a PointCloud method.\n",
    "@timing\n",
    "def triangulate(dt: startinpy.DT, pts: laspy.PackedPointRecord, sc: str = \"z\") -> None:\n",
    "    dt.insert(np.vstack((pts.x, pts.y, pts[sc])).transpose())"
   ],
   "metadata": {
    "collapsed": false,
    "ExecuteTime": {
     "end_time": "2023-12-21T03:05:54.179386300Z",
     "start_time": "2023-12-21T03:05:54.164870400Z"
    }
   },
   "id": "548a90cb376094fb"
  },
  {
   "cell_type": "code",
   "execution_count": 3,
   "outputs": [],
   "source": [
    "# class BufferableGeoDataFrame(gpd.GeoDataFrame):\n",
    "#     def __init__(self, *args, **kwargs) -> None:\n",
    "#         super().__init__()\n",
    "# \n",
    "#     def buffer(self, *args, **kwargs) -> None:\n",
    "#         ...\n",
    "\n",
    "@timing\n",
    "def __init__(filename: str) -> gpd.GeoDataFrame:\n",
    "    return gpd.read_file(filename)\n",
    "\n",
    "\n",
    "@timing\n",
    "# TODO: Review the various buffer options.\n",
    "# TODO: Rewrite this function as an appropriate class method.\n",
    "def buffer(objs: gpd.GeoDataFrame, dist: float = 10) -> None:\n",
    "    objs[\"geometry\"] = objs[\"geometry\"].buffer(dist)"
   ],
   "metadata": {
    "collapsed": false,
    "ExecuteTime": {
     "end_time": "2023-12-21T03:05:54.180386200Z",
     "start_time": "2023-12-21T03:05:54.170420600Z"
    }
   },
   "id": "7840663c63c1bac"
  },
  {
   "cell_type": "markdown",
   "source": [
    "## Step 1\n",
    "Load the point cloud into memory."
   ],
   "metadata": {
    "collapsed": false
   },
   "id": "e916cbd201c518a8"
  },
  {
   "cell_type": "code",
   "execution_count": 4,
   "outputs": [
    {
     "name": "stdout",
     "output_type": "stream",
     "text": [
      "func __init__ :-> 275 ms\n"
     ]
    }
   ],
   "source": [
    "pc = PointCloud(\"../aula.LAZ\")"
   ],
   "metadata": {
    "collapsed": false,
    "ExecuteTime": {
     "end_time": "2023-12-21T03:05:54.461223300Z",
     "start_time": "2023-12-21T03:05:54.175388900Z"
    }
   },
   "id": "5eb5b746d283a153"
  },
  {
   "cell_type": "markdown",
   "source": [
    "## Step 2\n",
    "Load the building footprints into memory."
   ],
   "metadata": {
    "collapsed": false
   },
   "id": "c7fe307e154c1d3c"
  },
  {
   "cell_type": "code",
   "execution_count": 5,
   "outputs": [
    {
     "name": "stdout",
     "output_type": "stream",
     "text": [
      "func __init__ :-> 182 ms\n"
     ]
    }
   ],
   "source": [
    "fps = __init__(\"C:/Documents/RoofSense/data/temp/9-284-556.buildings.gpkg\")"
   ],
   "metadata": {
    "collapsed": false,
    "ExecuteTime": {
     "end_time": "2023-12-21T03:05:54.648427800Z",
     "start_time": "2023-12-21T03:05:54.457226300Z"
    }
   },
   "id": "364ede887fa959cd"
  },
  {
   "cell_type": "markdown",
   "source": [
    "## Step 3\n",
    "Buffer the footprints by 10 m.\n",
    "\n",
    "NOTE: The buffer distance is selected such that most if not all the natural neighbors of \n",
    "      the points along the footprint edges are included in the subsequent steps."
   ],
   "metadata": {
    "collapsed": false
   },
   "id": "79d54e36b38a0e7b"
  },
  {
   "cell_type": "code",
   "execution_count": 6,
   "outputs": [
    {
     "name": "stdout",
     "output_type": "stream",
     "text": [
      "func buffer :-> 64 ms\n"
     ]
    }
   ],
   "source": [
    "buffer(fps)"
   ],
   "metadata": {
    "collapsed": false,
    "ExecuteTime": {
     "end_time": "2023-12-21T03:05:54.713354200Z",
     "start_time": "2023-12-21T03:05:54.641427900Z"
    }
   },
   "id": "f06ed91f3932d9a7"
  },
  {
   "cell_type": "markdown",
   "source": [
    "## Step 3\n",
    "Intersect the point cloud with the buffers."
   ],
   "metadata": {
    "collapsed": false
   },
   "id": "3182f01a5065379d"
  },
  {
   "cell_type": "code",
   "execution_count": 7,
   "outputs": [
    {
     "name": "stdout",
     "output_type": "stream",
     "text": [
      "func to_gdf :-> 2320 ms\n",
      "func intersect :-> 33488 ms\n"
     ]
    }
   ],
   "source": [
    "ids = intersect(pc, fps)"
   ],
   "metadata": {
    "collapsed": false,
    "ExecuteTime": {
     "end_time": "2023-12-21T03:06:28.208871300Z",
     "start_time": "2023-12-21T03:05:54.709354800Z"
    }
   },
   "id": "c6d4240eb0d1a706"
  },
  {
   "cell_type": "markdown",
   "source": [
    "Filter the point cloud and detach the point records which are required in the subsequent\n",
    "steps."
   ],
   "metadata": {
    "collapsed": false
   },
   "id": "b8549980f9dc4935"
  },
  {
   "cell_type": "code",
   "execution_count": 8,
   "outputs": [],
   "source": [
    "# FIXME: Integrate this operation into the intersection step.\n",
    "# TODO: Overwrite the original point cloud?\n",
    "pts = pc.las.points[ids]\n",
    "pts = np.vstack((pts.x, pts.y,  \n",
    "                 # NOTE: The point elevation must be used instead of e.g., reflectance\n",
    "                 #       because it is required in the subsequent steps.\n",
    "                 pts.z)).transpose()"
   ],
   "metadata": {
    "collapsed": false,
    "ExecuteTime": {
     "end_time": "2023-12-21T03:06:28.455328300Z",
     "start_time": "2023-12-21T03:06:28.202349500Z"
    }
   },
   "id": "c8df46c48eb0d8b6"
  },
  {
   "cell_type": "markdown",
   "source": [
    "## Step 4\n",
    "Compute the Delaunay triangulation of the remaining points."
   ],
   "metadata": {
    "collapsed": false
   },
   "id": "4ebb7d620ce6ce9"
  },
  {
   "cell_type": "code",
   "execution_count": 9,
   "outputs": [],
   "source": [
    "dt = startinpy.DT()\n",
    "# NOTE: The snap tolerance cannot be set to zero (i.e., disabled) so the nearest \n",
    "#       distinct value is used.\n",
    "dt.snap_tolerance = math.ulp(0)\n",
    "\n",
    "# FIXME: Enrich this comment.\n",
    "# Maintain a list the order of the \"duplicate\" vertices in the DT and the PC.\n",
    "# FIXME: Think of better variable names.\n",
    "b_idx = {}\n",
    "# NOTE: This lookup table serves as a link between the DT and the PC and can thus be\n",
    "#       used to query all vertex attributes given its ID in the DT.\n",
    "g_idx = {}\n",
    "\n",
    "# FIXME: Think of better variable names.\n",
    "cnd_id: int  # The ID of a candidate vertex before it is inserted into the DT.\n",
    "tnt_id: int  # The ID of a candidate vertex assuming it will be inserted into the DT.\n",
    "act_id: int  # The ID of a candidate vertex in the DT.\n",
    "\n",
    "tnt_id = 1\n",
    "for cnd_id, cnd_pt in enumerate(pts):\n",
    "    act_id = dt.insert_one_pt(*cnd_pt)\n",
    "    if tnt_id == act_id:\n",
    "        g_idx[act_id] = cnd_id\n",
    "        tnt_id += 1\n",
    "    else:\n",
    "        b_idx[act_id] = cnd_id\n",
    "\n",
    "# Cache the result because this array is compiled on demand.\n",
    "dt2_pts = dt.points\n",
    "for act_id, cnd_id in b_idx.items():\n",
    "    if dt2_pts[act_id][2] > pts[cnd_id][2]:\n",
    "        dt.remove(act_id)\n",
    "        dt.insert_one_pt(*pts[cnd_id])\n",
    "        # Replace the previous ID of the vertex in the PC with the current one.\n",
    "        g_idx[act_id] = cnd_id"
   ],
   "metadata": {
    "collapsed": false,
    "ExecuteTime": {
     "end_time": "2023-12-21T03:06:37.923379300Z",
     "start_time": "2023-12-21T03:06:28.458328700Z"
    }
   },
   "id": "6000a96d7322459c"
  },
  {
   "cell_type": "markdown",
   "source": [
    "Confirm that the resulting lookup table is correct."
   ],
   "metadata": {
    "collapsed": false
   },
   "id": "3e938773e3170f26"
  },
  {
   "cell_type": "code",
   "execution_count": 10,
   "outputs": [
    {
     "data": {
      "text/plain": "True"
     },
     "execution_count": 10,
     "metadata": {},
     "output_type": "execute_result"
    }
   ],
   "source": [
    "np.allclose(dt.points[1:], pts[list(g_idx.values())])"
   ],
   "metadata": {
    "collapsed": false,
    "ExecuteTime": {
     "end_time": "2023-12-21T03:06:38.243343600Z",
     "start_time": "2023-12-21T03:06:37.924379100Z"
    }
   },
   "id": "567611dc1bd9ebd8"
  },
  {
   "cell_type": "markdown",
   "source": [
    "## Step 5\n",
    " Estimate the slope field of the corresponding network.\n"
   ],
   "metadata": {
    "collapsed": false
   },
   "id": "1acda9b25193f2fa"
  },
  {
   "cell_type": "code",
   "execution_count": 11,
   "outputs": [],
   "source": [
    "# TODO"
   ],
   "metadata": {
    "collapsed": false,
    "ExecuteTime": {
     "end_time": "2023-12-21T03:06:38.256121100Z",
     "start_time": "2023-12-21T03:06:38.244344300Z"
    }
   },
   "id": "2a4ab4ba6f8d5053"
  },
  {
   "cell_type": "markdown",
   "source": [
    "## Step 6\n",
    " Rasterize the slope and reflectance fields of the corresponding network."
   ],
   "metadata": {
    "collapsed": false
   },
   "id": "e185553d6a7ec93f"
  },
  {
   "cell_type": "code",
   "execution_count": 12,
   "outputs": [],
   "source": [
    "# FIXME: Promote this constant to an environment variable.\n",
    "GRID_SIZE = 0.25\n",
    "\n",
    "# FIXME: Rewrite the following cells as Raster methods.\n",
    "# Initialize the raster grid.\n",
    "grid = raster.Raster(GRID_SIZE, dt.get_bbox())\n",
    "\n",
    "# Gather the center coordinates of the grid cells.\n",
    "cnts = []\n",
    "for row in range((grid.len_y - 1), -1, -1):\n",
    "    y = grid.bbox[1] + (row * GRID_SIZE) + (0.5 * GRID_SIZE)\n",
    "    for col in range(grid.len_x):\n",
    "        x = grid.bbox[0] + (col * GRID_SIZE) + (0.5 * GRID_SIZE)\n",
    "        cnts.append([x, y])\n",
    "\n",
    "# Interpolate the field values at the cell centers.\n",
    "vals = dt.interpolate({\"method\": \"Laplace\"}, cnts)\n",
    "\n",
    "# Populate the raster.\n",
    "grid._Raster__data = vals.reshape((grid.len_y, grid.len_x))\n",
    "\n",
    "# Save the raster.\n",
    "grid.save(\"../aula_z.tiff\")"
   ],
   "metadata": {
    "collapsed": false,
    "ExecuteTime": {
     "end_time": "2023-12-21T03:08:36.023812200Z",
     "start_time": "2023-12-21T03:06:38.251124300Z"
    }
   },
   "id": "87674224aafa3e61"
  },
  {
   "cell_type": "markdown",
   "source": [],
   "metadata": {
    "collapsed": false
   },
   "id": "929bc913cd9f5eb2"
  }
 ],
 "metadata": {
  "kernelspec": {
   "display_name": "Python 3",
   "language": "python",
   "name": "python3"
  },
  "language_info": {
   "codemirror_mode": {
    "name": "ipython",
    "version": 2
   },
   "file_extension": ".py",
   "mimetype": "text/x-python",
   "name": "python",
   "nbconvert_exporter": "python",
   "pygments_lexer": "ipython2",
   "version": "2.7.6"
  }
 },
 "nbformat": 4,
 "nbformat_minor": 5
}
