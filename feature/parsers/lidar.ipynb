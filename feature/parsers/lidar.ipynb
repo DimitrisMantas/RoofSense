{
 "cells": [
  {
   "cell_type": "code",
   "execution_count": 99,
   "id": "initial_id",
   "metadata": {
    "collapsed": true,
    "ExecuteTime": {
     "end_time": "2024-01-06T23:16:03.680571300Z",
     "start_time": "2024-01-06T23:16:03.672445Z"
    }
   },
   "outputs": [],
   "source": [
    "\n",
    "\n",
    "import geopandas as gpd\n",
    "import numpy as np\n",
    "\n",
    "from feature.utils import timing\n",
    "from parsers.utils import pcloud\n",
    "from parsers.utils import raster"
   ]
  },
  {
   "cell_type": "code",
   "execution_count": 100,
   "outputs": [],
   "source": [
    "# class BufferableGeoDataFrame(gpd.GeoDataFrame):\n",
    "#     def __init__(self, *args, **kwargs) -> None:\n",
    "#         super().__init__()\n",
    "# \n",
    "#     def buffer(self, *args, **kwargs) -> None:\n",
    "#         ...\n",
    "\n",
    "@timing\n",
    "def __init__(filename: str) -> gpd.GeoDataFrame:\n",
    "    return gpd.read_file(filename)\n",
    "\n",
    "\n",
    "@timing\n",
    "# TODO: Review the various buffer options.\n",
    "# TODO: Rewrite this function as an appropriate class method.\n",
    "def buffer(objs: gpd.GeoDataFrame, dist: float = 10) -> None:\n",
    "    objs[\"geometry\"] = objs[\"geometry\"].buffer(dist)"
   ],
   "metadata": {
    "collapsed": false,
    "ExecuteTime": {
     "end_time": "2024-01-06T23:16:05.716581200Z",
     "start_time": "2024-01-06T23:16:05.705969300Z"
    }
   },
   "id": "7840663c63c1bac"
  },
  {
   "cell_type": "markdown",
   "source": [
    "## Step 1\n",
    "Load the point cloud into memory."
   ],
   "metadata": {
    "collapsed": false
   },
   "id": "e916cbd201c518a8"
  },
  {
   "cell_type": "code",
   "execution_count": 101,
   "outputs": [
    {
     "name": "stdout",
     "output_type": "stream",
     "text": [
      "func __init__ :-> 352 ms\n"
     ]
    }
   ],
   "source": [
    "pc = pcloud.PointCloud(\"../aula.LAZ\")"
   ],
   "metadata": {
    "collapsed": false,
    "ExecuteTime": {
     "end_time": "2024-01-06T23:16:06.844117600Z",
     "start_time": "2024-01-06T23:16:06.467578600Z"
    }
   },
   "id": "5eb5b746d283a153"
  },
  {
   "cell_type": "markdown",
   "source": [
    "## Step 2\n",
    "Load the building footprints into memory."
   ],
   "metadata": {
    "collapsed": false
   },
   "id": "c7fe307e154c1d3c"
  },
  {
   "cell_type": "code",
   "execution_count": 102,
   "outputs": [
    {
     "name": "stdout",
     "output_type": "stream",
     "text": [
      "func __init__ :-> 230 ms\n"
     ]
    }
   ],
   "source": [
    "fps = __init__(\"C:/Documents/RoofSense/data/temp/9-284-556.buildings.gpkg\")"
   ],
   "metadata": {
    "collapsed": false,
    "ExecuteTime": {
     "end_time": "2024-01-06T23:16:08.220844700Z",
     "start_time": "2024-01-06T23:16:07.969604100Z"
    }
   },
   "id": "364ede887fa959cd"
  },
  {
   "cell_type": "markdown",
   "source": [
    "## Step 3\n",
    "Buffer the footprints by 10 m.\n",
    "\n",
    "NOTE: The buffer distance is selected such that most if not all the natural neighbors of \n",
    "      the points along the footprint edges are included in the subsequent steps."
   ],
   "metadata": {
    "collapsed": false
   },
   "id": "79d54e36b38a0e7b"
  },
  {
   "cell_type": "code",
   "execution_count": 103,
   "outputs": [
    {
     "name": "stdout",
     "output_type": "stream",
     "text": [
      "func buffer :-> 90 ms\n"
     ]
    }
   ],
   "source": [
    "buffer(fps)"
   ],
   "metadata": {
    "collapsed": false,
    "ExecuteTime": {
     "end_time": "2024-01-06T23:16:09.704204900Z",
     "start_time": "2024-01-06T23:16:09.610344700Z"
    }
   },
   "id": "f06ed91f3932d9a7"
  },
  {
   "cell_type": "markdown",
   "source": [
    "## Step 4\n",
    "Intersect the point cloud with the buffers."
   ],
   "metadata": {
    "collapsed": false
   },
   "id": "3182f01a5065379d"
  },
  {
   "cell_type": "code",
   "execution_count": 104,
   "outputs": [
    {
     "name": "stdout",
     "output_type": "stream",
     "text": [
      "func intersect :-> 33833 ms\n"
     ]
    }
   ],
   "source": [
    "ids = pc.intersect(fps)"
   ],
   "metadata": {
    "collapsed": false,
    "ExecuteTime": {
     "end_time": "2024-01-06T23:16:45.115373100Z",
     "start_time": "2024-01-06T23:16:11.278148900Z"
    }
   },
   "id": "c6d4240eb0d1a706"
  },
  {
   "cell_type": "code",
   "outputs": [],
   "source": [
    "pc.las.points = pc.las.points[ids]"
   ],
   "metadata": {
    "collapsed": false,
    "ExecuteTime": {
     "end_time": "2024-01-06T23:16:45.390948900Z",
     "start_time": "2024-01-06T23:16:45.117376Z"
    }
   },
   "id": "8dc5c87f6d84e7ad",
   "execution_count": 105
  },
  {
   "cell_type": "markdown",
   "source": [
    "## Step 5\n",
    "Compute the Delaunay triangulation of the remaining points."
   ],
   "metadata": {
    "collapsed": false
   },
   "id": "4ebb7d620ce6ce9"
  },
  {
   "cell_type": "code",
   "execution_count": 106,
   "outputs": [
    {
     "name": "stdout",
     "output_type": "stream",
     "text": [
      "func triangulate :-> 9182 ms\n"
     ]
    }
   ],
   "source": [
    "pc.triangulate()"
   ],
   "metadata": {
    "collapsed": false,
    "ExecuteTime": {
     "end_time": "2024-01-06T23:16:54.577446700Z",
     "start_time": "2024-01-06T23:16:45.391950900Z"
    }
   },
   "id": "6000a96d7322459c"
  },
  {
   "cell_type": "markdown",
   "source": [
    "## Step 6\n",
    " Estimate the slope field of the corresponding network."
   ],
   "metadata": {
    "collapsed": false
   },
   "id": "1acda9b25193f2fa"
  },
  {
   "cell_type": "markdown",
   "source": [
    "TODO"
   ],
   "metadata": {
    "collapsed": false
   },
   "id": "8b2aef8440222114"
  },
  {
   "cell_type": "code",
   "execution_count": 107,
   "outputs": [],
   "source": [
    "# TOSELF: Promote this argument to an environment variable?\n",
    "CELL_SIZE = 0.25\n",
    "\n",
    "grid = raster.Raster(CELL_SIZE, pc.dt.get_bbox())\n",
    "\n",
    "# FIXME: Integrate this block into the Raster initializer.\n",
    "# Construct the grid.\n",
    "# TODO: Add documentation.\n",
    "rows, cols = np.mgrid[grid.height - 1:-1:-1, 0:grid.width]\n",
    "# TODO: Add documentation.\n",
    "xx = grid._bbox[0] + CELL_SIZE * (cols + 0.5)\n",
    "yy = grid._bbox[1] + CELL_SIZE * (rows + 0.5)\n",
    "# TODO: Add documentation.\n",
    "cells = np.column_stack([xx.ravel(), yy.ravel()])"
   ],
   "metadata": {
    "collapsed": false,
    "ExecuteTime": {
     "end_time": "2024-01-06T23:16:54.655706300Z",
     "start_time": "2024-01-06T23:16:54.579451300Z"
    }
   },
   "id": "ed9854112d57cb"
  },
  {
   "cell_type": "markdown",
   "source": [
    "TODO"
   ],
   "metadata": {
    "collapsed": false
   },
   "id": "5c1d49d95552f2f4"
  },
  {
   "cell_type": "code",
   "execution_count": null,
   "outputs": [],
   "source": [
    "# TODO: Speed up this block.\n",
    "# TOSELF: Compute the slope for all faces to avoid additional calls to dt.locate?\n",
    "valid_cells = []\n",
    "valid_faces = []\n",
    "for i, center in enumerate(cells):\n",
    "    try:\n",
    "        valid_faces.append(pc.dt.locate(*center))\n",
    "    except Exception:\n",
    "        continue\n",
    "    valid_cells.append(i)\n",
    "\n",
    "# TOSELF: Discard duplicate faces?\n",
    "# valid_faces = np.unique(valid_faces, axis=0)"
   ],
   "metadata": {
    "collapsed": false,
    "ExecuteTime": {
     "start_time": "2024-01-06T23:15:47.925882300Z"
    }
   },
   "id": "2a4ab4ba6f8d5053"
  },
  {
   "cell_type": "code",
   "execution_count": null,
   "outputs": [],
   "source": [
    "# TODO: Add documentation.\n",
    "dt_pts = pc.dt.points\n",
    "valid_faces = np.array(valid_faces)\n",
    "v1 = dt_pts[valid_faces[:, 0]]\n",
    "v2 = dt_pts[valid_faces[:, 1]]\n",
    "v3 = dt_pts[valid_faces[:, 2]]\n",
    "\n",
    "u = v2 - v1\n",
    "v = v3 - v1\n",
    "\n",
    "n = np.cross(u, v)\n",
    "n = n / np.linalg.norm(n, axis=1)[:, None]\n",
    "\n",
    "z = np.array([0, 0, 1])\n",
    "s = np.degrees(np.arccos(np.dot(n, z)))"
   ],
   "metadata": {
    "collapsed": false,
    "ExecuteTime": {
     "start_time": "2024-01-06T23:15:47.927084300Z"
    }
   },
   "id": "d1ba336a8b385c07"
  },
  {
   "cell_type": "code",
   "outputs": [],
   "source": [
    "grid._data[np.divmod(valid_cells, grid.width)] = s\n",
    "grid.save(\"../aula_slpe.tiff\")"
   ],
   "metadata": {
    "collapsed": false,
    "ExecuteTime": {
     "start_time": "2024-01-06T23:15:47.929075100Z"
    }
   },
   "id": "4ae0726e50840615",
   "execution_count": null
  },
  {
   "cell_type": "markdown",
   "source": [
    "## Step 6\n",
    " Rasterize the slope and reflectance fields of the corresponding network."
   ],
   "metadata": {
    "collapsed": false
   },
   "id": "e185553d6a7ec93f"
  },
  {
   "cell_type": "code",
   "execution_count": null,
   "outputs": [],
   "source": [
    "# Interpolate the field values at the cell centers.\n",
    "vals = pc.dt.interpolate({\"method\": \"Laplace\"}, cells)"
   ],
   "metadata": {
    "collapsed": false,
    "ExecuteTime": {
     "start_time": "2024-01-06T23:15:47.930074900Z"
    }
   },
   "id": "87674224aafa3e61"
  },
  {
   "cell_type": "code",
   "outputs": [],
   "source": [
    "# Populate the raster.\n",
    "grid._data = vals.reshape((grid.height, grid.width))\n",
    "\n",
    "# Save the raster.\n",
    "grid.save(\"../aula_elev.tiff\")"
   ],
   "metadata": {
    "collapsed": false,
    "ExecuteTime": {
     "start_time": "2024-01-06T23:15:47.931077900Z"
    }
   },
   "id": "361fa59f69e3e9f5",
   "execution_count": null
  },
  {
   "cell_type": "code",
   "outputs": [],
   "source": [
    "import math\n",
    "\n",
    "import numpy as np\n",
    "import startinpy\n",
    "\n",
    "\n",
    "def laplace(dt: startinpy.DT, x: float, y: float) -> tuple[list[int], list[float]]:\n",
    "    num = dt.number_of_vertices()\n",
    "    if not num:\n",
    "        raise RuntimeError(\"The triangulation does not contain any vertices.\")\n",
    "\n",
    "    try:\n",
    "        dt.locate(x, y)\n",
    "    except Exception:\n",
    "        raise ValueError(\n",
    "            f\"The interpolation point ({x, y}) is located outside the convex hull of \"\n",
    "            f\"the triangulation.\"\n",
    "        )\n",
    "\n",
    "    idx = dt.insert_one_pt(x, \n",
    "                           y, \n",
    "                           0)\n",
    "    # The point was inserted at the same location as an existing vertex.\n",
    "    if dt.number_of_vertices() == num:\n",
    "        # return [idx], [1]\n",
    "        return dt.points[idx][2]\n",
    "    if dt.is_vertex_convex_hull(idx):\n",
    "        dt.remove(idx)\n",
    "        raise ValueError(\n",
    "            f\"The interpolation point ({x, y}) is located on the boundary of the \"\n",
    "            f\"convex hull of the triangulation.\"\n",
    "        )\n",
    "\n",
    "    pts = dt.points\n",
    "    trs = dt.incident_triangles_to_vertex(idx)\n",
    "\n",
    "\n",
    "    centers = []\n",
    "    contrib = []\n",
    "    for tr in trs:\n",
    "        centers.append(circumcentre(pts[tr[0]], \n",
    "                                    pts[tr[1]], \n",
    "                                    pts[tr[2]]))\n",
    "        # print(tr)\n",
    "        contrib.append(tr[1])\n",
    "    # print(centers)\n",
    "    centers.append(centers[0])\n",
    "    print(trs)\n",
    "    print(len(contrib))\n",
    "    print(len(centers))\n",
    "    \n",
    "    # contrib.append(contrib[0])\n",
    "    \n",
    "    # print(len(centers),len(contrib))\n",
    "\n",
    "    weights = []\n",
    "    for i in range(len(centers) - 1):\n",
    "        dx = centers[i][0] - centers[i + 1][0]\n",
    "        dy = centers[i][1] - centers[i + 1][1]\n",
    "        e = math.hypot(dx, dy)\n",
    "\n",
    "        dx = pts[idx][0] - pts[contrib[i]][0]\n",
    "        dy = pts[idx][1] - pts[contrib[i]][1]\n",
    "        w = math.hypot(dx, dy)\n",
    "\n",
    "        weights.append(e / w)\n",
    "    print(i)\n",
    "    print()\n",
    "\n",
    "    dt.remove(idx)\n",
    "    # return contrib,weights\n",
    "    con = []\n",
    "    for c in contrib:\n",
    "        con.append(pts[c][2])\n",
    "    weights = np.array(weights)\n",
    "    con = np.array(con)\n",
    "    return np.sum(con * weights) / np.sum(weights)\n",
    "\n",
    "    \n",
    "    \n",
    "    \n",
    "def circumcentre(a, b, c):\n",
    "    A = det3x3(a[0], a[1], 1, b[0], b[1], 1, c[0], c[1], 1)\n",
    "    B = det3x3(\n",
    "        a[0] * a[0] + a[1] * a[1],\n",
    "        a[1],\n",
    "        1,\n",
    "        b[0] * b[0] + b[1] * b[1],\n",
    "        b[1],\n",
    "        1,\n",
    "        c[0] * c[0] + c[1] * c[1],\n",
    "        c[1],\n",
    "        1,\n",
    "    )\n",
    "    C = det3x3(\n",
    "        a[0] * a[0] + a[1] * a[1],\n",
    "        a[0],\n",
    "        1,\n",
    "        b[0] * b[0] + b[1] * b[1],\n",
    "        b[0],\n",
    "        1,\n",
    "        c[0] * c[0] + c[1] * c[1],\n",
    "        c[0],\n",
    "        1,\n",
    "    )\n",
    "    x = +B / (2 * A)\n",
    "    y = -C / (2 * A)\n",
    "    return x, y\n",
    "\n",
    "\n",
    "def det3x3(ax, ay, az, bx, by, bz, cx, cy, cz):\n",
    "    temp1 = ax * (by * cz - bz * cy)\n",
    "    temp2 = ay * (bx * cz - bz * cx)\n",
    "    temp3 = az * (bx * cy - by * cx)\n",
    "    return temp1 - temp2 + temp3\n"
   ],
   "metadata": {
    "collapsed": false,
    "ExecuteTime": {
     "end_time": "2024-01-06T23:18:09.314357Z",
     "start_time": "2024-01-06T23:18:09.305160200Z"
    }
   },
   "id": "7d3975c4c04c8a67",
   "execution_count": 112
  },
  {
   "cell_type": "code",
   "outputs": [
    {
     "name": "stdout",
     "output_type": "stream",
     "text": [
      "[0.] 0.0\n",
      "[[1922812 1922811 1886338]\n",
      " [1922812 1886338 1886281]\n",
      " [1922812 1886281 1895099]\n",
      " [1922812 1895099 1895051]\n",
      " [1922812 1895051 1895006]\n",
      " [1922812 1895006 1922811]]\n",
      "6\n",
      "7\n",
      "5\n",
      "\n",
      "[-0.26279117] -0.5187361141779409\n",
      "[[1922812 1922811 1895099]\n",
      " [1922812 1895099 1895051]\n",
      " [1922812 1895051 1895006]\n",
      " [1922812 1895006 1922811]]\n",
      "4\n",
      "5\n",
      "3\n",
      "\n",
      "[-0.48812469] -0.48680404200942307\n",
      "[[1922812 1895051 1886229]\n",
      " [1922812 1886229 1922469]\n",
      " [1922812 1922469 1886176]\n",
      " [1922812 1886176 1895006]\n",
      " [1922812 1895006 1895051]]\n",
      "5\n",
      "6\n",
      "4\n",
      "\n",
      "[-0.58373458] -0.6006467430950808\n",
      "[[1922812 1886176 1922469]\n",
      " [1922812 1922469 1886124]\n",
      " [1922812 1886124 1894960]\n",
      " [1922812 1894960 1922514]\n",
      " [1922812 1922514 1886176]]\n",
      "5\n",
      "6\n",
      "4\n",
      "\n",
      "[-0.59512042] -0.5932530132033759\n",
      "[[1922812 1894960 1911686]\n",
      " [1922812 1911686 1886072]\n",
      " [1922812 1886072 1911788]\n",
      " [1922812 1911788 1894918]\n",
      " [1922812 1894918 1894960]]\n",
      "5\n",
      "6\n",
      "4\n",
      "\n",
      "[-0.61290103] -0.6183597335277072\n",
      "[[1922812 1911788 1894917]\n",
      " [1922812 1894917 1922599]\n",
      " [1922812 1922599 1911886]\n",
      " [1922812 1911886 1894877]\n",
      " [1922812 1894877 1911788]]\n",
      "5\n",
      "6\n",
      "4\n",
      "\n",
      "[-0.63718607] -0.6235588587330237\n",
      "[[1922812 1910532 1886717]\n",
      " [1922812 1886717 1886771]\n",
      " [1922812 1886771 1895547]\n",
      " [1922812 1895547 1886718]\n",
      " [1922812 1886718 1910532]]\n",
      "5\n",
      "6\n",
      "4\n",
      "\n",
      "[1.74185499] 1.5776460416369604\n",
      "[[1922812 1895492 1910532]\n",
      " [1922812 1910532 1886718]\n",
      " [1922812 1886718 1895491]\n",
      " [1922812 1895491 1895440]\n",
      " [1922812 1895440 1886663]\n",
      " [1922812 1886663 1895492]]\n",
      "6\n",
      "7\n",
      "5\n",
      "\n",
      "[-0.41811929] -0.38091126645973317\n",
      "[[1922812 1895492 1886663]\n",
      " [1922812 1886663 1895389]\n",
      " [1922812 1895389 1886503]\n",
      " [1922812 1886503 1922811]\n",
      " [1922812 1922811 1895492]]\n",
      "5\n",
      "6\n",
      "4\n",
      "\n",
      "[-0.57006421] -0.5392317786145951\n",
      "[[1922812 1895389 1886612]\n",
      " [1922812 1886612 1886558]\n",
      " [1922812 1886558 1895339]\n",
      " [1922812 1895339 1886503]\n",
      " [1922812 1886503 1922811]\n",
      " [1922812 1922811 1895492]\n",
      " [1922812 1895492 1895389]]\n",
      "7\n",
      "8\n",
      "6\n",
      "\n",
      "[-0.57193768] -0.5632097288625143\n",
      "[[1922812 1895339 1910917]\n",
      " [1922812 1910917 1895290]\n",
      " [1922812 1895290 1886503]\n",
      " [1922812 1886503 1895389]\n",
      " [1922812 1895389 1895339]]\n",
      "5\n",
      "6\n",
      "4\n",
      "\n",
      "[-0.58210362] -0.585375788039539\n",
      "[[1922812 1886503 1895290]\n",
      " [1922812 1895290 1911013]\n",
      " [1922812 1911013 1895242]\n",
      " [1922812 1895242 1886448]\n",
      " [1922812 1886448 1895194]\n",
      " [1922812 1895194 1886393]\n",
      " [1922812 1886393 1886503]]\n",
      "7\n",
      "8\n",
      "6\n",
      "\n",
      "[-0.58226559] -0.5854716831816521\n",
      "[[1922812 1886393 1886503]\n",
      " [1922812 1886503 1886448]\n",
      " [1922812 1886448 1895194]\n",
      " [1922812 1895194 1886393]]\n",
      "4\n",
      "5\n",
      "3\n",
      "\n",
      "[-0.59908145] -0.5842350106505392\n",
      "[[1922812 1922289 1886393]\n",
      " [1922812 1886393 1895194]\n",
      " [1922812 1895194 1922241]\n",
      " [1922812 1922241 1886339]\n",
      " [1922812 1886339 1895146]\n",
      " [1922812 1895146 1922289]]\n",
      "6\n",
      "7\n",
      "5\n",
      "\n",
      "[-0.60640258] -0.6028365954282249\n",
      "[[1922812 1886281 1895146]\n",
      " [1922812 1895146 1886282]\n",
      " [1922812 1886282 1895145]\n",
      " [1922812 1895145 1895098]\n",
      " [1922812 1895098 1911398]\n",
      " [1922812 1911398 1886281]]\n",
      "6\n",
      "7\n",
      "5\n",
      "\n",
      "[-0.61058896] -0.610584698061392\n",
      "[[1922812 1895099 1886281]\n",
      " [1922812 1886281 1895098]\n",
      " [1922812 1895098 1911398]\n",
      " [1922812 1911398 1895050]\n",
      " [1922812 1895050 1886229]\n",
      " [1922812 1886229 1895099]]\n",
      "6\n",
      "7\n",
      "5\n",
      "\n",
      "[-0.62264034] -0.6149556840004421\n",
      "[[1922812 1886177 1922469]\n",
      " [1922812 1922469 1886229]\n",
      " [1922812 1886229 1895050]\n",
      " [1922812 1895050 1922470]\n",
      " [1922812 1922470 1895005]\n",
      " [1922812 1895005 1886177]]\n",
      "6\n",
      "7\n",
      "5\n",
      "\n",
      "[-0.60941084] -0.5938715595177494\n",
      "[0.] 0.0\n",
      "[[1922812 1911787 1886072]\n",
      " [1922812 1886072 1911686]\n",
      " [1922812 1911686 1894959]\n",
      " [1922812 1894959 1886073]\n",
      " [1922812 1886073 1911787]]\n",
      "5\n",
      "6\n",
      "4\n",
      "\n",
      "[-0.60125389] -0.6018669653384926\n",
      "[[1922812 1911885 1886021]\n",
      " [1922812 1886021 1894876]\n",
      " [1922812 1894876 1894917]\n",
      " [1922812 1894917 1911885]]\n",
      "4\n",
      "5\n",
      "3\n",
      "\n",
      "[-0.60885453] -0.6047904656005618\n",
      "[[1922812 1887305 1895993]\n",
      " [1922812 1895993 1895992]\n",
      " [1922812 1895992 1921378]\n",
      " [1922812 1921378 1887184]\n",
      " [1922812 1887184 1895937]\n",
      " [1922812 1895937 1895879]\n",
      " [1922812 1895879 1887305]]\n",
      "7\n",
      "8\n",
      "6\n",
      "\n",
      "[1.14818423] 0.841899233948149\n",
      "[[1922812 1895937 1887184]\n",
      " [1922812 1887184 1909779]\n",
      " [1922812 1909779 1895881]\n",
      " [1922812 1895881 1895879]\n",
      " [1922812 1895879 1895937]]\n",
      "5\n",
      "6\n",
      "4\n",
      "\n",
      "[0.38071722] 1.0662863048298525\n",
      "[[1922812 1909871 1921532]\n",
      " [1922812 1921532 1887122]\n",
      " [1922812 1887122 1895825]\n",
      " [1922812 1895825 1909871]]\n",
      "4\n",
      "5\n",
      "3\n",
      "\n",
      "[0.06990065] 0.3512378169956494\n",
      "[[1922812 1910055 1887059]\n",
      " [1922812 1887059 1887061]\n",
      " [1922812 1887061 1921586]\n",
      " [1922812 1921586 1910055]]\n",
      "4\n",
      "5\n",
      "3\n",
      "\n",
      "[0.50280904] 0.7182478339754325\n",
      "[[1922812 1886997 1886941]\n",
      " [1922812 1886941 1886942]\n",
      " [1922812 1886942 1910144]\n",
      " [1922812 1910144 1921638]\n",
      " [1922812 1921638 1886997]]\n",
      "5\n",
      "6\n",
      "4\n",
      "\n",
      "[1.80620627] 1.7525187784809202\n",
      "[[1922812 1886940 1886942]\n",
      " [1922812 1886942 1895709]\n",
      " [1922812 1895709 1910242]\n",
      " [1922812 1910242 1895654]\n",
      " [1922812 1895654 1895655]\n",
      " [1922812 1895655 1921742]\n",
      " [1922812 1921742 1886940]]\n",
      "7\n",
      "8\n",
      "6\n",
      "\n",
      "[1.66281142] 0.8049461188774001\n",
      "[[1922812 1910339 1886885]\n",
      " [1922812 1886885 1886828]\n",
      " [1922812 1886828 1895601]\n",
      " [1922812 1895601 1910339]]\n",
      "4\n",
      "5\n",
      "3\n",
      "\n",
      "[0.78266605] 1.414394463544727\n",
      "[[1922812 1886772 1886826]\n",
      " [1922812 1886826 1895601]\n",
      " [1922812 1895601 1886828]\n",
      " [1922812 1886828 1910435]\n",
      " [1922812 1910435 1886772]]\n",
      "5\n",
      "6\n",
      "4\n",
      "\n",
      "[0.42006673] 0.034306888588439235\n",
      "[[1922812 1886718 1895547]\n",
      " [1922812 1895547 1886772]\n",
      " [1922812 1886772 1895546]\n",
      " [1922812 1895546 1895491]\n",
      " [1922812 1895491 1886718]]\n",
      "5\n",
      "6\n",
      "4\n",
      "\n",
      "[-0.49523092] 0.048229998191207504\n",
      "[[1922812 1895492 1910532]\n",
      " [1922812 1910532 1886718]\n",
      " [1922812 1886718 1895546]\n",
      " [1922812 1895546 1895491]\n",
      " [1922812 1895491 1895440]\n",
      " [1922812 1895440 1886663]\n",
      " [1922812 1886663 1895492]]\n",
      "7\n",
      "8\n",
      "6\n",
      "\n",
      "[-0.48828592] -0.44676970265255833\n",
      "[[1922812 1886612 1895389]\n",
      " [1922812 1895389 1886663]\n",
      " [1922812 1886663 1895440]\n",
      " [1922812 1895440 1886664]\n",
      " [1922812 1886664 1886613]\n",
      " [1922812 1886613 1910821]\n",
      " [1922812 1910821 1886612]]\n",
      "7\n",
      "8\n",
      "6\n",
      "\n",
      "[-0.56160213] -0.5622367655566906\n",
      "[[1922812 1922042 1886558]\n",
      " [1922812 1886558 1886612]\n",
      " [1922812 1886612 1910821]\n",
      " [1922812 1910821 1895388]\n",
      " [1922812 1895388 1886559]\n",
      " [1922812 1886559 1895338]\n",
      " [1922812 1895338 1922042]]\n",
      "7\n",
      "8\n",
      "6\n",
      "\n",
      "[-0.56045879] -0.5651787243632669\n",
      "[[1922812 1910917 1922042]\n",
      " [1922812 1922042 1895338]\n",
      " [1922812 1895338 1886504]\n",
      " [1922812 1886504 1895290]\n",
      " [1922812 1895290 1910917]]\n",
      "5\n",
      "6\n",
      "4\n",
      "\n",
      "[-0.57367312] -0.5801111519866774\n",
      "[[1922812 1911013 1895290]\n",
      " [1922812 1895290 1886504]\n",
      " [1922812 1886504 1911012]\n",
      " [1922812 1911012 1886449]\n",
      " [1922812 1886449 1911109]\n",
      " [1922812 1911109 1911013]]\n",
      "6\n",
      "7\n",
      "5\n",
      "\n",
      "[-0.57160935] -0.5666138093027302\n",
      "[[1922812 1911109 1895241]\n",
      " [1922812 1895241 1886395]\n",
      " [1922812 1886395 1922194]\n",
      " [1922812 1922194 1886394]\n",
      " [1922812 1886394 1895194]\n",
      " [1922812 1895194 1886448]\n",
      " [1922812 1886448 1911109]]\n",
      "7\n",
      "8\n",
      "6\n",
      "\n",
      "[-0.61091187] -0.6185711497710346\n",
      "[[1922812 1886339 1895193]\n",
      " [1922812 1895193 1886282]\n",
      " [1922812 1886282 1886339]]\n",
      "3\n",
      "4\n",
      "2\n",
      "\n",
      "[-0.60453195] -0.6149127590220992\n",
      "[[1922812 1895146 1886282]\n",
      " [1922812 1886282 1911302]\n",
      " [1922812 1911302 1895145]\n",
      " [1922812 1895145 1886230]\n",
      " [1922812 1886230 1895098]\n",
      " [1922812 1895098 1886281]\n",
      " [1922812 1886281 1895146]]\n",
      "7\n",
      "8\n",
      "6\n",
      "\n",
      "[-0.6364127] -0.649943780324444\n",
      "[[1922812 1886230 1911492]\n",
      " [1922812 1911492 1895098]\n",
      " [1922812 1895098 1895145]\n",
      " [1922812 1895145 1911397]\n",
      " [1922812 1911397 1886230]]\n",
      "5\n",
      "6\n",
      "4\n",
      "\n",
      "[-0.61297794] -0.6091996942661714\n",
      "[[1922812 1911492 1886230]\n",
      " [1922812 1886230 1911586]\n",
      " [1922812 1911586 1886178]\n",
      " [1922812 1886178 1922470]\n",
      " [1922812 1922470 1895050]\n",
      " [1922812 1895050 1911492]]\n",
      "6\n",
      "7\n",
      "5\n",
      "\n",
      "[-0.61758778] -0.6316735135514452\n",
      "[[1922812 1911685 1886125]\n",
      " [1922812 1886125 1922470]\n",
      " [1922812 1922470 1895004]\n",
      " [1922812 1895004 1911684]\n",
      " [1922812 1911684 1922515]\n",
      " [1922812 1922515 1911685]]\n",
      "6\n",
      "7\n",
      "5\n",
      "\n",
      "[-0.64415818] -0.63828212209607\n",
      "[[1922812 1886073 1911685]\n",
      " [1922812 1911685 1922515]\n",
      " [1922812 1922515 1911786]\n",
      " [1922812 1911786 1894958]\n",
      " [1922812 1894958 1911884]\n",
      " [1922812 1911884 1911787]\n",
      " [1922812 1911787 1886073]]\n",
      "7\n",
      "8\n",
      "6\n",
      "\n",
      "[-0.61205816] -0.6170697090479063\n",
      "[[1922812 1894916 1886021]\n",
      " [1922812 1886021 1911884]\n",
      " [1922812 1911884 1922559]\n",
      " [1922812 1922559 1894916]]\n",
      "4\n",
      "5\n",
      "3\n",
      "\n",
      "[-0.60438454] -0.6062916978318408\n",
      "[[1922812 1885973 1894875]\n",
      " [1922812 1894875 1922641]\n",
      " [1922812 1922641 1911978]\n",
      " [1922812 1911978 1922600]\n",
      " [1922812 1922600 1885973]]\n",
      "5\n",
      "6\n",
      "4\n",
      "\n",
      "[-0.58976024] -0.5982550934244466\n",
      "[[1922812 1920869 1920697]\n",
      " [1922812 1920697 1908993]\n",
      " [1922812 1908993 1887688]\n",
      " [1922812 1887688 1920870]\n",
      " [1922812 1920870 1920869]]\n",
      "5\n",
      "6\n",
      "4\n",
      "\n",
      "[1.78108624] 2.169871675576479\n",
      "[[1922812 1909074 1887613]\n",
      " [1922812 1887613 1920948]\n",
      " [1922812 1920948 1909157]\n",
      " [1922812 1909157 1887552]\n",
      " [1922812 1887552 1909074]]\n",
      "5\n",
      "6\n",
      "4\n",
      "\n",
      "[0.33149678] 0.9758740619427259\n",
      "[[1922812 1909157 1896275]\n",
      " [1922812 1896275 1921092]\n",
      " [1922812 1921092 1887552]\n",
      " [1922812 1887552 1909157]]\n",
      "4\n",
      "5\n",
      "3\n",
      "\n",
      "[2.23255834] 2.2041644830786886\n",
      "[[1922812 1921091 1896223]\n",
      " [1922812 1896223 1887435]\n",
      " [1922812 1887435 1921160]\n",
      " [1922812 1921160 1921091]]\n",
      "4\n",
      "5\n",
      "3\n",
      "\n",
      "[1.98100495] 1.8962328759464564\n",
      "[[1922812 1896105 1896109]\n",
      " [1922812 1896109 1896106]\n",
      " [1922812 1896106 1909408]\n",
      " [1922812 1909408 1896168]\n",
      " [1922812 1896168 1887435]\n",
      " [1922812 1887435 1896164]\n",
      " [1922812 1896164 1896105]]\n",
      "7\n",
      "8\n",
      "6\n",
      "\n",
      "[1.54182361] 0.8312978492124596\n",
      "[[1922812 1909501 1887372]\n",
      " [1922812 1887372 1896109]\n",
      " [1922812 1896109 1896105]\n",
      " [1922812 1896105 1909500]\n",
      " [1922812 1909500 1887373]\n",
      " [1922812 1887373 1909592]\n",
      " [1922812 1909592 1896052]\n",
      " [1922812 1896052 1909501]]\n",
      "8\n",
      "9\n",
      "7\n",
      "\n",
      "[1.15969843] 1.0662411531123437\n",
      "[[1922812 1887310 1921326]\n",
      " [1922812 1921326 1896052]\n",
      " [1922812 1896052 1896048]\n",
      " [1922812 1896048 1887306]\n",
      " [1922812 1887306 1909685]\n",
      " [1922812 1909685 1887242]\n",
      " [1922812 1887242 1909686]\n",
      " [1922812 1909686 1887310]]\n",
      "8\n",
      "9\n",
      "7\n",
      "\n",
      "[1.5262604] 2.0273557117124756\n"
     ]
    },
    {
     "ename": "KeyboardInterrupt",
     "evalue": "",
     "output_type": "error",
     "traceback": [
      "\u001B[1;31m---------------------------------------------------------------------------\u001B[0m",
      "\u001B[1;31mKeyboardInterrupt\u001B[0m                         Traceback (most recent call last)",
      "Cell \u001B[1;32mIn[113], line 7\u001B[0m\n\u001B[0;32m      5\u001B[0m \u001B[38;5;28;01mtry\u001B[39;00m:\n\u001B[0;32m      6\u001B[0m     expect\u001B[38;5;241m=\u001B[39mpc\u001B[38;5;241m.\u001B[39mdt\u001B[38;5;241m.\u001B[39minterpolate({\u001B[38;5;124m\"\u001B[39m\u001B[38;5;124mmethod\u001B[39m\u001B[38;5;124m\"\u001B[39m: \u001B[38;5;124m\"\u001B[39m\u001B[38;5;124mLaplace\u001B[39m\u001B[38;5;124m\"\u001B[39m},[cell])\n\u001B[1;32m----> 7\u001B[0m     actual\u001B[38;5;241m=\u001B[39m\u001B[43mlaplace\u001B[49m\u001B[43m(\u001B[49m\u001B[43mpc\u001B[49m\u001B[38;5;241;43m.\u001B[39;49m\u001B[43mdt\u001B[49m\u001B[43m,\u001B[49m\u001B[43m \u001B[49m\u001B[38;5;241;43m*\u001B[39;49m\u001B[43mcell\u001B[49m\u001B[43m)\u001B[49m\n\u001B[0;32m      8\u001B[0m     \u001B[38;5;28mprint\u001B[39m(expect,actual)\n\u001B[0;32m      9\u001B[0m \u001B[38;5;28;01mexcept\u001B[39;00m (\u001B[38;5;167;01mRuntimeError\u001B[39;00m, \u001B[38;5;167;01mValueError\u001B[39;00m) \u001B[38;5;28;01mas\u001B[39;00m e:\n",
      "Cell \u001B[1;32mIn[112], line 41\u001B[0m, in \u001B[0;36mlaplace\u001B[1;34m(dt, x, y)\u001B[0m\n\u001B[0;32m     39\u001B[0m contrib \u001B[38;5;241m=\u001B[39m []\n\u001B[0;32m     40\u001B[0m \u001B[38;5;28;01mfor\u001B[39;00m tr \u001B[38;5;129;01min\u001B[39;00m trs:\n\u001B[1;32m---> 41\u001B[0m     centers\u001B[38;5;241m.\u001B[39mappend(\u001B[43mcircumcentre\u001B[49m\u001B[43m(\u001B[49m\u001B[43mpts\u001B[49m\u001B[43m[\u001B[49m\u001B[43mtr\u001B[49m\u001B[43m[\u001B[49m\u001B[38;5;241;43m0\u001B[39;49m\u001B[43m]\u001B[49m\u001B[43m]\u001B[49m\u001B[43m,\u001B[49m\u001B[43m \u001B[49m\n\u001B[0;32m     42\u001B[0m \u001B[43m                                \u001B[49m\u001B[43mpts\u001B[49m\u001B[43m[\u001B[49m\u001B[43mtr\u001B[49m\u001B[43m[\u001B[49m\u001B[38;5;241;43m1\u001B[39;49m\u001B[43m]\u001B[49m\u001B[43m]\u001B[49m\u001B[43m,\u001B[49m\u001B[43m \u001B[49m\n\u001B[0;32m     43\u001B[0m \u001B[43m                                \u001B[49m\u001B[43mpts\u001B[49m\u001B[43m[\u001B[49m\u001B[43mtr\u001B[49m\u001B[43m[\u001B[49m\u001B[38;5;241;43m2\u001B[39;49m\u001B[43m]\u001B[49m\u001B[43m]\u001B[49m\u001B[43m)\u001B[49m)\n\u001B[0;32m     44\u001B[0m     \u001B[38;5;66;03m# print(tr)\u001B[39;00m\n\u001B[0;32m     45\u001B[0m     contrib\u001B[38;5;241m.\u001B[39mappend(tr[\u001B[38;5;241m1\u001B[39m])\n",
      "Cell \u001B[1;32mIn[112], line 82\u001B[0m, in \u001B[0;36mcircumcentre\u001B[1;34m(a, b, c)\u001B[0m\n\u001B[0;32m     76\u001B[0m     con \u001B[38;5;241m=\u001B[39m np\u001B[38;5;241m.\u001B[39marray(con)\n\u001B[0;32m     77\u001B[0m     \u001B[38;5;28;01mreturn\u001B[39;00m np\u001B[38;5;241m.\u001B[39msum(con \u001B[38;5;241m*\u001B[39m weights) \u001B[38;5;241m/\u001B[39m np\u001B[38;5;241m.\u001B[39msum(weights)\n\u001B[1;32m---> 82\u001B[0m \u001B[38;5;28;01mdef\u001B[39;00m \u001B[38;5;21mcircumcentre\u001B[39m(a, b, c):\n\u001B[0;32m     83\u001B[0m     A \u001B[38;5;241m=\u001B[39m det3x3(a[\u001B[38;5;241m0\u001B[39m], a[\u001B[38;5;241m1\u001B[39m], \u001B[38;5;241m1\u001B[39m, b[\u001B[38;5;241m0\u001B[39m], b[\u001B[38;5;241m1\u001B[39m], \u001B[38;5;241m1\u001B[39m, c[\u001B[38;5;241m0\u001B[39m], c[\u001B[38;5;241m1\u001B[39m], \u001B[38;5;241m1\u001B[39m)\n\u001B[0;32m     84\u001B[0m     B \u001B[38;5;241m=\u001B[39m det3x3(\n\u001B[0;32m     85\u001B[0m         a[\u001B[38;5;241m0\u001B[39m] \u001B[38;5;241m*\u001B[39m a[\u001B[38;5;241m0\u001B[39m] \u001B[38;5;241m+\u001B[39m a[\u001B[38;5;241m1\u001B[39m] \u001B[38;5;241m*\u001B[39m a[\u001B[38;5;241m1\u001B[39m],\n\u001B[0;32m     86\u001B[0m         a[\u001B[38;5;241m1\u001B[39m],\n\u001B[1;32m   (...)\u001B[0m\n\u001B[0;32m     93\u001B[0m         \u001B[38;5;241m1\u001B[39m,\n\u001B[0;32m     94\u001B[0m     )\n",
      "\u001B[1;31mKeyboardInterrupt\u001B[0m: "
     ]
    }
   ],
   "source": [
    "\n",
    "\n",
    "# own_vals = []\n",
    "for i,cell in enumerate(cells):\n",
    "    # if i==9000:\n",
    "        # break\n",
    "    try:\n",
    "        expect=pc.dt.interpolate({\"method\": \"Laplace\"},[cell])\n",
    "        actual=laplace(pc.dt, *cell)\n",
    "        print(expect,actual)\n",
    "    except (RuntimeError, ValueError) as e:\n",
    "        pass\n",
    "# grid._data = vals.reshape((grid.height, grid.width))\n",
    "# grid.save(\"../aula_elev_own.tiff\")"
   ],
   "metadata": {
    "collapsed": false,
    "ExecuteTime": {
     "end_time": "2024-01-06T23:18:19.188369200Z",
     "start_time": "2024-01-06T23:18:11.645311200Z"
    }
   },
   "id": "cc282531eed1b401",
   "execution_count": 113
  }
 ],
 "metadata": {
  "kernelspec": {
   "display_name": "Python 3",
   "language": "python",
   "name": "python3"
  },
  "language_info": {
   "codemirror_mode": {
    "name": "ipython",
    "version": 2
   },
   "file_extension": ".py",
   "mimetype": "text/x-python",
   "name": "python",
   "nbconvert_exporter": "python",
   "pygments_lexer": "ipython2",
   "version": "2.7.6"
  }
 },
 "nbformat": 4,
 "nbformat_minor": 5
}
