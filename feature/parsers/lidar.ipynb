{
 "cells": [
  {
   "cell_type": "code",
   "execution_count": 91,
   "id": "initial_id",
   "metadata": {
    "collapsed": true,
    "ExecuteTime": {
     "end_time": "2023-12-13T23:19:07.952383200Z",
     "start_time": "2023-12-13T23:19:07.898052900Z"
    }
   },
   "outputs": [],
   "source": [
    "import math\n",
    "\n",
    "import geopandas as gpd\n",
    "import laspy\n",
    "import numpy as np\n",
    "import scipy as sp\n",
    "import startinpy\n",
    "\n",
    "import raster\n",
    "from dev.utils import timing"
   ]
  },
  {
   "cell_type": "code",
   "execution_count": 2,
   "outputs": [],
   "source": [
    "class PointCloud:\n",
    "    def __init__(self, filename: str) -> None:\n",
    "        with laspy.open(filename) as f:\n",
    "            self.las = f.read()\n",
    "\n",
    "    def __len__(self) -> int:\n",
    "        return len(self.las.points)\n",
    "\n",
    "    def __getitem__(self, key: int):\n",
    "        ..."
   ],
   "metadata": {
    "collapsed": false,
    "ExecuteTime": {
     "end_time": "2023-12-13T22:28:46.185688Z",
     "start_time": "2023-12-13T22:28:46.173980500Z"
    }
   },
   "id": "548a90cb376094fb"
  },
  {
   "cell_type": "code",
   "execution_count": 3,
   "outputs": [],
   "source": [
    "class BufferableGeoDataFrame(gpd.GeoDataFrame):\n",
    "    def __init__(self, *args, **kwargs) -> None:\n",
    "        super().__init__()\n",
    "\n",
    "    def buffer(self, *args, **kwargs) -> None:\n",
    "        ..."
   ],
   "metadata": {
    "collapsed": false,
    "ExecuteTime": {
     "end_time": "2023-12-13T22:28:46.214682400Z",
     "start_time": "2023-12-13T22:28:46.178490500Z"
    }
   },
   "id": "7840663c63c1bac"
  },
  {
   "cell_type": "markdown",
   "source": [
    "# Method 1\n",
    "1. Fetch the footprints of all buildings in the tile.\n",
    "2. Buffer the footprints by 10 m.\n",
    "    - The buffer distance is selected such that:\n",
    "        - The resulting raster datasets (Step 6) do not contain empty cells when masked\n",
    "        - Most if not all the natural neighbors of the points along the footprint edges are included in the subsequent steps.\n",
    "3. Intersect the point cloud with the buffers.\n",
    "4. Compute the Delaunay triangulation of the remaining points.\n",
    "5. Compute and rasterize the gridded slope field corresponding to the triangulation.\n",
    "6. Rasterize the reflectance field corresponding to the triangulation."
   ],
   "metadata": {
    "collapsed": false
   },
   "id": "c9ef37076682b2b9"
  },
  {
   "cell_type": "code",
   "execution_count": 4,
   "outputs": [],
   "source": [
    "@timing\n",
    "def read(filename: str) -> PointCloud:\n",
    "    return PointCloud(filename)\n",
    "\n",
    "\n",
    "# FIXME: Rewrite this function as a PointCloud method.\n",
    "@timing\n",
    "def to_gdf(pc: PointCloud) -> gpd.GeoDataFrame:\n",
    "    return gpd.GeoDataFrame({\"id\": np.arange(len(pc)), \"geometry\": gpd.points_from_xy(pc.las.x, pc.las.y)},\n",
    "                            crs=\"EPSG:28992\")\n",
    "\n",
    "\n",
    "@timing\n",
    "# TODO: Review the various buffer options.\n",
    "# TODO: Create a BufferableGeoDataFrame and rewrite this function as a class method?\n",
    "def buffer(objs: gpd.GeoDataFrame, dist: float = 10) -> None:\n",
    "    objs[\"geometry\"] = objs[\"geometry\"].buffer(dist)\n",
    "\n",
    "\n",
    "# FIXME: Rewrite this function as a PointCloud method.\n",
    "@timing\n",
    "def intersect(pc: PointCloud, objs: gpd.GeoDataFrame) -> np.ndarray:\n",
    "    return to_gdf(pc).overlay(objs)[\"id_1\"].to_numpy()\n",
    "\n",
    "\n",
    "# FIXME: Rewrite this function as a PointCloud method.\n",
    "@timing\n",
    "def triangulate(dt: startinpy.DT, pts: laspy.PackedPointRecord, sc: str = \"z\") -> None:\n",
    "    dt.insert(np.vstack((pts.x, pts.y, pts[sc])).transpose())"
   ],
   "metadata": {
    "collapsed": false,
    "ExecuteTime": {
     "end_time": "2023-12-13T22:28:48.591297700Z",
     "start_time": "2023-12-13T22:28:48.550675200Z"
    }
   },
   "id": "61762d320f97246c"
  },
  {
   "cell_type": "code",
   "execution_count": 5,
   "outputs": [
    {
     "name": "stdout",
     "output_type": "stream",
     "text": [
      "func read :-> 48 ms\n"
     ]
    }
   ],
   "source": [
    "pc = read(\"../test.LAZ\")"
   ],
   "metadata": {
    "collapsed": false,
    "ExecuteTime": {
     "end_time": "2023-12-13T22:28:49.556598700Z",
     "start_time": "2023-12-13T22:28:49.437675900Z"
    }
   },
   "id": "5eb5b746d283a153"
  },
  {
   "cell_type": "code",
   "execution_count": 6,
   "outputs": [
    {
     "name": "stdout",
     "output_type": "stream",
     "text": [
      "func buffer :-> 123 ms\n"
     ]
    }
   ],
   "source": [
    "# Step 1\n",
    "bx = gpd.read_file(\"C:/Documents/RoofSense/data/temp/9-284-556.buildings.gpkg\")\n",
    "\n",
    "# Step 2\n",
    "buffer(bx)"
   ],
   "metadata": {
    "collapsed": false,
    "ExecuteTime": {
     "end_time": "2023-12-13T22:28:50.838511200Z",
     "start_time": "2023-12-13T22:28:50.366389100Z"
    }
   },
   "id": "364ede887fa959cd"
  },
  {
   "cell_type": "code",
   "execution_count": 7,
   "outputs": [
    {
     "name": "stdout",
     "output_type": "stream",
     "text": [
      "func to_gdf :-> 2354 ms\n",
      "func intersect :-> 27183 ms\n"
     ]
    }
   ],
   "source": [
    "# Step 3.1\n",
    "ids = intersect(pc, bx)"
   ],
   "metadata": {
    "collapsed": false,
    "ExecuteTime": {
     "end_time": "2023-12-13T22:29:21.009366200Z",
     "start_time": "2023-12-13T22:28:53.822078100Z"
    }
   },
   "id": "c6d4240eb0d1a706"
  },
  {
   "cell_type": "code",
   "execution_count": 8,
   "outputs": [],
   "source": [
    "# Step 3.2\n",
    "# FIXME: Integrate this operation into the intersection step.\n",
    "# TODO: Overwrite the original point cloud?\n",
    "pts = pc.las.points[ids]"
   ],
   "metadata": {
    "collapsed": false,
    "ExecuteTime": {
     "end_time": "2023-12-13T22:29:21.196968300Z",
     "start_time": "2023-12-13T22:29:21.009366200Z"
    }
   },
   "id": "c8df46c48eb0d8b6"
  },
  {
   "cell_type": "code",
   "execution_count": 73,
   "outputs": [
    {
     "name": "stdout",
     "output_type": "stream",
     "text": [
      "func triangulate :-> 5892 ms\n"
     ]
    },
    {
     "data": {
      "text/plain": "array([[            inf,             inf,             inf],\n       [ 8.54999740e+04,  4.46262433e+05, -1.31600000e+01],\n       [ 8.54999150e+04,  4.46262202e+05, -1.33900000e+01],\n       ...,\n       [ 8.55581250e+04,  4.46262279e+05, -5.99000000e+00],\n       [ 8.55578140e+04,  4.46262193e+05, -6.27000000e+00],\n       [ 8.55575830e+04,  4.46262197e+05, -5.48000000e+00]])"
     },
     "execution_count": 73,
     "metadata": {},
     "output_type": "execute_result"
    }
   ],
   "source": [
    "# Step 4\n",
    "dt = startinpy.DT()\n",
    "triangulate(dt, pts, sc=\"Reflectance\")"
   ],
   "metadata": {
    "collapsed": false,
    "ExecuteTime": {
     "end_time": "2023-12-13T23:11:10.040941300Z",
     "start_time": "2023-12-13T23:11:03.794753100Z"
    }
   },
   "id": "6000a96d7322459c"
  },
  {
   "cell_type": "code",
   "execution_count": 52,
   "outputs": [],
   "source": [
    "# Step 5\n",
    "# FIXME: Promote this constant to an environment variable.\n",
    "GRID_SIZE = 0.25\n",
    "\n",
    "# FIXME: Rewrite the following cells as Raster methods.\n",
    "# Initialize the raster grid.\n",
    "grid = raster.Raster(GRID_SIZE, dt.get_bbox())\n",
    "\n",
    "# Gather the center coordinates of the grid cells.\n",
    "cnts = []\n",
    "for row in range((grid.len_y - 1), -1, -1):\n",
    "    y = grid.bbox[1] + (row * GRID_SIZE) + (0.5 * GRID_SIZE)\n",
    "    for col in range(grid.len_x):\n",
    "        x = grid.bbox[0] + (col * GRID_SIZE) + (0.5 * GRID_SIZE)\n",
    "        cnts.append([x, y])"
   ],
   "metadata": {
    "collapsed": false,
    "ExecuteTime": {
     "end_time": "2023-12-13T22:57:40.719601800Z",
     "start_time": "2023-12-13T22:57:39.493740200Z"
    }
   },
   "id": "87674224aafa3e61"
  },
  {
   "cell_type": "code",
   "execution_count": 53,
   "outputs": [],
   "source": [
    "# Interpolate the field values at the cell centers.\n",
    "vals = dt.interpolate({\"method\": \"Laplace\"}, cnts)"
   ],
   "metadata": {
    "collapsed": false,
    "ExecuteTime": {
     "end_time": "2023-12-13T22:58:35.370518400Z",
     "start_time": "2023-12-13T22:57:42.903798900Z"
    }
   },
   "id": "a26f148261b477f0"
  },
  {
   "cell_type": "code",
   "execution_count": 54,
   "outputs": [],
   "source": [
    "# Populate the raster.\n",
    "grid._Raster__data = vals.reshape((grid.len_y, grid.len_x))"
   ],
   "metadata": {
    "collapsed": false,
    "ExecuteTime": {
     "end_time": "2023-12-13T22:58:35.543033900Z",
     "start_time": "2023-12-13T22:58:35.370518400Z"
    }
   },
   "id": "f8d6bf702361a3f0"
  },
  {
   "cell_type": "code",
   "execution_count": 55,
   "outputs": [],
   "source": [
    "# Save the raster.\n",
    "grid.save(\"../test_reflectance.tiff\")"
   ],
   "metadata": {
    "collapsed": false,
    "ExecuteTime": {
     "end_time": "2023-12-13T22:58:35.547034Z",
     "start_time": "2023-12-13T22:58:35.409930500Z"
    }
   },
   "id": "e8cc364f79a4c00a"
  },
  {
   "cell_type": "code",
   "execution_count": 79,
   "outputs": [
    {
     "data": {
      "text/plain": "array([[ 8.52949800e+04,  4.46294082e+05, -3.27000000e+00],\n       [ 8.52949800e+04,  4.46494810e+05, -6.20000000e+00],\n       [ 8.52949800e+04,  4.46512507e+05, -5.79000000e+00],\n       ...,\n       [ 8.56359910e+04,  4.46337425e+05, -6.67000000e+00],\n       [ 8.56360040e+04,  4.46337728e+05, -5.41000000e+00],\n       [ 8.56360200e+04,  4.46337156e+05, -6.70000000e+00]])"
     },
     "execution_count": 79,
     "metadata": {},
     "output_type": "execute_result"
    }
   ],
   "source": [
    "# FIXME: Rewrite the following cells as PointCloud methods.\n",
    "# Fetch the points to triangulate.\n",
    "test = np.vstack((pts.x, pts.y, pts.Reflectance)).transpose()\n",
    "# Sort the points in descending order according to their elevation.\n",
    "# TODO: Use the scaled instead of the recorded elevation?\n",
    "test = test[pts.Z.argsort()[::-1]]\n",
    "# Find the points with the same planar projection.\n",
    "_, unq_ids = np.unique(test[:, :-1], axis=0, return_index=True)\n",
    "# Discard the points.\n",
    "test = test[unq_ids]\n",
    "\n",
    "test"
   ],
   "metadata": {
    "collapsed": false,
    "ExecuteTime": {
     "end_time": "2023-12-13T23:13:13.513837800Z",
     "start_time": "2023-12-13T23:13:11.718816200Z"
    }
   },
   "id": "508fa78b174b46dc"
  },
  {
   "cell_type": "code",
   "execution_count": null,
   "outputs": [
    {
     "name": "stdout",
     "output_type": "stream",
     "text": [
      "3600 0.0009999999892897904\n",
      "8500 0.0009999999892897904\n",
      "16000 0.0009999999892897904\n",
      "29400 0.0009999999892897904\n",
      "37600 0.0009999999892897904\n"
     ]
    }
   ],
   "source": [
    "for i in range(100, len(pts) + 101, 100):\n",
    "    dm = sp.spatial.distance_matrix(np.vstack((pts.x, pts.y)).transpose()[i:i + 100],\n",
    "                                    np.vstack((pts.x, pts.y)).transpose())\n",
    "    tol = np.min(dm[np.nonzero(dm)])\n",
    "    if tol < 0.001:\n",
    "        print(i, tol)"
   ],
   "metadata": {
    "collapsed": false,
    "is_executing": true,
    "ExecuteTime": {
     "start_time": "2023-12-13T23:29:18.007051600Z"
    }
   },
   "id": "ea8e2cfbbf97b974"
  },
  {
   "cell_type": "code",
   "execution_count": 88,
   "outputs": [
    {
     "data": {
      "text/plain": "array([[            inf,             inf,             inf],\n       [ 8.54999740e+04,  4.46262433e+05, -1.31600000e+01],\n       [ 8.54999150e+04,  4.46262202e+05, -1.33900000e+01],\n       ...,\n       [ 8.55581250e+04,  4.46262279e+05, -5.99000000e+00],\n       [ 8.55578140e+04,  4.46262193e+05, -6.27000000e+00],\n       [ 8.55575830e+04,  4.46262197e+05, -5.48000000e+00]])"
     },
     "execution_count": 88,
     "metadata": {},
     "output_type": "execute_result"
    }
   ],
   "source": [
    "dt1 = startinpy.DT()\n",
    "# TOSELF: Is this hack guaranteed to work or should a more reasonable value be used?\n",
    "dt1.snap_tolerance = math.ulp(0)\n",
    "# TOSELF: Does the insertion order affect performance?\n",
    "dt1.insert(np.vstack((pts.x, pts.y, pts.Reflectance)).transpose())\n",
    "\n",
    "dt1.points"
   ],
   "metadata": {
    "collapsed": false,
    "ExecuteTime": {
     "end_time": "2023-12-13T23:17:04.512172200Z",
     "start_time": "2023-12-13T23:16:58.515167400Z"
    }
   },
   "id": "5035b0bfe88f9064"
  },
  {
   "cell_type": "code",
   "execution_count": 89,
   "outputs": [
    {
     "name": "stdout",
     "output_type": "stream",
     "text": [
      "True\n"
     ]
    }
   ],
   "source": [
    "print(len(test) == len(dt1.points[1:]))"
   ],
   "metadata": {
    "collapsed": false,
    "ExecuteTime": {
     "end_time": "2023-12-13T23:17:06.395872300Z",
     "start_time": "2023-12-13T23:17:06.292948800Z"
    }
   },
   "id": "3bdd6817a337899e"
  }
 ],
 "metadata": {
  "kernelspec": {
   "display_name": "Python 3",
   "language": "python",
   "name": "python3"
  },
  "language_info": {
   "codemirror_mode": {
    "name": "ipython",
    "version": 2
   },
   "file_extension": ".py",
   "mimetype": "text/x-python",
   "name": "python",
   "nbconvert_exporter": "python",
   "pygments_lexer": "ipython2",
   "version": "2.7.6"
  }
 },
 "nbformat": 4,
 "nbformat_minor": 5
}
