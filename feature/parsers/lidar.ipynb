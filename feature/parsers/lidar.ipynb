{
 "cells": [
  {
   "cell_type": "code",
   "execution_count": 1,
   "id": "initial_id",
   "metadata": {
    "collapsed": true,
    "ExecuteTime": {
     "end_time": "2024-01-01T18:05:54.398435800Z",
     "start_time": "2024-01-01T18:05:53.659210100Z"
    }
   },
   "outputs": [
    {
     "name": "stdout",
     "output_type": "stream",
     "text": [
      "Hello\n"
     ]
    }
   ],
   "source": [
    "import geopandas as gpd\n",
    "import numpy as np\n",
    "\n",
    "from feature.utils import timing\n",
    "from parsers.utils import pcloud\n",
    "from parsers.utils import raster"
   ]
  },
  {
   "cell_type": "code",
   "execution_count": 2,
   "outputs": [],
   "source": [
    "# class BufferableGeoDataFrame(gpd.GeoDataFrame):\n",
    "#     def __init__(self, *args, **kwargs) -> None:\n",
    "#         super().__init__()\n",
    "# \n",
    "#     def buffer(self, *args, **kwargs) -> None:\n",
    "#         ...\n",
    "\n",
    "@timing\n",
    "def __init__(filename: str) -> gpd.GeoDataFrame:\n",
    "    return gpd.read_file(filename)\n",
    "\n",
    "\n",
    "@timing\n",
    "# TODO: Review the various buffer options.\n",
    "# TODO: Rewrite this function as an appropriate class method.\n",
    "def buffer(objs: gpd.GeoDataFrame, dist: float = 10) -> None:\n",
    "    objs[\"geometry\"] = objs[\"geometry\"].buffer(dist)"
   ],
   "metadata": {
    "collapsed": false,
    "ExecuteTime": {
     "end_time": "2024-01-01T18:05:54.407545Z",
     "start_time": "2024-01-01T18:05:54.401030300Z"
    }
   },
   "id": "7840663c63c1bac"
  },
  {
   "cell_type": "markdown",
   "source": [
    "## Step 1\n",
    "Load the point cloud into memory."
   ],
   "metadata": {
    "collapsed": false
   },
   "id": "e916cbd201c518a8"
  },
  {
   "cell_type": "code",
   "execution_count": 3,
   "outputs": [
    {
     "name": "stdout",
     "output_type": "stream",
     "text": [
      "func __init__ :-> 261 ms\n"
     ]
    }
   ],
   "source": [
    "pc = pcloud.PointCloud(\"../aula.LAZ\")"
   ],
   "metadata": {
    "collapsed": false,
    "ExecuteTime": {
     "end_time": "2024-01-01T18:05:54.668918Z",
     "start_time": "2024-01-01T18:05:54.404547100Z"
    }
   },
   "id": "5eb5b746d283a153"
  },
  {
   "cell_type": "markdown",
   "source": [
    "## Step 2\n",
    "Load the building footprints into memory."
   ],
   "metadata": {
    "collapsed": false
   },
   "id": "c7fe307e154c1d3c"
  },
  {
   "cell_type": "code",
   "execution_count": 4,
   "outputs": [
    {
     "name": "stdout",
     "output_type": "stream",
     "text": [
      "func __init__ :-> 195 ms\n"
     ]
    }
   ],
   "source": [
    "fps = __init__(\"C:/Documents/RoofSense/data/temp/9-284-556.buildings.gpkg\")"
   ],
   "metadata": {
    "collapsed": false,
    "ExecuteTime": {
     "end_time": "2024-01-01T18:05:54.869136200Z",
     "start_time": "2024-01-01T18:05:54.671919400Z"
    }
   },
   "id": "364ede887fa959cd"
  },
  {
   "cell_type": "markdown",
   "source": [
    "## Step 3\n",
    "Buffer the footprints by 10 m.\n",
    "\n",
    "NOTE: The buffer distance is selected such that most if not all the natural neighbors of \n",
    "      the points along the footprint edges are included in the subsequent steps."
   ],
   "metadata": {
    "collapsed": false
   },
   "id": "79d54e36b38a0e7b"
  },
  {
   "cell_type": "code",
   "execution_count": 5,
   "outputs": [
    {
     "name": "stdout",
     "output_type": "stream",
     "text": [
      "func buffer :-> 64 ms\n"
     ]
    }
   ],
   "source": [
    "buffer(fps)"
   ],
   "metadata": {
    "collapsed": false,
    "ExecuteTime": {
     "end_time": "2024-01-01T18:05:54.943462800Z",
     "start_time": "2024-01-01T18:05:54.869136200Z"
    }
   },
   "id": "f06ed91f3932d9a7"
  },
  {
   "cell_type": "markdown",
   "source": [
    "## Step 4\n",
    "Intersect the point cloud with the buffers."
   ],
   "metadata": {
    "collapsed": false
   },
   "id": "3182f01a5065379d"
  },
  {
   "cell_type": "code",
   "execution_count": 6,
   "outputs": [
    {
     "name": "stdout",
     "output_type": "stream",
     "text": [
      "func intersect :-> 32013 ms\n"
     ]
    }
   ],
   "source": [
    "ids = pc.intersect(fps)"
   ],
   "metadata": {
    "collapsed": false,
    "ExecuteTime": {
     "end_time": "2024-01-01T18:06:26.954523700Z",
     "start_time": "2024-01-01T18:05:54.938463900Z"
    }
   },
   "id": "c6d4240eb0d1a706"
  },
  {
   "cell_type": "code",
   "outputs": [],
   "source": [
    "pc.las.points = pc.las.points[ids]"
   ],
   "metadata": {
    "collapsed": false,
    "ExecuteTime": {
     "end_time": "2024-01-01T18:06:27.229564900Z",
     "start_time": "2024-01-01T18:06:26.956266Z"
    }
   },
   "id": "8dc5c87f6d84e7ad",
   "execution_count": 7
  },
  {
   "cell_type": "markdown",
   "source": [
    "## Step 5\n",
    "Compute the Delaunay triangulation of the remaining points."
   ],
   "metadata": {
    "collapsed": false
   },
   "id": "4ebb7d620ce6ce9"
  },
  {
   "cell_type": "code",
   "execution_count": 8,
   "outputs": [
    {
     "name": "stdout",
     "output_type": "stream",
     "text": [
      "func triangulate :-> 10152 ms\n"
     ]
    }
   ],
   "source": [
    "pc.triangulate()"
   ],
   "metadata": {
    "collapsed": false,
    "ExecuteTime": {
     "end_time": "2024-01-01T18:06:37.388225800Z",
     "start_time": "2024-01-01T18:06:27.231567600Z"
    }
   },
   "id": "6000a96d7322459c"
  },
  {
   "cell_type": "markdown",
   "source": [
    "## Step 6\n",
    " Estimate the slope field of the corresponding network."
   ],
   "metadata": {
    "collapsed": false
   },
   "id": "1acda9b25193f2fa"
  },
  {
   "cell_type": "markdown",
   "source": [
    "TODO"
   ],
   "metadata": {
    "collapsed": false
   },
   "id": "8b2aef8440222114"
  },
  {
   "cell_type": "code",
   "execution_count": 9,
   "outputs": [],
   "source": [
    "# TOSELF: Promote this argument to an environment variable?\n",
    "CELL_SIZE = 0.25\n",
    "\n",
    "grid = raster.Raster(CELL_SIZE, pc.dt.get_bbox())\n",
    "\n",
    "# FIXME: Integrate this block into the Raster initializer.\n",
    "# Construct the grid.\n",
    "# TODO: Add documentation.\n",
    "rows, cols = np.mgrid[grid.len_y - 1:-1:-1, 0:grid.len_x]\n",
    "# TODO: Add documentation.\n",
    "xx = grid.bbox[0] + CELL_SIZE * (cols + 0.5)\n",
    "yy = grid.bbox[1] + CELL_SIZE * (rows + 0.5)\n",
    "# TODO: Add documentation.\n",
    "cells = np.column_stack([xx.ravel(), yy.ravel()])"
   ],
   "metadata": {
    "collapsed": false,
    "ExecuteTime": {
     "end_time": "2024-01-01T18:06:37.450564700Z",
     "start_time": "2024-01-01T18:06:37.391233200Z"
    }
   },
   "id": "ed9854112d57cb"
  },
  {
   "cell_type": "markdown",
   "source": [
    "TODO"
   ],
   "metadata": {
    "collapsed": false
   },
   "id": "5c1d49d95552f2f4"
  },
  {
   "cell_type": "code",
   "execution_count": 10,
   "outputs": [],
   "source": [
    "# TODO: Speed up this block.\n",
    "# TOSELF: Compute the slope for all faces to avoid additional calls to dt.locate?\n",
    "valid_cells = []\n",
    "valid_faces = []\n",
    "for i, center in enumerate(cells):\n",
    "    try:\n",
    "        valid_faces.append(pc.dt.locate(*center))\n",
    "    except Exception:\n",
    "        continue\n",
    "    valid_cells.append(i)\n",
    "\n",
    "# TOSELF: Discard duplicate faces?\n",
    "# valid_faces = np.unique(valid_faces, axis=0)"
   ],
   "metadata": {
    "collapsed": false,
    "ExecuteTime": {
     "end_time": "2024-01-01T18:08:50.688009400Z",
     "start_time": "2024-01-01T18:06:37.452569600Z"
    }
   },
   "id": "2a4ab4ba6f8d5053"
  },
  {
   "cell_type": "code",
   "execution_count": 11,
   "outputs": [],
   "source": [
    "# TODO: Add documentation.\n",
    "dt_pts = pc.dt.points\n",
    "valid_faces = np.array(valid_faces)\n",
    "v1 = dt_pts[valid_faces[:, 0]]\n",
    "v2 = dt_pts[valid_faces[:, 1]]\n",
    "v3 = dt_pts[valid_faces[:, 2]]\n",
    "\n",
    "u = v2 - v1\n",
    "v = v3 - v1\n",
    "\n",
    "n = np.cross(u, v)\n",
    "n = n / np.linalg.norm(n, axis=1)[:, None]\n",
    "\n",
    "z = np.array([0, 0, 1])\n",
    "s = np.degrees(np.arccos(np.dot(n, z)))"
   ],
   "metadata": {
    "collapsed": false,
    "ExecuteTime": {
     "end_time": "2024-01-01T18:08:51.792969200Z",
     "start_time": "2024-01-01T18:08:50.688009400Z"
    }
   },
   "id": "d1ba336a8b385c07"
  },
  {
   "cell_type": "code",
   "execution_count": 14,
   "outputs": [],
   "source": [
    "grid._Raster__data[np.divmod(valid_cells, grid.len_x)] = s\n",
    "grid.save(\"../aula_slpe.tiff\")"
   ],
   "metadata": {
    "collapsed": false,
    "ExecuteTime": {
     "end_time": "2024-01-01T18:10:54.571356500Z",
     "start_time": "2024-01-01T18:10:54.207927100Z"
    }
   },
   "id": "4ae0726e50840615"
  },
  {
   "cell_type": "markdown",
   "source": [
    "## Step 6\n",
    " Rasterize the slope and reflectance fields of the corresponding network."
   ],
   "metadata": {
    "collapsed": false
   },
   "id": "e185553d6a7ec93f"
  },
  {
   "cell_type": "code",
   "execution_count": 13,
   "outputs": [],
   "source": [
    "# Interpolate the field values at the cell centers.\n",
    "vals = pc.dt.interpolate({\"method\": \"Laplace\"}, cells)\n",
    "\n",
    "# Populate the raster.\n",
    "grid._Raster__data = vals.reshape((grid.len_y, grid.len_x))\n",
    "\n",
    "# Save the raster.\n",
    "grid.save(\"../aula_elev.tiff\")"
   ],
   "metadata": {
    "collapsed": false,
    "ExecuteTime": {
     "end_time": "2024-01-01T18:10:43.247904800Z",
     "start_time": "2024-01-01T18:08:52.092075400Z"
    }
   },
   "id": "87674224aafa3e61"
  }
 ],
 "metadata": {
  "kernelspec": {
   "display_name": "Python 3",
   "language": "python",
   "name": "python3"
  },
  "language_info": {
   "codemirror_mode": {
    "name": "ipython",
    "version": 2
   },
   "file_extension": ".py",
   "mimetype": "text/x-python",
   "name": "python",
   "nbconvert_exporter": "python",
   "pygments_lexer": "ipython2",
   "version": "2.7.6"
  }
 },
 "nbformat": 4,
 "nbformat_minor": 5
}
