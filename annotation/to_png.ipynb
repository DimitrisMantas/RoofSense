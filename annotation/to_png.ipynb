{
 "cells": [
  {
   "metadata": {},
   "cell_type": "markdown",
   "source": "Convert stack chips to PNG for annotation.",
   "id": "87a5a3452e4f8d86"
  },
  {
   "metadata": {
    "ExecuteTime": {
     "end_time": "2024-04-08T08:34:03.272203Z",
     "start_time": "2024-04-08T08:34:02.877273Z"
    }
   },
   "cell_type": "code",
   "source": [
    "import glob\n",
    "from typing import Literal\n",
    "\n",
    "import cv2\n",
    "import numpy as np\n",
    "import rasterio.plot"
   ],
   "id": "initial_id",
   "outputs": [],
   "execution_count": 1
  },
  {
   "cell_type": "code",
   "source": [
    "# Load the TIFFs.\n",
    "tifs = sorted(glob.glob(\"data/imgs/tif/*.tif\"))\n",
    "tifs"
   ],
   "metadata": {
    "collapsed": false,
    "ExecuteTime": {
     "end_time": "2024-04-08T08:34:03.290235Z",
     "start_time": "2024-04-08T08:34:03.274198Z"
    }
   },
   "id": "57a5efcd0ad60c0b",
   "outputs": [
    {
     "data": {
      "text/plain": [
       "['data/imgs/tif\\\\chips.119.tif',\n",
       " 'data/imgs/tif\\\\chips.120.tif',\n",
       " 'data/imgs/tif\\\\chips.121.tif',\n",
       " 'data/imgs/tif\\\\chips.122.tif',\n",
       " 'data/imgs/tif\\\\chips.148.tif',\n",
       " 'data/imgs/tif\\\\chips.149.tif',\n",
       " 'data/imgs/tif\\\\chips.150.tif',\n",
       " 'data/imgs/tif\\\\chips.151.tif',\n",
       " 'data/imgs/tif\\\\chips.177.tif',\n",
       " 'data/imgs/tif\\\\chips.178.tif',\n",
       " 'data/imgs/tif\\\\chips.179.tif',\n",
       " 'data/imgs/tif\\\\chips.180.tif',\n",
       " 'data/imgs/tif\\\\chips.363.tif',\n",
       " 'data/imgs/tif\\\\chips.364.tif',\n",
       " 'data/imgs/tif\\\\chips.365.tif',\n",
       " 'data/imgs/tif\\\\chips.366.tif',\n",
       " 'data/imgs/tif\\\\chips.392.tif',\n",
       " 'data/imgs/tif\\\\chips.393.tif',\n",
       " 'data/imgs/tif\\\\chips.394.tif',\n",
       " 'data/imgs/tif\\\\chips.395.tif',\n",
       " 'data/imgs/tif\\\\chips.421.tif',\n",
       " 'data/imgs/tif\\\\chips.422.tif',\n",
       " 'data/imgs/tif\\\\chips.423.tif',\n",
       " 'data/imgs/tif\\\\chips.424.tif',\n",
       " 'data/imgs/tif\\\\chips.450.tif',\n",
       " 'data/imgs/tif\\\\chips.451.tif',\n",
       " 'data/imgs/tif\\\\chips.452.tif',\n",
       " 'data/imgs/tif\\\\chips.453.tif',\n",
       " 'data/imgs/tif\\\\chips.90.tif',\n",
       " 'data/imgs/tif\\\\chips.91.tif',\n",
       " 'data/imgs/tif\\\\chips.92.tif',\n",
       " 'data/imgs/tif\\\\chips.93.tif']"
      ]
     },
     "execution_count": 2,
     "metadata": {},
     "output_type": "execute_result"
    }
   ],
   "execution_count": 2
  },
  {
   "cell_type": "code",
   "source": [
    "src: rasterio.io.DatasetReader\n",
    "for tif in tifs:\n",
    "    with rasterio.open(tif) as src:\n",
    "        data: np.ndarray[tuple[Literal[3], Literal[512], Literal[512]], np.dtype[np.uint8]] = src.read()\n",
    "    png = tif.replace(\"tif\", \"png\")\n",
    "\n",
    "    # Rearrange the image from BxHxW to HxWxB.\n",
    "    data = rasterio.plot.reshape_as_image(data)\n",
    "    # Convert the color space to RGB.\n",
    "    # NOTE: OpenCV assumes that three-band images are in BGR.\n",
    "    data = cv2.cvtColor(data, cv2.COLOR_BGR2RGB)\n",
    "\n",
    "    cv2.imwrite(png, data)"
   ],
   "metadata": {
    "collapsed": false,
    "ExecuteTime": {
     "end_time": "2024-04-08T08:34:04.195081Z",
     "start_time": "2024-04-08T08:34:03.292235Z"
    }
   },
   "id": "2750faea3ab861aa",
   "outputs": [],
   "execution_count": 3
  }
 ],
 "metadata": {
  "kernelspec": {
   "display_name": "Python 3",
   "language": "python",
   "name": "python3"
  },
  "language_info": {
   "codemirror_mode": {
    "name": "ipython",
    "version": 2
   },
   "file_extension": ".py",
   "mimetype": "text/x-python",
   "name": "python",
   "nbconvert_exporter": "python",
   "pygments_lexer": "ipython2",
   "version": "2.7.6"
  }
 },
 "nbformat": 4,
 "nbformat_minor": 5
}
