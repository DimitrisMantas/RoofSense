{
 "cells": [
  {
   "metadata": {},
   "cell_type": "markdown",
   "source": "Convert segmentation masks to GeoTIFF.",
   "id": "d9dac0ccd5f7981c"
  },
  {
   "metadata": {
    "ExecuteTime": {
     "end_time": "2024-04-10T17:00:57.161341Z",
     "start_time": "2024-04-10T17:00:56.563489Z"
    }
   },
   "cell_type": "code",
   "source": [
    "import copy\n",
    "import glob\n",
    "import os\n",
    "\n",
    "import geopandas as gpd\n",
    "import numpy as np\n",
    "import rasterio.mask\n",
    "import rasterio.plot"
   ],
   "id": "d130869d076c3e0c",
   "outputs": [],
   "execution_count": 1
  },
  {
   "metadata": {
    "ExecuteTime": {
     "end_time": "2024-04-10T17:00:57.178435Z",
     "start_time": "2024-04-10T17:00:57.172350Z"
    }
   },
   "cell_type": "code",
   "source": [
    "# Load the masks.\n",
    "masks = sorted(glob.glob(\"C:/Users/Dimit/Downloads/RoofSense.v3-pre-test_all-classes.png-mask-semantic/train/*.png\"))\n",
    "masks"
   ],
   "id": "49402f5643a986fa",
   "outputs": [
    {
     "data": {
      "text/plain": [
       "['C:/Users/Dimit/Downloads/RoofSense.v3-pre-test_all-classes.png-mask-semantic/train\\\\chips-119_png.rf.413d2b3bfb0c13f076956d7933d22c34_mask.png',\n",
       " 'C:/Users/Dimit/Downloads/RoofSense.v3-pre-test_all-classes.png-mask-semantic/train\\\\chips-120_png.rf.7e334b4f1537af3f8b64a01b29ec75f3_mask.png']"
      ]
     },
     "execution_count": 2,
     "metadata": {},
     "output_type": "execute_result"
    }
   ],
   "execution_count": 2
  },
  {
   "metadata": {
    "ExecuteTime": {
     "end_time": "2024-04-10T17:00:57.212561Z",
     "start_time": "2024-04-10T17:00:57.208445Z"
    }
   },
   "cell_type": "code",
   "source": [
    "# Match the masks to the corresponding stack chips.\n",
    "chips = [os.path.basename(mask[:mask.rfind(\".rf\")]).replace(\"-\", \".\").rstrip(\"_png\") for mask in masks]\n",
    "chips"
   ],
   "id": "a2c31e4c133ccdf3",
   "outputs": [
    {
     "data": {
      "text/plain": [
       "['chips.119', 'chips.120']"
      ]
     },
     "execution_count": 3,
     "metadata": {},
     "output_type": "execute_result"
    }
   ],
   "execution_count": 3
  },
  {
   "metadata": {
    "ExecuteTime": {
     "end_time": "2024-04-10T17:49:23.345381Z",
     "start_time": "2024-04-10T17:49:21.681960Z"
    }
   },
   "cell_type": "code",
   "source": [
    "# Load and dissolve the corresponding roof surfaces.\n",
    "surfs = gpd.read_file(\"data/tmp/9-284-556.surfs.gpkg\").dissolve()\n",
    "\n",
    "# Compute the inverse class frequencies to use as training weights.\n",
    "weights = np.zeros(10, dtype=np.int64)\n",
    "\n",
    "chip_src: rasterio.io.DatasetReader\n",
    "mask_src: rasterio.io.DatasetReader\n",
    "mask_dst: rasterio.io.DatasetWriter\n",
    "for chip, mask in zip(chips, masks):\n",
    "    with rasterio.open(os.path.join(\"data/imgs/tif\", f\"{chip}.tif\")) as chip_src, rasterio.open(mask) as mask_src:\n",
    "        mask_data = mask_src.read()\n",
    "\n",
    "        mask_meta = copy.deepcopy(chip_src.meta)\n",
    "        mask_meta.update(count=1, dtype=np.uint8)\n",
    "\n",
    "        with rasterio.open(os.path.join(\"data/msks/\", f\"{chip}.tif\"), mode=\"w+\", **mask_meta) as mask_dst:\n",
    "            # Georeference the masks.\n",
    "            mask_dst.write(mask_data)\n",
    "\n",
    "            # Remask the background.\n",
    "            mask_data = rasterio.mask.mask(mask_dst, shapes=surfs.geometry)[0]\n",
    "            mask_dst.write(mask_data)\n",
    "\n",
    "            # Mark the remaining unlabeled pixels as background\n",
    "            # TODO: Check whether this approach is correct..\n",
    "            #      https://stackoverflow.com/questions/54887933/how-to-to-drop-a-specific-labeled-pixels-in-semantic-segmentation\n",
    "            # mask_data[mask_data == 0] = 9\n",
    "            # mask_dst.write(mask_data)\n",
    "\n",
    "            indices, counts = np.unique(mask_data, return_counts=True)\n",
    "            weights[indices] += counts\n",
    "\n",
    "weights"
   ],
   "id": "2d8a1362d9ffcde1",
   "outputs": [
    {
     "name": "stderr",
     "output_type": "stream",
     "text": [
      "C:\\Documents\\RoofSense\\venv\\Lib\\site-packages\\rasterio\\__init__.py:317: NotGeoreferencedWarning: Dataset has no geotransform, gcps, or rpcs. The identity matrix will be returned.\n",
      "  dataset = DatasetReader(path, driver=driver, sharing=sharing, **kwargs)\n"
     ]
    },
    {
     "ename": "CPLE_AppDefinedError",
     "evalue": "Deleting data/msks/chips.119.tif failed: Permission denied",
     "output_type": "error",
     "traceback": [
      "\u001B[1;31m---------------------------------------------------------------------------\u001B[0m",
      "\u001B[1;31mCPLE_AppDefinedError\u001B[0m                      Traceback (most recent call last)",
      "Cell \u001B[1;32mIn[8], line 16\u001B[0m\n\u001B[0;32m     13\u001B[0m mask_meta \u001B[38;5;241m=\u001B[39m copy\u001B[38;5;241m.\u001B[39mdeepcopy(chip_src\u001B[38;5;241m.\u001B[39mmeta)\n\u001B[0;32m     14\u001B[0m mask_meta\u001B[38;5;241m.\u001B[39mupdate(count\u001B[38;5;241m=\u001B[39m\u001B[38;5;241m1\u001B[39m, dtype\u001B[38;5;241m=\u001B[39mnp\u001B[38;5;241m.\u001B[39muint8)\n\u001B[1;32m---> 16\u001B[0m \u001B[38;5;28;01mwith\u001B[39;00m \u001B[43mrasterio\u001B[49m\u001B[38;5;241;43m.\u001B[39;49m\u001B[43mopen\u001B[49m\u001B[43m(\u001B[49m\u001B[43mos\u001B[49m\u001B[38;5;241;43m.\u001B[39;49m\u001B[43mpath\u001B[49m\u001B[38;5;241;43m.\u001B[39;49m\u001B[43mjoin\u001B[49m\u001B[43m(\u001B[49m\u001B[38;5;124;43m\"\u001B[39;49m\u001B[38;5;124;43mdata/msks/\u001B[39;49m\u001B[38;5;124;43m\"\u001B[39;49m\u001B[43m,\u001B[49m\u001B[43m \u001B[49m\u001B[38;5;124;43mf\u001B[39;49m\u001B[38;5;124;43m\"\u001B[39;49m\u001B[38;5;132;43;01m{\u001B[39;49;00m\u001B[43mchip\u001B[49m\u001B[38;5;132;43;01m}\u001B[39;49;00m\u001B[38;5;124;43m.tif\u001B[39;49m\u001B[38;5;124;43m\"\u001B[39;49m\u001B[43m)\u001B[49m\u001B[43m,\u001B[49m\u001B[43m \u001B[49m\u001B[43mmode\u001B[49m\u001B[38;5;241;43m=\u001B[39;49m\u001B[38;5;124;43m\"\u001B[39;49m\u001B[38;5;124;43mw+\u001B[39;49m\u001B[38;5;124;43m\"\u001B[39;49m\u001B[43m,\u001B[49m\u001B[43m \u001B[49m\u001B[38;5;241;43m*\u001B[39;49m\u001B[38;5;241;43m*\u001B[39;49m\u001B[43mmask_meta\u001B[49m\u001B[43m)\u001B[49m \u001B[38;5;28;01mas\u001B[39;00m mask_dst:\n\u001B[0;32m     17\u001B[0m     \u001B[38;5;66;03m# Georeference the masks.\u001B[39;00m\n\u001B[0;32m     18\u001B[0m     mask_dst\u001B[38;5;241m.\u001B[39mwrite(mask_data)\n\u001B[0;32m     20\u001B[0m     \u001B[38;5;66;03m# Remask the background.\u001B[39;00m\n",
      "File \u001B[1;32mC:\\Documents\\RoofSense\\venv\\Lib\\site-packages\\rasterio\\env.py:451\u001B[0m, in \u001B[0;36mensure_env_with_credentials.<locals>.wrapper\u001B[1;34m(*args, **kwds)\u001B[0m\n\u001B[0;32m    448\u001B[0m     session \u001B[38;5;241m=\u001B[39m DummySession()\n\u001B[0;32m    450\u001B[0m \u001B[38;5;28;01mwith\u001B[39;00m env_ctor(session\u001B[38;5;241m=\u001B[39msession):\n\u001B[1;32m--> 451\u001B[0m     \u001B[38;5;28;01mreturn\u001B[39;00m \u001B[43mf\u001B[49m\u001B[43m(\u001B[49m\u001B[38;5;241;43m*\u001B[39;49m\u001B[43margs\u001B[49m\u001B[43m,\u001B[49m\u001B[43m \u001B[49m\u001B[38;5;241;43m*\u001B[39;49m\u001B[38;5;241;43m*\u001B[39;49m\u001B[43mkwds\u001B[49m\u001B[43m)\u001B[49m\n",
      "File \u001B[1;32mC:\\Documents\\RoofSense\\venv\\Lib\\site-packages\\rasterio\\__init__.py:327\u001B[0m, in \u001B[0;36mopen\u001B[1;34m(fp, mode, driver, width, height, count, crs, transform, dtype, nodata, sharing, **kwargs)\u001B[0m\n\u001B[0;32m    325\u001B[0m writer \u001B[38;5;241m=\u001B[39m get_writer_for_driver(driver)\n\u001B[0;32m    326\u001B[0m \u001B[38;5;28;01mif\u001B[39;00m writer \u001B[38;5;129;01mis\u001B[39;00m \u001B[38;5;129;01mnot\u001B[39;00m \u001B[38;5;28;01mNone\u001B[39;00m:\n\u001B[1;32m--> 327\u001B[0m     dataset \u001B[38;5;241m=\u001B[39m \u001B[43mwriter\u001B[49m\u001B[43m(\u001B[49m\n\u001B[0;32m    328\u001B[0m \u001B[43m        \u001B[49m\u001B[43mpath\u001B[49m\u001B[43m,\u001B[49m\n\u001B[0;32m    329\u001B[0m \u001B[43m        \u001B[49m\u001B[43mmode\u001B[49m\u001B[43m,\u001B[49m\n\u001B[0;32m    330\u001B[0m \u001B[43m        \u001B[49m\u001B[43mdriver\u001B[49m\u001B[38;5;241;43m=\u001B[39;49m\u001B[43mdriver\u001B[49m\u001B[43m,\u001B[49m\n\u001B[0;32m    331\u001B[0m \u001B[43m        \u001B[49m\u001B[43mwidth\u001B[49m\u001B[38;5;241;43m=\u001B[39;49m\u001B[43mwidth\u001B[49m\u001B[43m,\u001B[49m\n\u001B[0;32m    332\u001B[0m \u001B[43m        \u001B[49m\u001B[43mheight\u001B[49m\u001B[38;5;241;43m=\u001B[39;49m\u001B[43mheight\u001B[49m\u001B[43m,\u001B[49m\n\u001B[0;32m    333\u001B[0m \u001B[43m        \u001B[49m\u001B[43mcount\u001B[49m\u001B[38;5;241;43m=\u001B[39;49m\u001B[43mcount\u001B[49m\u001B[43m,\u001B[49m\n\u001B[0;32m    334\u001B[0m \u001B[43m        \u001B[49m\u001B[43mcrs\u001B[49m\u001B[38;5;241;43m=\u001B[39;49m\u001B[43mcrs\u001B[49m\u001B[43m,\u001B[49m\n\u001B[0;32m    335\u001B[0m \u001B[43m        \u001B[49m\u001B[43mtransform\u001B[49m\u001B[38;5;241;43m=\u001B[39;49m\u001B[43mtransform\u001B[49m\u001B[43m,\u001B[49m\n\u001B[0;32m    336\u001B[0m \u001B[43m        \u001B[49m\u001B[43mdtype\u001B[49m\u001B[38;5;241;43m=\u001B[39;49m\u001B[43mdtype\u001B[49m\u001B[43m,\u001B[49m\n\u001B[0;32m    337\u001B[0m \u001B[43m        \u001B[49m\u001B[43mnodata\u001B[49m\u001B[38;5;241;43m=\u001B[39;49m\u001B[43mnodata\u001B[49m\u001B[43m,\u001B[49m\n\u001B[0;32m    338\u001B[0m \u001B[43m        \u001B[49m\u001B[43msharing\u001B[49m\u001B[38;5;241;43m=\u001B[39;49m\u001B[43msharing\u001B[49m\u001B[43m,\u001B[49m\n\u001B[0;32m    339\u001B[0m \u001B[43m        \u001B[49m\u001B[38;5;241;43m*\u001B[39;49m\u001B[38;5;241;43m*\u001B[39;49m\u001B[43mkwargs\u001B[49m\n\u001B[0;32m    340\u001B[0m \u001B[43m    \u001B[49m\u001B[43m)\u001B[49m\n\u001B[0;32m    341\u001B[0m \u001B[38;5;28;01melse\u001B[39;00m:\n\u001B[0;32m    342\u001B[0m     \u001B[38;5;28;01mraise\u001B[39;00m DriverCapabilityError(\n\u001B[0;32m    343\u001B[0m         \u001B[38;5;124m\"\u001B[39m\u001B[38;5;124mWriter does not exist for driver: \u001B[39m\u001B[38;5;132;01m%s\u001B[39;00m\u001B[38;5;124m\"\u001B[39m \u001B[38;5;241m%\u001B[39m \u001B[38;5;28mstr\u001B[39m(driver)\n\u001B[0;32m    344\u001B[0m     )\n",
      "File \u001B[1;32mrasterio\\\\_io.pyx:1464\u001B[0m, in \u001B[0;36mrasterio._io.DatasetWriterBase.__init__\u001B[1;34m()\u001B[0m\n",
      "File \u001B[1;32mrasterio\\\\_io.pyx:330\u001B[0m, in \u001B[0;36mrasterio._io._delete_dataset_if_exists\u001B[1;34m()\u001B[0m\n",
      "File \u001B[1;32mrasterio\\\\_err.pyx:195\u001B[0m, in \u001B[0;36mrasterio._err.exc_wrap_int\u001B[1;34m()\u001B[0m\n",
      "\u001B[1;31mCPLE_AppDefinedError\u001B[0m: Deleting data/msks/chips.119.tif failed: Permission denied"
     ]
    }
   ],
   "execution_count": 8
  },
  {
   "metadata": {
    "ExecuteTime": {
     "end_time": "2024-04-10T17:00:59.495307Z",
     "start_time": "2024-04-10T17:00:59.490867Z"
    }
   },
   "cell_type": "code",
   "source": [
    "weights = weights / weights.sum()\n",
    "weights"
   ],
   "id": "9b901a6f936c961f",
   "outputs": [
    {
     "data": {
      "text/plain": [
       "array([0.75384903, 0.        , 0.07089233, 0.08757973, 0.00534439,\n",
       "       0.02285194, 0.        , 0.02597427, 0.0335083 , 0.        ])"
      ]
     },
     "execution_count": 5,
     "metadata": {},
     "output_type": "execute_result"
    }
   ],
   "execution_count": 5
  },
  {
   "metadata": {
    "ExecuteTime": {
     "end_time": "2024-04-10T17:00:59.504368Z",
     "start_time": "2024-04-10T17:00:59.496316Z"
    }
   },
   "cell_type": "code",
   "source": [
    "weights = np.divide(1, weights, where=weights != 0)\n",
    "weights"
   ],
   "id": "940b13ac463950a4",
   "outputs": [
    {
     "data": {
      "text/plain": [
       "array([  1.32652555,   0.        ,  14.10589755,  11.41816756,\n",
       "       187.11206281,  43.75995326,   0.        ,  38.49963284,\n",
       "        29.84335155,   0.        ])"
      ]
     },
     "execution_count": 6,
     "metadata": {},
     "output_type": "execute_result"
    }
   ],
   "execution_count": 6
  },
  {
   "metadata": {
    "ExecuteTime": {
     "end_time": "2024-04-10T17:00:59.508898Z",
     "start_time": "2024-04-10T17:00:59.505379Z"
    }
   },
   "cell_type": "code",
   "source": [
    "# Serialize the weights.\n",
    "np.save(\"data/tmp/9-284-556.wght\",weights.astype(np.float32))"
   ],
   "id": "18d9cd777c3752fb",
   "outputs": [],
   "execution_count": 7
  }
 ],
 "metadata": {
  "kernelspec": {
   "display_name": "Python 3",
   "language": "python",
   "name": "python3"
  },
  "language_info": {
   "codemirror_mode": {
    "name": "ipython",
    "version": 2
   },
   "file_extension": ".py",
   "mimetype": "text/x-python",
   "name": "python",
   "nbconvert_exporter": "python",
   "pygments_lexer": "ipython2",
   "version": "2.7.6"
  }
 },
 "nbformat": 4,
 "nbformat_minor": 5
}
