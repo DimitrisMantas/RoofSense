{
 "cells": [
  {
   "cell_type": "code",
   "outputs": [
    {
     "name": "stdout",
     "output_type": "stream",
     "text": [
      "The tensorboard extension is already loaded. To reload it, use:\n",
      "  %reload_ext tensorboard\n"
     ]
    }
   ],
   "source": [
    "%matplotlib inline\n",
    "%load_ext tensorboard\n",
    "\n",
    "import lightning\n",
    "import torch\n",
    "from lightning.pytorch.callbacks import EarlyStopping, ModelCheckpoint\n",
    "from lightning.pytorch.loggers import TensorBoardLogger\n",
    "\n"
   ],
   "metadata": {
    "collapsed": false,
    "ExecuteTime": {
     "end_time": "2024-03-07T10:29:40.200026Z",
     "start_time": "2024-03-07T10:29:40.193291Z"
    }
   },
   "id": "9f14b5bb396992f3",
   "execution_count": 3
  },
  {
   "cell_type": "markdown",
   "source": [],
   "metadata": {
    "collapsed": false
   },
   "id": "5d97adbab868a1e9"
  },
  {
   "cell_type": "code",
   "outputs": [],
   "source": [
    "checkpoint_callback = ModelCheckpoint(monitor=\"val_loss\", dirpath=\"logs/RoofSense\", save_top_k=1, save_last=True)\n",
    "early_stopping_callback = EarlyStopping(monitor=\"val_loss\", min_delta=0.00, patience=50)\n",
    "\n",
    "batch_size_callback = lightning.pytorch.callbacks.BatchSizeFinder()\n",
    "\n",
    "logger = TensorBoardLogger(save_dir=\"logs/RoofSense\")"
   ],
   "metadata": {
    "collapsed": false
   },
   "id": "b360736198916be9",
   "execution_count": null
  },
  {
   "cell_type": "code",
   "outputs": [],
   "source": [
    "from classification.task import TrainingTask\n",
    "from lightning import Trainer\n",
    "from torchgeo.trainers import SemanticSegmentationTask\n",
    "\n",
    "from classification.datamodules import TrainingDataModule\n",
    "\n",
    "datamodule = TrainingDataModule(  # Dataset Options\n",
    "\n",
    "    root=\"../training/test\",  # Data Module Options\n",
    "    batch_size=64, patch_size=64, num_workers=10, )\n",
    "task = TrainingTask(model=\"fcn\",\n",
    "                                backbone=\"resnet18\",\n",
    "                                weights=True,\n",
    "                                in_channels=6,\n",
    "                                num_classes=10,\n",
    "                                #inverse class frequency in complete dataset\n",
    "                                #todo:try inverse class frequenct in training dataset.\n",
    "                                #     have the data module compute it on the fly and return the corresponding tensor.\n",
    "                                #                                 class_weights=torch.tensor([\n",
    "                                # 0,\n",
    "                                # 12.71247757,\n",
    "                                # 27.29529363,\n",
    "                                # 10.81809178,\n",
    "                                # 0,\n",
    "                                # 12.60368287,\n",
    "                                # 771.0117647,\n",
    "                                # 10.61655597,\n",
    "                                # 6.209882977,\n",
    "                                #                                     0,\n",
    "                                # # \n",
    "                                # #                                 \n",
    "                                #                                 ]),\n",
    "                                #                                 num_filters=192,\n",
    "                                loss=\"jaccard\",\n",
    "                                ignore_index=9,\n",
    "                                lr=1e-3,\n",
    "                                #use 1e-4 or 1e-3\n",
    "                                # for scheduler\n",
    "                                )\n"
   ],
   "metadata": {
    "collapsed": true
   },
   "id": "initial_id",
   "execution_count": null
  },
  {
   "cell_type": "markdown",
   "source": [],
   "metadata": {
    "collapsed": false
   },
   "id": "8a8a9e2d4d62bf22"
  },
  {
   "cell_type": "code",
   "outputs": [
    {
     "data": {
      "text/plain": "<IPython.core.display.HTML object>",
      "text/html": "\n      <iframe id=\"tensorboard-frame-693054719579bc84\" width=\"100%\" height=\"800\" frameborder=\"0\">\n      </iframe>\n      <script>\n        (function() {\n          const frame = document.getElementById(\"tensorboard-frame-693054719579bc84\");\n          const url = new URL(\"/\", window.location);\n          const port = 6506;\n          if (port) {\n            url.port = port;\n          }\n          frame.src = url;\n        })();\n      </script>\n    "
     },
     "metadata": {},
     "output_type": "display_data"
    }
   ],
   "source": [
    "%tensorboard --logdir \"logs/RoofSense\" --host localhost --port 6506\n",
    "\n",
    "\n",
    "\n",
    "\n",
    "\n"
   ],
   "metadata": {
    "collapsed": false,
    "ExecuteTime": {
     "end_time": "2024-03-07T10:30:09.387449Z",
     "start_time": "2024-03-07T10:30:03.172644Z"
    }
   },
   "id": "9c895e195f406516",
   "execution_count": 5
  },
  {
   "cell_type": "code",
   "outputs": [],
   "source": [
    "trainer = Trainer(callbacks=[checkpoint_callback, early_stopping_callback,\n",
    "                             # lightning.pytorch.callbacks.BatchSizeFinder(),\n",
    "                             # lightning.pytorch.callbacks.LearningRateFinder(),\n",
    "                             lightning.pytorch.callbacks.GradientAccumulationScheduler(scheduling={0: 5}),\n",
    "                             lightning.pytorch.callbacks.LearningRateMonitor()],\n",
    "                  log_every_n_steps=1,\n",
    "                  logger=logger,\n",
    "                  max_epochs=1000,\n",
    "                  # fast_dev_run=True\n",
    "\n",
    "                  )\n",
    "\n",
    "trainer.fit(model=task, datamodule=datamodule)"
   ],
   "metadata": {
    "collapsed": false
   },
   "id": "becc70d848be7133",
   "execution_count": null
  },
  {
   "cell_type": "code",
   "outputs": [],
   "source": [
    "trainer.state"
   ],
   "metadata": {
    "collapsed": false
   },
   "id": "fe2113701dafd386",
   "execution_count": null
  },
  {
   "cell_type": "code",
   "outputs": [],
   "source": [],
   "metadata": {
    "collapsed": false
   },
   "id": "b7aeac1218be9461",
   "execution_count": null
  },
  {
   "cell_type": "code",
   "outputs": [],
   "source": [
    "trainer.test(model=task, datamodule=datamodule)"
   ],
   "metadata": {
    "collapsed": false
   },
   "id": "9c0c9749a7862561",
   "execution_count": null
  },
  {
   "cell_type": "code",
   "outputs": [],
   "source": [
    "model = task.model.to(\"cpu\").eval()\n",
    "model"
   ],
   "metadata": {
    "collapsed": false
   },
   "id": "273719a836b2d34",
   "execution_count": null
  },
  {
   "cell_type": "code",
   "outputs": [],
   "source": [
    "from tqdm import tqdm\n",
    "import numpy as np\n",
    "\n",
    "y_preds = []\n",
    "y_trues = []\n",
    "for batch in tqdm(datamodule.test_dataloader()):\n",
    "    images = batch[\"image\"].to(\"cpu\")\n",
    "    y_trues.append(batch[\"mask\"].numpy())\n",
    "    with torch.inference_mode():\n",
    "        y_pred = model(images).argmax(dim=1).cpu().numpy()\n",
    "    y_preds.append(y_pred)\n",
    "\n",
    "y_preds = np.concatenate(y_preds)\n",
    "y_trues = np.concatenate(y_trues)"
   ],
   "metadata": {
    "collapsed": false
   },
   "id": "870c5078633e4fb2",
   "execution_count": null
  },
  {
   "cell_type": "code",
   "outputs": [],
   "source": [],
   "metadata": {
    "collapsed": false
   },
   "id": "a7d57067cd82ac4b",
   "execution_count": null
  },
  {
   "cell_type": "code",
   "outputs": [],
   "source": [
    "for batch in datamodule.val_dataloader():\n",
    "    print(batch[\"bbox\"])"
   ],
   "metadata": {
    "collapsed": false
   },
   "id": "3f09adee086b2c6a",
   "execution_count": null
  },
  {
   "cell_type": "code",
   "outputs": [],
   "source": [
    "\n",
    "\n",
    "minibatch_id = 5\n",
    "img = images[minibatch_id, :, :, :]\n",
    "msk = batch[\"mask\"].to(\"cpu\")[minibatch_id, :, :, :].squeeze()\n",
    "prd = model(images).argmax(dim=1).cpu()[minibatch_id, :, :]\n",
    "\n"
   ],
   "metadata": {
    "collapsed": false
   },
   "id": "90b4e1cd979fdb25",
   "execution_count": null
  },
  {
   "cell_type": "code",
   "outputs": [],
   "source": [
    "y_preds"
   ],
   "metadata": {
    "collapsed": false
   },
   "id": "f25547c5bfa9d692",
   "execution_count": null
  },
  {
   "cell_type": "code",
   "outputs": [],
   "source": [
    "import matplotlib.pyplot as plt\n",
    "\n",
    "datamodule.plot(datamodule.val_dataset[0])"
   ],
   "metadata": {
    "collapsed": false
   },
   "id": "806167344744d051",
   "execution_count": null
  },
  {
   "cell_type": "code",
   "outputs": [],
   "source": [
    "plt.imshow(y_preds.squeeze())"
   ],
   "metadata": {
    "collapsed": false
   },
   "id": "cab24217171b5492",
   "execution_count": null
  },
  {
   "cell_type": "code",
   "outputs": [],
   "source": [
    "from sklearn.metrics import precision_score, recall_score\n",
    "\n",
    "precision = precision_score(y_trues, y_preds, average=\"micro\")\n",
    "recall = recall_score(y_trues, y_preds, average=\"micro\")\n",
    "f1 = 2 * (precision * recall) / (precision + recall)\n",
    "print(precision, recall, f1)"
   ],
   "metadata": {
    "collapsed": false
   },
   "id": "30b8d8ac2cd6c521",
   "execution_count": null
  }
 ],
 "metadata": {
  "kernelspec": {
   "display_name": "Python 3",
   "language": "python",
   "name": "python3"
  },
  "language_info": {
   "codemirror_mode": {
    "name": "ipython",
    "version": 2
   },
   "file_extension": ".py",
   "mimetype": "text/x-python",
   "name": "python",
   "nbconvert_exporter": "python",
   "pygments_lexer": "ipython2",
   "version": "2.7.6"
  }
 },
 "nbformat": 4,
 "nbformat_minor": 5
}
