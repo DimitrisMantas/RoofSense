{
 "cells": [
  {
   "cell_type": "code",
   "outputs": [],
   "source": [
    "%matplotlib inline\n",
    "%load_ext tensorboard\n",
    "\n",
    "import torch\n",
    "from lightning.pytorch.callbacks import EarlyStopping, ModelCheckpoint\n",
    "from lightning.pytorch.loggers import TensorBoardLogger\n"
   ],
   "metadata": {
    "collapsed": false
   },
   "id": "9f14b5bb396992f3",
   "execution_count": null
  },
  {
   "cell_type": "code",
   "outputs": [],
   "source": [
    "checkpoint_callback = ModelCheckpoint(monitor=\"val_loss\", dirpath=\"logs/RoofSense\", save_top_k=1, save_last=True)\n",
    "early_stopping_callback = EarlyStopping(monitor=\"val_loss\", min_delta=0.00, patience=10)\n",
    "logger = TensorBoardLogger(save_dir=\"logs/RoofSense\")"
   ],
   "metadata": {
    "collapsed": false
   },
   "id": "b360736198916be9",
   "execution_count": null
  },
  {
   "cell_type": "code",
   "outputs": [],
   "source": [
    "from lightning import Trainer\n",
    "from torchgeo.trainers import SemanticSegmentationTask\n",
    "\n",
    "from classification.datamodules import TrainingDataModule\n",
    "\n",
    "datamodule = TrainingDataModule(  # Dataset Options\n",
    "    root=\"../pretraining\",  # Data Module Options\n",
    "    batch_size=3, patch_size=512,num_workers=10, )\n",
    "task = SemanticSegmentationTask(model=\"unet\",\n",
    "    backbone=\"resnet18\",\n",
    "    weights=False,\n",
    "    in_channels=6,\n",
    "    num_classes=9,\n",
    "    loss=\"focal\",\n",
    "    ignore_index=0,\n",
    "    lr=0.00001,\n",
    "    patience=6, )"
   ],
   "metadata": {
    "collapsed": true
   },
   "id": "initial_id",
   "execution_count": null
  },
  {
   "cell_type": "code",
   "outputs": [],
   "source": [
    "%tensorboard --logdir \"logs/RoofSense\" --host localhost --port 6001"
   ],
   "metadata": {
    "collapsed": false
   },
   "id": "9c895e195f406516",
   "execution_count": null
  },
  {
   "cell_type": "code",
   "outputs": [],
   "source": [
    "datamodule.setup(\"fit\")\n",
    "len(datamodule.train_batch_sampler)"
   ],
   "metadata": {
    "collapsed": false
   },
   "id": "80684ebbd0d27473",
   "execution_count": null
  },
  {
   "cell_type": "code",
   "outputs": [],
   "source": [
    "trainer = Trainer(callbacks=[checkpoint_callback, early_stopping_callback],\n",
    "    log_every_n_steps=1,\n",
    "    logger=logger,\n",
    "    max_epochs=10)\n",
    "\n",
    "trainer.fit(model=task, datamodule=datamodule)"
   ],
   "metadata": {
    "collapsed": false
   },
   "id": "becc70d848be7133",
   "execution_count": null
  },
  {
   "cell_type": "code",
   "outputs": [],
   "source": [],
   "metadata": {
    "collapsed": false
   },
   "id": "fe2113701dafd386"
  },
  {
   "cell_type": "code",
   "outputs": [],
   "source": [],
   "metadata": {
    "collapsed": false
   },
   "id": "b7aeac1218be9461",
   "execution_count": null
  },
  {
   "cell_type": "code",
   "outputs": [],
   "source": [
    "trainer.test(model=task, datamodule=datamodule)"
   ],
   "metadata": {
    "collapsed": false
   },
   "id": "9c0c9749a7862561",
   "execution_count": null
  },
  {
   "cell_type": "code",
   "outputs": [],
   "source": [
    "model = task.model.to(\"cpu\").eval()\n",
    "model"
   ],
   "metadata": {
    "collapsed": false
   },
   "id": "273719a836b2d34",
   "execution_count": null
  },
  {
   "cell_type": "code",
   "outputs": [],
   "source": [
    "from tqdm import tqdm\n",
    "import numpy as np\n",
    "\n",
    "y_preds = []\n",
    "y_trues = []\n",
    "for batch in tqdm(datamodule.test_dataloader()):\n",
    "    images = batch[\"image\"].to(\"cpu\")\n",
    "    y_trues.append(batch[\"mask\"].numpy())\n",
    "    with torch.inference_mode():\n",
    "        y_pred = model(images).argmax(dim=1).cpu().numpy()\n",
    "    y_preds.append(y_pred)\n",
    "\n",
    "\n",
    "\n",
    "y_preds = np.concatenate(y_preds)\n",
    "y_trues = np.concatenate(y_trues)"
   ],
   "metadata": {
    "collapsed": false
   },
   "id": "870c5078633e4fb2",
   "execution_count": null
  },
  {
   "cell_type": "code",
   "outputs": [],
   "source": [],
   "metadata": {
    "collapsed": false
   },
   "id": "a7d57067cd82ac4b",
   "execution_count": null
  },
  {
   "cell_type": "code",
   "outputs": [],
   "source": [
    "for batch in datamodule.val_dataloader():\n",
    "    print(batch[\"bbox\"])"
   ],
   "metadata": {
    "collapsed": false
   },
   "id": "3f09adee086b2c6a",
   "execution_count": null
  },
  {
   "cell_type": "code",
   "outputs": [],
   "source": [
    "\n",
    "\n",
    "minibatch_id = 5\n",
    "img = images[minibatch_id, :, :, :]\n",
    "msk = batch[\"mask\"].to(\"cpu\")[minibatch_id, :, :, :].squeeze()\n",
    "prd = model(images).argmax(dim=1).cpu()[minibatch_id, :, :]\n",
    "\n"
   ],
   "metadata": {
    "collapsed": false
   },
   "id": "90b4e1cd979fdb25",
   "execution_count": null
  },
  {
   "cell_type": "code",
   "outputs": [],
   "source": [
    "y_preds"
   ],
   "metadata": {
    "collapsed": false
   },
   "id": "f25547c5bfa9d692",
   "execution_count": null
  },
  {
   "cell_type": "code",
   "outputs": [],
   "source": [
    "import matplotlib.pyplot as plt\n",
    "\n",
    "datamodule.plot(datamodule.val_dataset\n",
    "                [0])"
   ],
   "metadata": {
    "collapsed": false
   },
   "id": "806167344744d051",
   "execution_count": null
  },
  {
   "cell_type": "code",
   "outputs": [],
   "source": [
    "plt.imshow(y_preds.squeeze())"
   ],
   "metadata": {
    "collapsed": false
   },
   "id": "cab24217171b5492",
   "execution_count": null
  },
  {
   "cell_type": "code",
   "outputs": [],
   "source": [
    "from sklearn.metrics import precision_score, recall_score\n",
    "\n",
    "precision = precision_score(y_trues, y_preds, average=\"micro\")\n",
    "recall = recall_score(y_trues, y_preds, average=\"micro\")\n",
    "f1 = 2 * (precision * recall) / (precision + recall)\n",
    "print(precision, recall, f1)"
   ],
   "metadata": {
    "collapsed": false
   },
   "id": "30b8d8ac2cd6c521",
   "execution_count": null
  }
 ],
 "metadata": {
  "kernelspec": {
   "display_name": "Python 3",
   "language": "python",
   "name": "python3"
  },
  "language_info": {
   "codemirror_mode": {
    "name": "ipython",
    "version": 2
   },
   "file_extension": ".py",
   "mimetype": "text/x-python",
   "name": "python",
   "nbconvert_exporter": "python",
   "pygments_lexer": "ipython2",
   "version": "2.7.6"
  }
 },
 "nbformat": 4,
 "nbformat_minor": 5
}
