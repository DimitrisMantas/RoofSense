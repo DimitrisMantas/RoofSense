{
 "cells": [
  {
   "cell_type": "code",
   "outputs": [],
   "source": [
    "from classification.datamodules import TrainingDataModule\n",
    "from lightning import Trainer\n",
    "from torchgeo.trainers import SemanticSegmentationTask\n",
    "from torchgeo.datamodules import LandCoverAIDataModule\n",
    "\n",
    "datamodule = TrainingDataModule(\n",
    "    # Dataset Options\n",
    "    paths=\"../pretraining\",\n",
    "    # Data Module Options\n",
    "    batch_size=8, \n",
    "    num_workers=10)\n",
    "task = SemanticSegmentationTask(\n",
    "    model=\"unet\",\n",
    "    backbone=\"resnet18\",\n",
    "    weights=True,\n",
    "    in_channels=3,\n",
    "    # 4 actual classes + background/other\n",
    "    num_classes=4+1,\n",
    "    loss=\"ce\",\n",
    "    ignore_index=None,\n",
    "    lr=0.1,\n",
    "    patience=6,\n",
    ")\n",
    "trainer = Trainer(default_root_dir=\"logs/RoofSense\")\n",
    "\n",
    "trainer.fit(model=task, datamodule=datamodule)"
   ],
   "metadata": {
    "collapsed": true
   },
   "id": "initial_id",
   "execution_count": null
  }
 ],
 "metadata": {
  "kernelspec": {
   "display_name": "Python 3",
   "language": "python",
   "name": "python3"
  },
  "language_info": {
   "codemirror_mode": {
    "name": "ipython",
    "version": 2
   },
   "file_extension": ".py",
   "mimetype": "text/x-python",
   "name": "python",
   "nbconvert_exporter": "python",
   "pygments_lexer": "ipython2",
   "version": "2.7.6"
  }
 },
 "nbformat": 4,
 "nbformat_minor": 5
}
