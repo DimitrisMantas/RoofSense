{
 "cells": [
  {
   "cell_type": "code",
   "execution_count": null,
   "id": "initial_id",
   "metadata": {
    "collapsed": true
   },
   "outputs": [],
   "source": [
    "import glob\n",
    "\n",
    "import cv2\n",
    "import numpy as np\n",
    "import rasterio.plot"
   ]
  },
  {
   "cell_type": "code",
   "outputs": [],
   "source": [
    "tifs = sorted(glob.glob(\"C:/Users/Dimit/Desktop/ref_data/imgs/tif/*.tif\"))\n",
    "tifs"
   ],
   "metadata": {
    "collapsed": false
   },
   "id": "57a5efcd0ad60c0b",
   "execution_count": null
  },
  {
   "cell_type": "code",
   "outputs": [],
   "source": [
    "src: rasterio.io.DatasetReader\n",
    "dst: rasterio.io.DatasetWriter\n",
    "\n",
    "for tif in tifs:\n",
    "    with rasterio.open(tif) as src:\n",
    "        data: np.ndarray[tuple[3, 512, 512], np.dtype[np.uint8]] = src.read()\n",
    "    png = tif.replace(\"tif\", \"png\")\n",
    "\n",
    "    # Rearrange the image from BxHxW to HxWxB.\n",
    "    data = rasterio.plot.reshape_as_image(data)\n",
    "    # Convert the color space to RGB.\n",
    "    # NOTE: OpenCV assumes that three-band images are in BGR.\n",
    "    data = cv2.cvtColor(data, cv2.COLOR_BGR2RGB)\n",
    "\n",
    "    cv2.imwrite(png, data)"
   ],
   "metadata": {
    "collapsed": false
   },
   "id": "2750faea3ab861aa",
   "execution_count": null
  }
 ],
 "metadata": {
  "kernelspec": {
   "display_name": "Python 3",
   "language": "python",
   "name": "python3"
  },
  "language_info": {
   "codemirror_mode": {
    "name": "ipython",
    "version": 2
   },
   "file_extension": ".py",
   "mimetype": "text/x-python",
   "name": "python",
   "nbconvert_exporter": "python",
   "pygments_lexer": "ipython2",
   "version": "2.7.6"
  }
 },
 "nbformat": 4,
 "nbformat_minor": 5
}
