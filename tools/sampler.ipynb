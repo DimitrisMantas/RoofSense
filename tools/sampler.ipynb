{
 "cells": [
  {
   "cell_type": "code",
   "execution_count": 1,
   "id": "initial_id",
   "metadata": {
    "ExecuteTime": {
     "end_time": "2024-01-26T09:38:24.284683100Z",
     "start_time": "2024-01-26T09:38:23.644233200Z"
    },
    "collapsed": true
   },
   "outputs": [],
   "source": [
    "import geopy.geocoders\n",
    "import pyproj"
   ]
  },
  {
   "cell_type": "code",
   "execution_count": 2,
   "id": "bcf0ba6c2539a110",
   "metadata": {
    "ExecuteTime": {
     "end_time": "2024-01-26T09:38:24.293033400Z",
     "start_time": "2024-01-26T09:38:24.285682200Z"
    },
    "collapsed": false
   },
   "outputs": [],
   "source": [
    "cities = [\n",
    "    \"Amsterdam\",\n",
    "    \"Rotterdam\",\n",
    "    \"The Hague\",\n",
    "    \"Utrecht\",\n",
    "    \"Eindhoven\",\n",
    "    \"Groningen\",\n",
    "    \"Tilburg\",\n",
    "    \"Almere\",\n",
    "    \"Breda\",\n",
    "    \"Nijmegen\",\n",
    "    \"Apeldoorn\",\n",
    "    \"Arnhem\",\n",
    "    \"Haarlem\",\n",
    "    \"Haarlemmermeer\",\n",
    "    \"Amersfoort\",\n",
    "    \"Zaanstad\",\n",
    "    \"Enschede\",\n",
    "    \"Den Bosch\",\n",
    "    \"Zwolle\",\n",
    "    \"Leiden\",\n",
    "    \"Zoetermeer\",\n",
    "    \"Leeuwarden\",\n",
    "    \"Ede\",\n",
    "    \"Maastricht\",\n",
    "    \"Dordrecht\",\n",
    "    \"Westland\",\n",
    "    \"Alphen aan den Rijn\",\n",
    "    \"Alkmaar\",\n",
    "    \"Emmen\",\n",
    "    \"Delft\",\n",
    "    \"Venlo\",\n",
    "    \"Deventer\",\n",
    "]"
   ]
  },
  {
   "cell_type": "code",
   "execution_count": 3,
   "id": "aa24afa3153e1030",
   "metadata": {
    "ExecuteTime": {
     "end_time": "2024-01-26T09:38:25.018263200Z",
     "start_time": "2024-01-26T09:38:24.290034800Z"
    },
    "collapsed": false
   },
   "outputs": [],
   "source": [
    "geocoder = geopy.geocoders.GoogleV3(api_key=\"\", user_agent=\"RoofSense\")\n",
    "transform = pyproj.Transformer.from_crs(\"EPSG:4326\", \"EPSG:28992\")\n",
    "\n",
    "coords = []\n",
    "for city in cities:\n",
    "    loc = geocoder.geocode(city + \", The Netherlands\")\n",
    "    coords.append(transform.transform(loc.latitude, loc.longitude))"
   ]
  },
  {
   "cell_type": "code",
   "execution_count": 4,
   "id": "d8018e53760561bb",
   "metadata": {
    "ExecuteTime": {
     "end_time": "2024-01-26T09:38:25.135330400Z",
     "start_time": "2024-01-26T09:38:25.019266Z"
    },
    "collapsed": false
   },
   "outputs": [
    {
     "data": {
      "text/plain": "array([[122099.43890515, 486741.8837357 ],\n       [ 92440.72909168, 437718.23785774],\n       [ 80506.93452031, 454136.43990916],\n       [136785.11843337, 455864.29540014],\n       [160222.72072687, 381560.76439453],\n       [233769.85520987, 582063.58252238],\n       [134523.63515077, 396891.44567311],\n       [146653.40646444, 484771.34749008],\n       [112095.51197265, 398291.40750747],\n       [187645.41895619, 428406.09035804],\n       [194827.58964878, 469388.99616688],\n       [190139.03507318, 444202.13996667],\n       [104555.98609331, 489094.80373433],\n       [106376.41334198, 479394.87800741],\n       [155042.63974679, 463104.47407499],\n       [111760.84802825, 496879.7216355 ],\n       [257934.71772167, 471453.21383062],\n       [149225.40885824, 412119.41311556],\n       [202230.8428682 , 503460.5240494 ],\n       [ 92945.86585989, 464327.49705625],\n       [ 93747.76304513, 452862.25615372],\n       [182578.63807429, 579477.74349286],\n       [174050.09745819, 450241.11199866],\n       [176393.07963465, 317992.64465557],\n       [106929.37445734, 425194.21853789],\n       [ 74672.13841571, 446290.66719676],\n       [105053.2423875 , 460380.49555226],\n       [112089.35010129, 516284.84311949],\n       [256494.43312439, 534269.24028619],\n       [ 84278.46228823, 447525.12674071],\n       [209676.3523002 , 375982.04696097],\n       [207426.96611305, 475617.01288587]])"
     },
     "execution_count": 4,
     "metadata": {},
     "output_type": "execute_result"
    }
   ],
   "source": [
    "import numpy as np\n",
    "\n",
    "a = np.array(coords)\n",
    "a"
   ]
  },
  {
   "cell_type": "code",
   "execution_count": 5,
   "id": "4723bf09758e812e",
   "metadata": {
    "ExecuteTime": {
     "end_time": "2024-01-26T09:38:25.566044Z",
     "start_time": "2024-01-26T09:38:25.131331800Z"
    },
    "collapsed": false
   },
   "outputs": [],
   "source": [
    "import geopandas as gpd\n",
    "\n",
    "pts = gpd.points_from_xy(a[:, 0], a[:, 1], crs=\"EPSG:28992\")\n",
    "\n",
    "gpd.GeoDataFrame(data={\"id\": cities}, geometry=pts).to_file(\"cities.gpkg\")"
   ]
  },
  {
   "cell_type": "code",
   "execution_count": 6,
   "id": "bf2d04df2ca91de3",
   "metadata": {
    "ExecuteTime": {
     "end_time": "2024-01-26T09:42:01.135887700Z",
     "start_time": "2024-01-26T09:42:01.115265500Z"
    },
    "collapsed": false
   },
   "outputs": [],
   "source": [
    "cities = gpd.read_file(\"cities.gpkg\")"
   ]
  }
 ],
 "metadata": {
  "kernelspec": {
   "display_name": "Python 3",
   "language": "python",
   "name": "python3"
  },
  "language_info": {
   "codemirror_mode": {
    "name": "ipython",
    "version": 2
   },
   "file_extension": ".py",
   "mimetype": "text/x-python",
   "name": "python",
   "nbconvert_exporter": "python",
   "pygments_lexer": "ipython2",
   "version": "2.7.6"
  }
 },
 "nbformat": 4,
 "nbformat_minor": 5
}
