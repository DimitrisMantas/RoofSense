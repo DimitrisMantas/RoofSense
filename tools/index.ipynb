{
 "cells": [
  {
   "cell_type": "code",
   "execution_count": 1,
   "id": "initial_id",
   "metadata": {
    "collapsed": true,
    "ExecuteTime": {
     "end_time": "2024-03-18T17:30:23.390254Z",
     "start_time": "2024-03-18T17:30:20.756192Z"
    }
   },
   "outputs": [],
   "source": [
    "from __future__ import annotations\n",
    "\n",
    "import pathlib\n",
    "import re\n",
    "import sqlite3\n",
    "import warnings\n",
    "from os import PathLike\n",
    "\n",
    "import geopandas as gpd\n",
    "\n",
    "import config\n",
    "\n",
    "config.config()"
   ]
  },
  {
   "cell_type": "code",
   "outputs": [],
   "source": [
    "BAG3D_BASE_DATA_URL = \"https://data.3dbag.nl/\"\n",
    "BAG3D_VERSION = \"v2024.02.28\""
   ],
   "metadata": {
    "collapsed": false,
    "ExecuteTime": {
     "end_time": "2024-03-18T17:30:41.163533Z",
     "start_time": "2024-03-18T17:30:41.160736Z"
    }
   },
   "id": "c3699c688c80541c",
   "execution_count": 2
  },
  {
   "cell_type": "code",
   "outputs": [],
   "source": [
    "def get_version(path: str | bytes | PathLike) -> str:\n",
    "    # NOTE: A GeoPackage files is an SQLite database with a standardized structure.\n",
    "    con = sqlite3.connect(path)\n",
    "    cur = con.cursor()\n",
    "\n",
    "    # NOTE: The column and table names used in this query are specified by the GeoPackage standard and are guaranteed to be the same regardless of dataset.\n",
    "    query = \"SELECT metadata FROM gpkg_metadata\"\n",
    "    # NOTE: The result of the query is also specified by the standard.\n",
    "    meta = cur.execute(query).fetchone()[0]\n",
    "\n",
    "    # NOTE: The versioning scheme used by RoofSense is the same as that of the 3DBAG. See https://docs.3dbag.nl/en/overview/release_notes/ for more information.\n",
    "    ver_fmt = r\"v\\d{4}\\.\\d{2}\\.\\d{2}\"\n",
    "    ver = re.search(ver_fmt, meta)\n",
    "    if ver is None:\n",
    "        raise RuntimeError(f\"Failed to infer the file version of the tile index: {path!r}. The file may have not been produced by RoofSens or be corrupt.\")\n",
    "    return ver.group()"
   ],
   "metadata": {
    "collapsed": false,
    "ExecuteTime": {
     "end_time": "2024-03-18T17:30:42.671433Z",
     "start_time": "2024-03-18T17:30:42.666538Z"
    }
   },
   "id": "59386cdb7c1c6790",
   "execution_count": 3
  },
  {
   "cell_type": "code",
   "outputs": [],
   "source": [
    "from enum import UNIQUE, verify, StrEnum, auto\n",
    "from collections.abc import Mapping\n",
    "from typing import Optional\n",
    "\n",
    "\n",
    "@verify(UNIQUE)\n",
    "class Index(StrEnum):\n",
    "    BAG3D = auto()\n",
    "    IMAGE = auto()\n",
    "    LIDAR = auto()\n",
    "\n",
    "\n",
    "def update_indices(src_filepaths: Optional[Mapping[Index, str | bytes | PathLike]] = None,\n",
    "                   dst_filepaths: Optional[Mapping[Index, str | bytes | PathLike]] = None) -> None:\n",
    "    # validate inputs\n",
    "    if src_filepaths is None:\n",
    "        _src_fpaths = {Index.BAG3D: \"tmp/bag3d.gpkg\", Index.IMAGE: \"tmp/image.gpkg\", Index.LIDAR: \"tmp/lidar.gpkg\", }\n",
    "    else:\n",
    "        _src_fpaths = src_filepaths\n",
    "    \n",
    "    if dst_filepaths is None:\n",
    "        _dst_fpaths = {Index.BAG3D: \"tmp/bag3d.gpkg\", Index.IMAGE: \"tmp/image.gpkg\", Index.LIDAR: \"tmp/lidar.gpkg\", }\n",
    "    else:\n",
    "        _dst_fpaths = dst_filepaths\n",
    "\n",
    "    # validate version\n",
    "    bag3d_fpath = _dst_fpaths[Index.BAG3D]\n",
    "    if pathlib.Path(bag3d_fpath).is_file():\n",
    "        ver = get_version(bag3d_fpath)\n",
    "    else:\n",
    "        warnings.warn(f\"Unable to locate a local copy of the 3DBAG tile index at {bag3d_fpath!r}. The file does not exist.\",\n",
    "                      UserWarning)\n",
    "        ver = \"\"\n",
    "\n",
    "    # update indices\n",
    "    if ver != BAG3D_VERSION:\n",
    "        if ver:\n",
    "            warnings.warn(f\"Detected version mismatch between declared ({BAG3D_VERSION}) and existing ({ver}) 3DBAG versions. The tle indices will be updated.\",\n",
    "                          UserWarning)\n",
    "        _update_bag3d_index(_src_fpaths[Index.BAG3D], _dst_fpaths[Index.BAG3D])\n",
    "        _update_image_index(_src_fpaths[Index.IMAGE], _dst_fpaths[Index.IMAGE])\n",
    "        _update_lidar_index(_src_fpaths[Index.LIDAR], _dst_fpaths[Index.LIDAR])\n",
    "\n",
    "\n",
    "def _update_bag3d_index(src_filepath: str | bytes | PathLike, dst_filepath: str | bytes | PathLike) -> None:\n",
    "    index_url = f\"{BAG3D_BASE_DATA_URL}{BAG3D_VERSION.replace('.', '')}/tile_index.fgb\"\n",
    "    index = gpd.read_file(index_url)\n",
    "    columns = {\"tile_id\": \"id\", \"cj_sha256\": \"sha256\", \"cj_download\": \"url\", \"geometry\": \"geometry\", }\n",
    "    index = index[columns.keys()].rename(columns=columns)\n",
    "\n",
    "\n",
    "def _update_image_index(out_dir):\n",
    "    ...\n",
    "\n",
    "\n",
    "def _update_lidar_index(out_dir):\n",
    "    ..."
   ],
   "metadata": {
    "collapsed": false,
    "ExecuteTime": {
     "end_time": "2024-03-18T17:30:45.810108Z",
     "start_time": "2024-03-18T17:30:45.803649Z"
    }
   },
   "id": "96a07f40cea2db48",
   "execution_count": 4
  },
  {
   "cell_type": "code",
   "outputs": [
    {
     "name": "stderr",
     "output_type": "stream",
     "text": [
      "C:\\Users\\Dimit\\AppData\\Local\\Temp\\ipykernel_22452\\2261931556.py:6: UserWarning: '' does not exist.\n",
      "  warnings.warn(f\"{out_dir!r} does not exist.\", UserWarning)\n",
      "C:\\Users\\Dimit\\AppData\\Local\\Temp\\ipykernel_22452\\2261931556.py:10: UserWarning: Detected version mismatch. Updating indices...\n",
      "  warnings.warn(\"Detected version mismatch. Updating indices...\", UserWarning)\n"
     ]
    }
   ],
   "source": [
    "update_indices()"
   ],
   "metadata": {
    "collapsed": false,
    "ExecuteTime": {
     "end_time": "2024-03-18T17:32:10.001412Z",
     "start_time": "2024-03-18T17:32:09.468762Z"
    }
   },
   "id": "88c2de99c0acffd8",
   "execution_count": 6
  }
 ],
 "metadata": {
  "kernelspec": {
   "display_name": "Python 3",
   "language": "python",
   "name": "python3"
  },
  "language_info": {
   "codemirror_mode": {
    "name": "ipython",
    "version": 2
   },
   "file_extension": ".py",
   "mimetype": "text/x-python",
   "name": "python",
   "nbconvert_exporter": "python",
   "pygments_lexer": "ipython2",
   "version": "2.7.6"
  }
 },
 "nbformat": 4,
 "nbformat_minor": 5
}
