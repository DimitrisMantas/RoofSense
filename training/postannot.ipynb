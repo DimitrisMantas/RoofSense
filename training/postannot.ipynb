{
 "cells": [
  {
   "cell_type": "code",
   "id": "initial_id",
   "metadata": {
    "collapsed": true,
    "ExecuteTime": {
     "end_time": "2024-06-05T03:32:39.670195Z",
     "start_time": "2024-06-05T03:32:38.232619Z"
    }
   },
   "source": [
    "import collections\n",
    "import copy\n",
    "import functools\n",
    "import glob\n",
    "import json\n",
    "import os\n",
    "import os.path\n",
    "import shutil\n",
    "import warnings\n",
    "\n",
    "import geopandas as gpd\n",
    "import numpy as np\n",
    "import rasterio.mask"
   ],
   "outputs": [],
   "execution_count": 1
  },
  {
   "metadata": {
    "ExecuteTime": {
     "end_time": "2024-06-05T03:33:00.847002Z",
     "start_time": "2024-06-05T03:33:00.842002Z"
    }
   },
   "cell_type": "code",
   "source": [
    "# Set up a temporary subset of the complete dataset to accommodate the currently annotated images.\n",
    "os.makedirs(\"../dataset/temp/imgs\", exist_ok=True)\n",
    "os.makedirs(\"../dataset/temp/msks\", exist_ok=True)"
   ],
   "id": "7e0eba256deaf548",
   "outputs": [],
   "execution_count": 2
  },
  {
   "metadata": {
    "ExecuteTime": {
     "end_time": "2024-06-05T03:33:26.853138Z",
     "start_time": "2024-06-05T03:33:26.847094Z"
    }
   },
   "cell_type": "code",
   "source": [
    "# Find the segmentation masks in the Roboflow output folder.\n",
    "src_maskpaths = glob.glob(\"C:/Users/Dimit/Downloads/RoofSense.v2-batch-2-unchecked-.png-mask-semantic/train/*.png\")\n",
    "src_maskpaths.sort()\n",
    "\n",
    "# Build the corresponding destination paths.\n",
    "dst_maskpaths = []\n",
    "for filepath in src_maskpaths:\n",
    "    dst_maskpaths.append(f\"../dataset/temp/msks/{os.path.basename(filepath[:filepath.index('_png')])}.tif\")"
   ],
   "id": "a8557a728806c999",
   "outputs": [],
   "execution_count": 3
  },
  {
   "metadata": {
    "ExecuteTime": {
     "end_time": "2024-06-05T03:33:29.027345Z",
     "start_time": "2024-06-05T03:33:29.021815Z"
    }
   },
   "cell_type": "code",
   "source": [
    "# Group the masks by the corresponding tile ID.\n",
    "def get_tile_id(filepath: str) -> str:\n",
    "    return os.path.basename(filepath[:filepath.index(\"_\")])\n",
    "\n",
    "\n",
    "maskgroups: dict[str, dict[list[str]]] = collections.defaultdict(functools.partial(collections.defaultdict, list))\n",
    "for src, dst in zip(src_maskpaths, dst_maskpaths):\n",
    "    tile_id = get_tile_id(src)\n",
    "\n",
    "    maskgroups[tile_id][\"src\"].append(src)\n",
    "    maskgroups[tile_id][\"dst\"].append(dst)"
   ],
   "id": "f5ff98d4d7d6fba8",
   "outputs": [],
   "execution_count": 4
  },
  {
   "metadata": {
    "ExecuteTime": {
     "end_time": "2024-06-05T03:33:33.787757Z",
     "start_time": "2024-06-05T03:33:32.043148Z"
    }
   },
   "cell_type": "code",
   "source": [
    "# Copy the corresponding images to the subset.\n",
    "for dst in dst_maskpaths:\n",
    "    imagename = os.path.basename(dst)\n",
    "    shutil.copy2(f\"../dataset/imgs/{imagename}\",\n",
    "                 dst=f\"../dataset/temp/imgs/{imagename}\")"
   ],
   "id": "35ab1759a72b4550",
   "outputs": [],
   "execution_count": 5
  },
  {
   "metadata": {
    "ExecuteTime": {
     "end_time": "2024-06-05T03:33:57.265708Z",
     "start_time": "2024-06-05T03:33:36.790004Z"
    }
   },
   "cell_type": "code",
   "source": [
    "# Keep track of the class frequencies and the total number of valid pixels.\n",
    "clsfreqs = {i: 0 for i in range(14)}\n",
    "validpx = 0\n",
    "\n",
    "img_src: rasterio.io.DatasetReader\n",
    "msk_src: rasterio.io.DatasetReader\n",
    "msk_dst: rasterio.io.DatasetWriter\n",
    "\n",
    "for tile_id, filepaths in maskgroups.items():\n",
    "    surfs = gpd.read_file(f\"../temp/{tile_id}.surf.gpkg\").dissolve()\n",
    "    for src, dst in zip(filepaths[\"src\"], filepaths[\"dst\"]):\n",
    "        imagename = os.path.basename(dst)\n",
    "        with (warnings.catch_warnings()):\n",
    "            warnings.filterwarnings(\"ignore\", category=rasterio.errors.NotGeoreferencedWarning)\n",
    "\n",
    "            # Georeference the masks.\n",
    "            with rasterio.open(f\"../dataset/temp/imgs/{imagename}\") as img_src, rasterio.open(src) as msk_src:\n",
    "                msk_data = msk_src.read()\n",
    "\n",
    "                msk_profile = copy.deepcopy(img_src.profile)\n",
    "                msk_profile.update(count=1, dtype=np.uint8, nodata=0)\n",
    "\n",
    "                with rasterio.open(dst, mode=\"w+\", **msk_profile) as msk_dst:\n",
    "                    msk_dst.write(msk_data)\n",
    "\n",
    "                    # Remask the backgound.\n",
    "                    msk_data, _ = rasterio.mask.mask(msk_dst, shapes=surfs[\"geometry\"])\n",
    "\n",
    "                    # Replace invalid pixels with background.\n",
    "                    msk_data[msk_data == 6] = 0\n",
    "\n",
    "                    msk_dst.write(msk_data)\n",
    "\n",
    "                # Update the class frequencies and valid pixel count.\n",
    "                for cls, freq in zip(*np.unique(msk_data[msk_data != 0], return_counts=True)):\n",
    "                    clsfreqs[cls] += freq\n",
    "\n",
    "                validpx += np.count_nonzero(msk_data)"
   ],
   "id": "98638c9c643d375d",
   "outputs": [],
   "execution_count": 6
  },
  {
   "metadata": {
    "ExecuteTime": {
     "end_time": "2024-06-05T03:34:09.463371Z",
     "start_time": "2024-06-05T03:34:06.484615Z"
    }
   },
   "cell_type": "code",
   "source": [
    "src_names = {\n",
    "    0: \"__ignore__\",\n",
    "    1: \"Asphalt Shingles\",\n",
    "    2: \"Bituminous Coating / Membranes\",\n",
    "    3: \"Ceramic Tiles\",\n",
    "    4: \"Concrete\",\n",
    "    5: \"Gravel\",\n",
    "    6: \"Invalid\",\n",
    "    7: \"Light-permitting Opening\",\n",
    "    8: \"Metal\",\n",
    "    9: \"Non-bituminous Coating / Membranes\",\n",
    "    10: \"Other\",\n",
    "    11: \"Solar Panel Installation\",\n",
    "    12: \"Superstructure\",\n",
    "    13: \"Vegetation\"}\n",
    "\n",
    "src_colors = {\n",
    "    0: [0, 0, 0, 255],\n",
    "    1: [1, 25, 89, 255],\n",
    "    2: [250, 204, 250, 255],\n",
    "    3: [130, 130, 49, 255],\n",
    "    4: [33, 95, 96, 255],\n",
    "    5: [241, 156, 107, 255],\n",
    "    6: [255, 255, 255, 255],\n",
    "    7: [77, 114, 76, 255],\n",
    "    8: [17, 67, 96, 255],\n",
    "    9: [253, 179, 179, 255],\n",
    "    10: [192, 144, 53, 255],\n",
    "    11: [22, 82, 98, 255],\n",
    "    12: [252, 191, 213, 255],\n",
    "    13: [251, 167, 144, 255]\n",
    "\n",
    "}\n",
    "\n",
    "# Discard the annotation classes which do not appear in the destination masks.\n",
    "invalid_classes = []\n",
    "for cls, freq in clsfreqs.items():\n",
    "    if cls != 0 and freq == 0:\n",
    "        invalid_classes.append(cls)\n",
    "\n",
    "for cls in invalid_classes:\n",
    "    clsfreqs.pop(cls)\n",
    "\n",
    "# Remap the remaining classes to a continuous range.\n",
    "cls_mapping = {new: old for new, old in zip(range(len(clsfreqs)), clsfreqs.keys())}\n",
    "\n",
    "for tile_id, filepaths in maskgroups.items():\n",
    "    for src, dst in zip(filepaths[\"src\"], filepaths[\"dst\"]):\n",
    "        with rasterio.open(dst, mode=\"r+\", **msk_profile) as src:\n",
    "            data = src.read()\n",
    "            for new, old in cls_mapping.items():\n",
    "                data[data == old] = new\n",
    "            src.write(data)\n",
    "\n",
    "# Save the corresponding name and color mappings.\n",
    "dst_names: dict[int, str] = {}\n",
    "dst_colors: dict[int, list[int]] = {}\n",
    "for new, old in cls_mapping.items():\n",
    "    dst_names[new] = src_names[old]\n",
    "    dst_colors[new] = src_colors[old]\n",
    "\n",
    "with open(\"../dataset/temp/classes.json\", mode=\"w\") as f:\n",
    "    json.dump(dst_names, f)\n",
    "\n",
    "with open(\"../dataset/temp/colors.json\", mode=\"w\") as f:\n",
    "    json.dump(dst_colors, f)"
   ],
   "id": "ab5bbc3f6b99a8eb",
   "outputs": [],
   "execution_count": 7
  },
  {
   "metadata": {
    "ExecuteTime": {
     "end_time": "2024-06-05T03:34:33.881821Z",
     "start_time": "2024-06-05T03:34:33.876920Z"
    }
   },
   "cell_type": "code",
   "source": [
    "# Compute and save the class weights.\n",
    "clswghts = (np.array(list(clsfreqs.values()), dtype=np.float32) / validpx) ** -1\n",
    "\n",
    "# Snap the total number of background to zero to force them to be ignored.\n",
    "# NOTE: Setting the null class weights to a small positive value instead of actually zero ensures a valid loss value when encountering image patches containing only said classes.\n",
    "clswghts[0] = 1e-5\n",
    "clswghts[1:]/=clswghts[1:].sum()\n",
    "\n",
    "np.save(\"../dataset/temp/weights\", clswghts)"
   ],
   "id": "4b54f29f034d947e",
   "outputs": [
    {
     "name": "stderr",
     "output_type": "stream",
     "text": [
      "C:\\Users\\Dimit\\AppData\\Local\\Temp\\ipykernel_16892\\2567222259.py:2: RuntimeWarning: divide by zero encountered in reciprocal\n",
      "  clswghts = (np.array(list(clsfreqs.values()), dtype=np.float32) / validpx) ** -1\n"
     ]
    }
   ],
   "execution_count": 8
  },
  {
   "metadata": {
    "ExecuteTime": {
     "end_time": "2024-06-05T03:35:32.370692Z",
     "start_time": "2024-06-05T03:35:32.361724Z"
    }
   },
   "cell_type": "code",
   "source": [
    "np.set_printoptions(suppress=True)\n",
    "\n",
    "np.load(\"../dataset/temp/weights.npy\")"
   ],
   "id": "47f6f700551f54f1",
   "outputs": [
    {
     "data": {
      "text/plain": [
       "array([0.00001   , 0.02830823, 0.06861622, 0.02898338, 0.40045056,\n",
       "       0.06691286, 0.04502055, 0.09106125, 0.27064695])"
      ]
     },
     "execution_count": 10,
     "metadata": {},
     "output_type": "execute_result"
    }
   ],
   "execution_count": 10
  }
 ],
 "metadata": {
  "kernelspec": {
   "display_name": "Python 3",
   "language": "python",
   "name": "python3"
  },
  "language_info": {
   "codemirror_mode": {
    "name": "ipython",
    "version": 2
   },
   "file_extension": ".py",
   "mimetype": "text/x-python",
   "name": "python",
   "nbconvert_exporter": "python",
   "pygments_lexer": "ipython2",
   "version": "2.7.6"
  }
 },
 "nbformat": 4,
 "nbformat_minor": 5
}
