{
 "cells": [
  {
   "cell_type": "code",
   "id": "initial_id",
   "metadata": {
    "collapsed": true,
    "ExecuteTime": {
     "end_time": "2024-06-15T02:31:50.479520Z",
     "start_time": "2024-06-15T02:31:50.475861Z"
    }
   },
   "source": [
    "import collections\n",
    "import copy\n",
    "import functools\n",
    "import glob\n",
    "import json\n",
    "import os\n",
    "import os.path\n",
    "import shutil\n",
    "import warnings\n",
    "\n",
    "import geopandas as gpd\n",
    "import numpy as np\n",
    "import rasterio.mask"
   ],
   "outputs": [],
   "execution_count": 37
  },
  {
   "metadata": {
    "ExecuteTime": {
     "end_time": "2024-06-15T02:31:50.493210Z",
     "start_time": "2024-06-15T02:31:50.481038Z"
    }
   },
   "cell_type": "code",
   "source": [
    "# Set up a temporary subset of the complete dataset to accommodate the currently annotated images.\n",
    "os.makedirs(\"../dataset/temp/imgs\", exist_ok=True)\n",
    "os.makedirs(\"../dataset/temp/msks\", exist_ok=True)"
   ],
   "id": "7e0eba256deaf548",
   "outputs": [],
   "execution_count": 38
  },
  {
   "metadata": {
    "ExecuteTime": {
     "end_time": "2024-06-15T02:31:50.502284Z",
     "start_time": "2024-06-15T02:31:50.496218Z"
    }
   },
   "cell_type": "code",
   "source": [
    "# Find the segmentation masks in the Roboflow output folder.\n",
    "src_maskpaths = glob.glob(\"C:/Users/Dimit/Downloads/RoofSense.v2-batch-2-unchecked-.png-mask-semantic/train/*.png\")\n",
    "src_maskpaths.sort()\n",
    "\n",
    "# Build the corresponding destination paths.\n",
    "dst_maskpaths = []\n",
    "for filepath in src_maskpaths:\n",
    "    dst_maskpaths.append(f\"../dataset/temp/msks/{os.path.basename(filepath[:filepath.index('_png')])}.tif\")"
   ],
   "id": "a8557a728806c999",
   "outputs": [],
   "execution_count": 39
  },
  {
   "metadata": {
    "ExecuteTime": {
     "end_time": "2024-06-15T02:31:50.528006Z",
     "start_time": "2024-06-15T02:31:50.524289Z"
    }
   },
   "cell_type": "code",
   "source": [
    "# Group the masks by the corresponding tile ID.\n",
    "def get_tile_id(filepath: str) -> str:\n",
    "    return os.path.basename(filepath[:filepath.index(\"_\")])\n",
    "\n",
    "\n",
    "maskgroups: dict[str, dict[list[str]]] = collections.defaultdict(functools.partial(collections.defaultdict, list))\n",
    "for src, dst in zip(src_maskpaths, dst_maskpaths):\n",
    "    tile_id = get_tile_id(src)\n",
    "\n",
    "    maskgroups[tile_id][\"src\"].append(src)\n",
    "    maskgroups[tile_id][\"dst\"].append(dst)"
   ],
   "id": "f5ff98d4d7d6fba8",
   "outputs": [],
   "execution_count": 40
  },
  {
   "metadata": {
    "ExecuteTime": {
     "end_time": "2024-06-15T02:31:51.195669Z",
     "start_time": "2024-06-15T02:31:50.529015Z"
    }
   },
   "cell_type": "code",
   "source": [
    "# Copy the corresponding images to the subset.\n",
    "for dst in dst_maskpaths:\n",
    "    imagename = os.path.basename(dst)\n",
    "    shutil.copy2(f\"../dataset/imgs/{imagename}\",\n",
    "                 dst=f\"../dataset/temp/imgs/{imagename}\")"
   ],
   "id": "35ab1759a72b4550",
   "outputs": [],
   "execution_count": 41
  },
  {
   "metadata": {
    "ExecuteTime": {
     "end_time": "2024-06-15T02:32:11.032340Z",
     "start_time": "2024-06-15T02:31:51.196674Z"
    }
   },
   "cell_type": "code",
   "source": [
    "# Keep track of the class frequencies and the total number of valid pixels.\n",
    "micro_clsfreqs = {i: 0 for i in range(14)}\n",
    "macro_clsfreqs = {i: 0 for i in range(14)}\n",
    "validpx = 0\n",
    "validim = 0\n",
    "\n",
    "img_src: rasterio.io.DatasetReader\n",
    "msk_src: rasterio.io.DatasetReader\n",
    "msk_dst: rasterio.io.DatasetWriter\n",
    "\n",
    "for tile_id, filepaths in maskgroups.items():\n",
    "    surfs = gpd.read_file(f\"../temp/{tile_id}.surf.gpkg\").dissolve()\n",
    "    for src, dst in zip(filepaths[\"src\"], filepaths[\"dst\"]):\n",
    "        imagename = os.path.basename(dst)\n",
    "        with (warnings.catch_warnings()):\n",
    "            warnings.filterwarnings(\"ignore\", category=rasterio.errors.NotGeoreferencedWarning)\n",
    "\n",
    "            # Georeference the masks.\n",
    "            with rasterio.open(f\"../dataset/temp/imgs/{imagename}\") as img_src, rasterio.open(src) as msk_src:\n",
    "                msk_data = msk_src.read()\n",
    "\n",
    "                msk_profile = copy.deepcopy(img_src.profile)\n",
    "                msk_profile.update(count=1, dtype=np.uint8, nodata=0)\n",
    "\n",
    "                with rasterio.open(dst, mode=\"w+\", **msk_profile) as msk_dst:\n",
    "                    msk_dst.write(msk_data)\n",
    "\n",
    "                    # Remask the backgound.\n",
    "                    msk_data, _ = rasterio.mask.mask(msk_dst, shapes=surfs[\"geometry\"])\n",
    "\n",
    "                    # Replace invalid pixels with background.\n",
    "                    msk_data[msk_data == 6] = 0\n",
    "\n",
    "                    msk_dst.write(msk_data)\n",
    "\n",
    "                # Update the class frequencies and valid pixel count.\n",
    "                for cls, freq in zip(*np.unique(msk_data[msk_data != 0], return_counts=True)):\n",
    "                    micro_clsfreqs[cls] = micro_clsfreqs[cls] + freq /np.count_nonzero(msk_data)\n",
    "                    macro_clsfreqs[cls] += 1\n",
    "\n",
    "                validpx += micro_clsfreqs[cls]\n",
    "                validim += 1"
   ],
   "id": "98638c9c643d375d",
   "outputs": [],
   "execution_count": 42
  },
  {
   "metadata": {
    "ExecuteTime": {
     "end_time": "2024-06-15T02:32:14.055586Z",
     "start_time": "2024-06-15T02:32:11.033347Z"
    }
   },
   "cell_type": "code",
   "source": [
    "src_names = {\n",
    "    0: \"__ignore__\",\n",
    "    1: \"Asphalt Shingles\",\n",
    "    2: \"Bituminous Coating / Membranes\",\n",
    "    3: \"Ceramic Tiles\",\n",
    "    4: \"Concrete\",\n",
    "    5: \"Gravel\",\n",
    "    6: \"Invalid\",\n",
    "    7: \"Light-permitting Opening\",\n",
    "    8: \"Metal\",\n",
    "    9: \"Non-bituminous Coating / Membranes\",\n",
    "    10: \"Other\",\n",
    "    11: \"Solar Panel Installation\",\n",
    "    12: \"Superstructure\",\n",
    "    13: \"Vegetation\"}\n",
    "\n",
    "src_colors = {\n",
    "    0: [0, 0, 0, 255],\n",
    "    1: [1, 25, 89, 255],\n",
    "    2: [250, 204, 250, 255],\n",
    "    3: [130, 130, 49, 255],\n",
    "    4: [33, 95, 96, 255],\n",
    "    5: [241, 156, 107, 255],\n",
    "    6: [255, 255, 255, 255],\n",
    "    7: [77, 114, 76, 255],\n",
    "    8: [17, 67, 96, 255],\n",
    "    9: [253, 179, 179, 255],\n",
    "    10: [192, 144, 53, 255],\n",
    "    11: [22, 82, 98, 255],\n",
    "    12: [252, 191, 213, 255],\n",
    "    13: [251, 167, 144, 255]\n",
    "\n",
    "}\n",
    "\n",
    "# Discard the annotation classes which do not appear in the destination masks.\n",
    "invalid_classes = []\n",
    "for cls, freq in micro_clsfreqs.items():\n",
    "    if cls != 0 and freq == 0:\n",
    "        invalid_classes.append(cls)\n",
    "\n",
    "for cls in invalid_classes:\n",
    "    micro_clsfreqs.pop(cls)\n",
    "    macro_clsfreqs.pop(cls)\n",
    "\n",
    "# Remap the remaining classes to a continuous range.\n",
    "cls_mapping = {new: old for new, old in zip(range(len(micro_clsfreqs)), micro_clsfreqs.keys())}\n",
    "\n",
    "for tile_id, filepaths in maskgroups.items():\n",
    "    for src, dst in zip(filepaths[\"src\"], filepaths[\"dst\"]):\n",
    "        with rasterio.open(dst, mode=\"r+\", **msk_profile) as src:\n",
    "            data = src.read()\n",
    "            for new, old in cls_mapping.items():\n",
    "                data[data == old] = new\n",
    "            src.write(data)\n",
    "\n",
    "# Save the corresponding name and color mappings.\n",
    "dst_names: dict[int, str] = {}\n",
    "dst_colors: dict[int, list[int]] = {}\n",
    "for new, old in cls_mapping.items():\n",
    "    dst_names[new] = src_names[old]\n",
    "    dst_colors[new] = src_colors[old]\n",
    "\n",
    "with open(\"../dataset/temp/classes.json\", mode=\"w\") as f:\n",
    "    json.dump(dst_names, f)\n",
    "\n",
    "with open(\"../dataset/temp/colors.json\", mode=\"w\") as f:\n",
    "    json.dump(dst_colors, f)"
   ],
   "id": "ab5bbc3f6b99a8eb",
   "outputs": [],
   "execution_count": 43
  },
  {
   "metadata": {
    "ExecuteTime": {
     "end_time": "2024-06-15T02:32:14.060195Z",
     "start_time": "2024-06-15T02:32:14.056598Z"
    }
   },
   "cell_type": "code",
   "source": [
    "# Macro Frequency (Average Term Frequency)\n",
    "tf=np.array(list(micro_clsfreqs.values()), dtype=np.float32)/validim\n",
    "tf"
   ],
   "id": "3200770ccb3d48fd",
   "outputs": [
    {
     "data": {
      "text/plain": [
       "array([0.        , 0.25386027, 0.16160214, 0.27131832, 0.01473748,\n",
       "       0.06823657, 0.12244351, 0.07580888, 0.03199284], dtype=float32)"
      ]
     },
     "execution_count": 44,
     "metadata": {},
     "output_type": "execute_result"
    }
   ],
   "execution_count": 44
  },
  {
   "metadata": {
    "ExecuteTime": {
     "end_time": "2024-06-15T02:32:14.065989Z",
     "start_time": "2024-06-15T02:32:14.061205Z"
    }
   },
   "cell_type": "code",
   "source": [
    "# Micro Frequency (Inverse Document Frequency)\n",
    "idf=np.log(validim/np.array(list(macro_clsfreqs.values()), dtype=np.float32))\n",
    "# Change log base\n",
    "idf/=np.log(len(idf)-1)  # -1 to ignore the background\n",
    "# smooth\n",
    "idf+=1\n",
    "idf"
   ],
   "id": "8ebfdc9465cafdc7",
   "outputs": [
    {
     "name": "stderr",
     "output_type": "stream",
     "text": [
      "C:\\Users\\Dimit\\AppData\\Local\\Temp\\ipykernel_24356\\884826056.py:2: RuntimeWarning: divide by zero encountered in divide\n",
      "  idf=np.log(validim/np.array(list(macro_clsfreqs.values()), dtype=np.float32))\n"
     ]
    },
    {
     "data": {
      "text/plain": [
       "array([      inf, 1.2337805, 1.5479522, 1.3529645, 1.6763821, 2.083846 ,\n",
       "       1.7621014, 1.3529645, 2.2146187], dtype=float32)"
      ]
     },
     "execution_count": 45,
     "metadata": {},
     "output_type": "execute_result"
    }
   ],
   "execution_count": 45
  },
  {
   "metadata": {
    "ExecuteTime": {
     "end_time": "2024-06-15T02:32:14.071052Z",
     "start_time": "2024-06-15T02:32:14.066997Z"
    }
   },
   "cell_type": "code",
   "source": [
    "w=(tf*idf)**-1\n",
    "w[0]=0\n",
    "w[1:]/=w[1:].sum()\n",
    "w"
   ],
   "id": "fb37d7668b063110",
   "outputs": [
    {
     "name": "stderr",
     "output_type": "stream",
     "text": [
      "C:\\Users\\Dimit\\AppData\\Local\\Temp\\ipykernel_24356\\655228524.py:1: RuntimeWarning: invalid value encountered in multiply\n",
      "  w=(tf*idf)**-1\n"
     ]
    },
    {
     "data": {
      "text/plain": [
       "array([0.        , 0.03715882, 0.04652537, 0.03170509, 0.471084  ,\n",
       "       0.08184868, 0.0539421 , 0.11347183, 0.16426413], dtype=float32)"
      ]
     },
     "execution_count": 46,
     "metadata": {},
     "output_type": "execute_result"
    }
   ],
   "execution_count": 46
  },
  {
   "metadata": {
    "ExecuteTime": {
     "end_time": "2024-06-15T02:32:14.075667Z",
     "start_time": "2024-06-15T02:32:14.072068Z"
    }
   },
   "cell_type": "code",
   "source": "np.save(\"../dataset/temp/weights\", w)",
   "id": "21886c7dc6995f23",
   "outputs": [],
   "execution_count": 47
  },
  {
   "metadata": {
    "ExecuteTime": {
     "end_time": "2024-06-15T02:32:14.086822Z",
     "start_time": "2024-06-15T02:32:14.076681Z"
    }
   },
   "cell_type": "code",
   "source": [
    "np.set_printoptions(suppress=True)\n",
    "\n",
    "np.load(\"../dataset/temp/weights.npy\")"
   ],
   "id": "47f6f700551f54f1",
   "outputs": [
    {
     "data": {
      "text/plain": [
       "array([0.        , 0.03715882, 0.04652537, 0.03170509, 0.471084  ,\n",
       "       0.08184868, 0.0539421 , 0.11347183, 0.16426413], dtype=float32)"
      ]
     },
     "execution_count": 48,
     "metadata": {},
     "output_type": "execute_result"
    }
   ],
   "execution_count": 48
  }
 ],
 "metadata": {
  "kernelspec": {
   "display_name": "Python 3",
   "language": "python",
   "name": "python3"
  },
  "language_info": {
   "codemirror_mode": {
    "name": "ipython",
    "version": 2
   },
   "file_extension": ".py",
   "mimetype": "text/x-python",
   "name": "python",
   "nbconvert_exporter": "python",
   "pygments_lexer": "ipython2",
   "version": "2.7.6"
  }
 },
 "nbformat": 4,
 "nbformat_minor": 5
}
