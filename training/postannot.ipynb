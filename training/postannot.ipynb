{
 "cells": [
  {
   "cell_type": "code",
   "id": "initial_id",
   "metadata": {
    "collapsed": true,
    "ExecuteTime": {
     "end_time": "2024-06-13T20:51:10.391165Z",
     "start_time": "2024-06-13T20:51:10.385375Z"
    }
   },
   "source": [
    "import collections\n",
    "import copy\n",
    "import functools\n",
    "import glob\n",
    "import json\n",
    "import os\n",
    "import os.path\n",
    "import shutil\n",
    "import warnings\n",
    "\n",
    "import geopandas as gpd\n",
    "import numpy as np\n",
    "import rasterio.mask"
   ],
   "outputs": [],
   "execution_count": 127
  },
  {
   "metadata": {
    "ExecuteTime": {
     "end_time": "2024-06-13T20:51:10.399200Z",
     "start_time": "2024-06-13T20:51:10.395174Z"
    }
   },
   "cell_type": "code",
   "source": [
    "# Set up a temporary subset of the complete dataset to accommodate the currently annotated images.\n",
    "os.makedirs(\"../dataset/temp/imgs\", exist_ok=True)\n",
    "os.makedirs(\"../dataset/temp/msks\", exist_ok=True)"
   ],
   "id": "7e0eba256deaf548",
   "outputs": [],
   "execution_count": 128
  },
  {
   "metadata": {
    "ExecuteTime": {
     "end_time": "2024-06-13T20:51:10.418126Z",
     "start_time": "2024-06-13T20:51:10.401210Z"
    }
   },
   "cell_type": "code",
   "source": [
    "# Find the segmentation masks in the Roboflow output folder.\n",
    "src_maskpaths = glob.glob(\"C:/Users/Dimit/Downloads/RoofSense.v2-batch-2-unchecked-.png-mask-semantic/train/*.png\")\n",
    "src_maskpaths.sort()\n",
    "\n",
    "# Build the corresponding destination paths.\n",
    "dst_maskpaths = []\n",
    "for filepath in src_maskpaths:\n",
    "    dst_maskpaths.append(f\"../dataset/temp/msks/{os.path.basename(filepath[:filepath.index('_png')])}.tif\")"
   ],
   "id": "a8557a728806c999",
   "outputs": [],
   "execution_count": 129
  },
  {
   "metadata": {
    "ExecuteTime": {
     "end_time": "2024-06-13T20:51:10.424826Z",
     "start_time": "2024-06-13T20:51:10.419132Z"
    }
   },
   "cell_type": "code",
   "source": [
    "# Group the masks by the corresponding tile ID.\n",
    "def get_tile_id(filepath: str) -> str:\n",
    "    return os.path.basename(filepath[:filepath.index(\"_\")])\n",
    "\n",
    "\n",
    "maskgroups: dict[str, dict[list[str]]] = collections.defaultdict(functools.partial(collections.defaultdict, list))\n",
    "for src, dst in zip(src_maskpaths, dst_maskpaths):\n",
    "    tile_id = get_tile_id(src)\n",
    "\n",
    "    maskgroups[tile_id][\"src\"].append(src)\n",
    "    maskgroups[tile_id][\"dst\"].append(dst)"
   ],
   "id": "f5ff98d4d7d6fba8",
   "outputs": [],
   "execution_count": 130
  },
  {
   "metadata": {
    "ExecuteTime": {
     "end_time": "2024-06-13T20:51:11.796080Z",
     "start_time": "2024-06-13T20:51:10.447869Z"
    }
   },
   "cell_type": "code",
   "source": [
    "# Copy the corresponding images to the subset.\n",
    "for dst in dst_maskpaths:\n",
    "    imagename = os.path.basename(dst)\n",
    "    shutil.copy2(f\"../dataset/imgs/{imagename}\",\n",
    "                 dst=f\"../dataset/temp/imgs/{imagename}\")"
   ],
   "id": "35ab1759a72b4550",
   "outputs": [],
   "execution_count": 131
  },
  {
   "metadata": {
    "ExecuteTime": {
     "end_time": "2024-06-13T20:51:31.448964Z",
     "start_time": "2024-06-13T20:51:11.797091Z"
    }
   },
   "cell_type": "code",
   "source": [
    "# Keep track of the class frequencies and the total number of valid pixels.\n",
    "micro_clsfreqs = {i: 0 for i in range(14)}\n",
    "macro_clsfreqs = {i: 0 for i in range(14)}\n",
    "validpx = 0\n",
    "validim = 0\n",
    "\n",
    "img_src: rasterio.io.DatasetReader\n",
    "msk_src: rasterio.io.DatasetReader\n",
    "msk_dst: rasterio.io.DatasetWriter\n",
    "\n",
    "for tile_id, filepaths in maskgroups.items():\n",
    "    surfs = gpd.read_file(f\"../temp/{tile_id}.surf.gpkg\").dissolve()\n",
    "    for src, dst in zip(filepaths[\"src\"], filepaths[\"dst\"]):\n",
    "        imagename = os.path.basename(dst)\n",
    "        with (warnings.catch_warnings()):\n",
    "            warnings.filterwarnings(\"ignore\", category=rasterio.errors.NotGeoreferencedWarning)\n",
    "\n",
    "            # Georeference the masks.\n",
    "            with rasterio.open(f\"../dataset/temp/imgs/{imagename}\") as img_src, rasterio.open(src) as msk_src:\n",
    "                msk_data = msk_src.read()\n",
    "\n",
    "                msk_profile = copy.deepcopy(img_src.profile)\n",
    "                msk_profile.update(count=1, dtype=np.uint8, nodata=0)\n",
    "\n",
    "                with rasterio.open(dst, mode=\"w+\", **msk_profile) as msk_dst:\n",
    "                    msk_dst.write(msk_data)\n",
    "\n",
    "                    # Remask the backgound.\n",
    "                    msk_data, _ = rasterio.mask.mask(msk_dst, shapes=surfs[\"geometry\"])\n",
    "\n",
    "                    # Replace invalid pixels with background.\n",
    "                    msk_data[msk_data == 6] = 0\n",
    "\n",
    "                    msk_dst.write(msk_data)\n",
    "\n",
    "                # Update the class frequencies and valid pixel count.\n",
    "                for cls, freq in zip(*np.unique(msk_data[msk_data != 0], return_counts=True)):\n",
    "                    micro_clsfreqs[cls] = micro_clsfreqs[cls] + freq /np.count_nonzero(msk_data)\n",
    "                    macro_clsfreqs[cls] += 1\n",
    "\n",
    "                validpx += micro_clsfreqs[cls]\n",
    "                validim += 1"
   ],
   "id": "98638c9c643d375d",
   "outputs": [],
   "execution_count": 132
  },
  {
   "metadata": {
    "ExecuteTime": {
     "end_time": "2024-06-13T20:51:34.524273Z",
     "start_time": "2024-06-13T20:51:31.449970Z"
    }
   },
   "cell_type": "code",
   "source": [
    "src_names = {\n",
    "    0: \"__ignore__\",\n",
    "    1: \"Asphalt Shingles\",\n",
    "    2: \"Bituminous Coating / Membranes\",\n",
    "    3: \"Ceramic Tiles\",\n",
    "    4: \"Concrete\",\n",
    "    5: \"Gravel\",\n",
    "    6: \"Invalid\",\n",
    "    7: \"Light-permitting Opening\",\n",
    "    8: \"Metal\",\n",
    "    9: \"Non-bituminous Coating / Membranes\",\n",
    "    10: \"Other\",\n",
    "    11: \"Solar Panel Installation\",\n",
    "    12: \"Superstructure\",\n",
    "    13: \"Vegetation\"}\n",
    "\n",
    "src_colors = {\n",
    "    0: [0, 0, 0, 255],\n",
    "    1: [1, 25, 89, 255],\n",
    "    2: [250, 204, 250, 255],\n",
    "    3: [130, 130, 49, 255],\n",
    "    4: [33, 95, 96, 255],\n",
    "    5: [241, 156, 107, 255],\n",
    "    6: [255, 255, 255, 255],\n",
    "    7: [77, 114, 76, 255],\n",
    "    8: [17, 67, 96, 255],\n",
    "    9: [253, 179, 179, 255],\n",
    "    10: [192, 144, 53, 255],\n",
    "    11: [22, 82, 98, 255],\n",
    "    12: [252, 191, 213, 255],\n",
    "    13: [251, 167, 144, 255]\n",
    "\n",
    "}\n",
    "\n",
    "# Discard the annotation classes which do not appear in the destination masks.\n",
    "invalid_classes = []\n",
    "for cls, freq in micro_clsfreqs.items():\n",
    "    if cls != 0 and freq == 0:\n",
    "        invalid_classes.append(cls)\n",
    "\n",
    "for cls in invalid_classes:\n",
    "    micro_clsfreqs.pop(cls)\n",
    "    macro_clsfreqs.pop(cls)\n",
    "\n",
    "# Remap the remaining classes to a continuous range.\n",
    "cls_mapping = {new: old for new, old in zip(range(len(micro_clsfreqs)), micro_clsfreqs.keys())}\n",
    "\n",
    "for tile_id, filepaths in maskgroups.items():\n",
    "    for src, dst in zip(filepaths[\"src\"], filepaths[\"dst\"]):\n",
    "        with rasterio.open(dst, mode=\"r+\", **msk_profile) as src:\n",
    "            data = src.read()\n",
    "            for new, old in cls_mapping.items():\n",
    "                data[data == old] = new\n",
    "            src.write(data)\n",
    "\n",
    "# Save the corresponding name and color mappings.\n",
    "dst_names: dict[int, str] = {}\n",
    "dst_colors: dict[int, list[int]] = {}\n",
    "for new, old in cls_mapping.items():\n",
    "    dst_names[new] = src_names[old]\n",
    "    dst_colors[new] = src_colors[old]\n",
    "\n",
    "with open(\"../dataset/temp/classes.json\", mode=\"w\") as f:\n",
    "    json.dump(dst_names, f)\n",
    "\n",
    "with open(\"../dataset/temp/colors.json\", mode=\"w\") as f:\n",
    "    json.dump(dst_colors, f)"
   ],
   "id": "ab5bbc3f6b99a8eb",
   "outputs": [],
   "execution_count": 133
  },
  {
   "metadata": {
    "ExecuteTime": {
     "end_time": "2024-06-13T21:22:25.861297Z",
     "start_time": "2024-06-13T21:22:25.571794Z"
    }
   },
   "cell_type": "code",
   "source": [
    "# Macro Frequency (Average Term Frequency)\n",
    "tf=np.array(list(micro_clsfreqs.values()), dtype=np.float32)/validim\n",
    "tf"
   ],
   "id": "3200770ccb3d48fd",
   "outputs": [
    {
     "ename": "NameError",
     "evalue": "name 'np' is not defined",
     "output_type": "error",
     "traceback": [
      "\u001B[1;31m---------------------------------------------------------------------------\u001B[0m",
      "\u001B[1;31mNameError\u001B[0m                                 Traceback (most recent call last)",
      "Cell \u001B[1;32mIn[1], line 2\u001B[0m\n\u001B[0;32m      1\u001B[0m \u001B[38;5;66;03m# Macro Frequency (Average Term Frequency)\u001B[39;00m\n\u001B[1;32m----> 2\u001B[0m tf\u001B[38;5;241m=\u001B[39m\u001B[43mnp\u001B[49m\u001B[38;5;241m.\u001B[39marray(\u001B[38;5;28mlist\u001B[39m(micro_clsfreqs\u001B[38;5;241m.\u001B[39mvalues()), dtype\u001B[38;5;241m=\u001B[39mnp\u001B[38;5;241m.\u001B[39mfloat32)\u001B[38;5;241m/\u001B[39mvalidim\n\u001B[0;32m      3\u001B[0m tf\n",
      "\u001B[1;31mNameError\u001B[0m: name 'np' is not defined"
     ]
    }
   ],
   "execution_count": 1
  },
  {
   "metadata": {
    "ExecuteTime": {
     "end_time": "2024-06-13T20:54:10.908050Z",
     "start_time": "2024-06-13T20:54:10.903455Z"
    }
   },
   "cell_type": "code",
   "source": [
    "# Micro Frequency (Inverse Document Frequency)\n",
    "idf=np.log(validim/np.array(list(macro_clsfreqs.values()), dtype=np.float32))+1\n",
    "idf"
   ],
   "id": "8ebfdc9465cafdc7",
   "outputs": [
    {
     "name": "stderr",
     "output_type": "stream",
     "text": [
      "C:\\Users\\Dimit\\AppData\\Local\\Temp\\ipykernel_21180\\3515849962.py:5: RuntimeWarning: divide by zero encountered in divide\n",
      "  idf=np.log(validim/np.array(list(macro_clsfreqs.values()), dtype=np.float32))+1\n"
     ]
    },
    {
     "data": {
      "text/plain": [
       "array([      inf, 1.486133 , 2.1394343, 1.7339692, 2.406497 , 3.253795 ,\n",
       "       2.5847454, 1.7339692, 3.5257287], dtype=float32)"
      ]
     },
     "execution_count": 148,
     "metadata": {},
     "output_type": "execute_result"
    }
   ],
   "execution_count": 148
  },
  {
   "metadata": {
    "ExecuteTime": {
     "end_time": "2024-06-13T21:00:45.320942Z",
     "start_time": "2024-06-13T21:00:45.315767Z"
    }
   },
   "cell_type": "code",
   "source": [
    "w=(tf*idf)**-1\n",
    "w[0]=0\n",
    "w[1:]/=w[1:].sum()\n",
    "w"
   ],
   "id": "fb37d7668b063110",
   "outputs": [
    {
     "name": "stderr",
     "output_type": "stream",
     "text": [
      "C:\\Users\\Dimit\\AppData\\Local\\Temp\\ipykernel_21180\\655228524.py:1: RuntimeWarning: invalid value encountered in multiply\n",
      "  w=(tf*idf)**-1\n"
     ]
    },
    {
     "data": {
      "text/plain": [
       "array([0.        , 0.04417604, 0.04820511, 0.03542572, 0.46992728,\n",
       "       0.07506402, 0.05266057, 0.12678787, 0.14775339], dtype=float32)"
      ]
     },
     "execution_count": 160,
     "metadata": {},
     "output_type": "execute_result"
    }
   ],
   "execution_count": 160
  },
  {
   "metadata": {
    "ExecuteTime": {
     "end_time": "2024-06-13T21:01:03.374863Z",
     "start_time": "2024-06-13T21:01:03.371659Z"
    }
   },
   "cell_type": "code",
   "source": "np.save(\"../dataset/temp/weights\", w)",
   "id": "21886c7dc6995f23",
   "outputs": [],
   "execution_count": 161
  },
  {
   "metadata": {
    "ExecuteTime": {
     "end_time": "2024-06-13T21:01:07.740509Z",
     "start_time": "2024-06-13T21:01:07.729130Z"
    }
   },
   "cell_type": "code",
   "source": [
    "np.set_printoptions(suppress=True)\n",
    "\n",
    "np.load(\"../dataset/temp/weights.npy\")"
   ],
   "id": "47f6f700551f54f1",
   "outputs": [
    {
     "data": {
      "text/plain": [
       "array([0.        , 0.04417604, 0.04820511, 0.03542572, 0.46992728,\n",
       "       0.07506402, 0.05266057, 0.12678787, 0.14775339], dtype=float32)"
      ]
     },
     "execution_count": 162,
     "metadata": {},
     "output_type": "execute_result"
    }
   ],
   "execution_count": 162
  }
 ],
 "metadata": {
  "kernelspec": {
   "display_name": "Python 3",
   "language": "python",
   "name": "python3"
  },
  "language_info": {
   "codemirror_mode": {
    "name": "ipython",
    "version": 2
   },
   "file_extension": ".py",
   "mimetype": "text/x-python",
   "name": "python",
   "nbconvert_exporter": "python",
   "pygments_lexer": "ipython2",
   "version": "2.7.6"
  }
 },
 "nbformat": 4,
 "nbformat_minor": 5
}
