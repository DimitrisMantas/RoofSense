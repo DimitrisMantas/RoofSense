{
 "cells": [
  {
   "metadata": {},
   "cell_type": "markdown",
   "source": "Segment stack chips into pixel clusters as an annotation guide for LoD2.2.",
   "id": "3a5c7755d2ac6300"
  },
  {
   "metadata": {},
   "cell_type": "code",
   "outputs": [],
   "execution_count": 1,
   "source": [
    "import glob\n",
    "\n",
    "import cv2\n",
    "import matplotlib.pyplot as plt\n",
    "import skimage"
   ],
   "id": "1eac3baa6d770d58"
  },
  {
   "metadata": {},
   "cell_type": "code",
   "outputs": [],
   "execution_count": 2,
   "source": [
    "img_filenames = glob.glob(\"../dataset/chps/*.png\")\n",
    "img_filenames.sort()"
   ],
   "id": "c1a2957738777adf"
  },
  {
   "metadata": {},
   "cell_type": "code",
   "outputs": [],
   "execution_count": null,
   "source": [
    "fig: plt.Figure\n",
    "ax: plt.Axes\n",
    "for filename in img_filenames:\n",
    "    # Read the image and segement it using the Felzenszwalb algorithm.\n",
    "    src_img = skimage.io.imread(filename)\n",
    "    seg = skimage.segmentation.felzenszwalb(src_img,\n",
    "                                            # NOTE: These parameters are copied from the original paper.\n",
    "                                            scale=300,\n",
    "                                            # Do not smooth.\n",
    "                                            sigma=0,\n",
    "                                            # NOTE: This threshold corresponds to objects with a surface area of 2 m^{2} or larger.\n",
    "                                            # TODO: How to capture linear segments.\n",
    "                                            min_size=625)\n",
    "\n",
    "    # Rasterize the superpixel boundaries on the image.\n",
    "    dst_img = skimage.segmentation.mark_boundaries(src_img, seg)\n",
    "\n",
    "    cv2.imwrite(filename.replace(\"chps\", \"segs\"), \n",
    "                # NOTE: The output image is originally scaled in the range $[0,1]$.\n",
    "                img=dst_img * 255\n",
    "                )"
   ],
   "id": "727d75a8f2bc4be0"
  }
 ],
 "metadata": {
  "kernelspec": {
   "display_name": "Python 3",
   "language": "python",
   "name": "python3"
  },
  "language_info": {
   "codemirror_mode": {
    "name": "ipython",
    "version": 2
   },
   "file_extension": ".py",
   "mimetype": "text/x-python",
   "name": "python",
   "nbconvert_exporter": "python",
   "pygments_lexer": "ipython2",
   "version": "2.7.6"
  }
 },
 "nbformat": 4,
 "nbformat_minor": 5
}
