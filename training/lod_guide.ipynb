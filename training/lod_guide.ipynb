{
 "cells": [
  {
   "metadata": {},
   "cell_type": "markdown",
   "source": "Segment stack chips into pixel clusters as an annotation guide for LoD2.2.",
   "id": "3a5c7755d2ac6300"
  },
  {
   "metadata": {
    "ExecuteTime": {
     "end_time": "2024-04-15T16:35:11.459027Z",
     "start_time": "2024-04-15T16:35:11.456195Z"
    }
   },
   "cell_type": "code",
   "source": [
    "import glob\n",
    "\n",
    "import cv2\n",
    "import matplotlib.pyplot as plt\n",
    "import skimage"
   ],
   "id": "1eac3baa6d770d58",
   "outputs": [],
   "execution_count": 51
  },
  {
   "metadata": {
    "ExecuteTime": {
     "end_time": "2024-04-15T16:35:11.465089Z",
     "start_time": "2024-04-15T16:35:11.460037Z"
    }
   },
   "cell_type": "code",
   "source": [
    "img_filenames = glob.glob(\"../dataset/chps/*.png\")\n",
    "img_filenames.sort()"
   ],
   "id": "c1a2957738777adf",
   "outputs": [],
   "execution_count": 52
  },
  {
   "metadata": {
    "ExecuteTime": {
     "end_time": "2024-04-15T16:48:28.265630Z",
     "start_time": "2024-04-15T16:45:37.856331Z"
    }
   },
   "cell_type": "code",
   "source": [
    "fig: plt.Figure\n",
    "ax: plt.Axes\n",
    "for filename in img_filenames:\n",
    "    # Read the image and segement it using the Felzenszwalb algorithm.\n",
    "    src_img = skimage.io.imread(filename)\n",
    "    seg = skimage.segmentation.felzenszwalb(src_img,\n",
    "                                            # NOTE: These parameters are copied from the original paper.\n",
    "                                            scale=1,\n",
    "                                            sigma=0.8,\n",
    "                                            # NOTE: This threshold corresponds to objects with a surface area of 2 m^{2} or larger.\n",
    "                                            # TODO: How to capture linear segments.\n",
    "                                            min_size=625)\n",
    "\n",
    "    # Rasterize the superpixel boundaries on the image.\n",
    "    dst_img = skimage.segmentation.mark_boundaries(src_img, seg)\n",
    "\n",
    "    cv2.imwrite(filename.replace(\"chps\", \"segs\"), \n",
    "                # NOTE: The output image is originally scaled in the range $[0,1]$.\n",
    "                img=dst_img * 255\n",
    "                )"
   ],
   "id": "727d75a8f2bc4be0",
   "outputs": [],
   "execution_count": 60
  }
 ],
 "metadata": {
  "kernelspec": {
   "display_name": "Python 3",
   "language": "python",
   "name": "python3"
  },
  "language_info": {
   "codemirror_mode": {
    "name": "ipython",
    "version": 2
   },
   "file_extension": ".py",
   "mimetype": "text/x-python",
   "name": "python",
   "nbconvert_exporter": "python",
   "pygments_lexer": "ipython2",
   "version": "2.7.6"
  }
 },
 "nbformat": 4,
 "nbformat_minor": 5
}
