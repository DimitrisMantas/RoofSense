{
 "cells": [
  {
   "cell_type": "code",
   "id": "initial_id",
   "metadata": {
    "collapsed": true,
    "ExecuteTime": {
     "end_time": "2024-07-27T01:54:20.432414Z",
     "start_time": "2024-07-27T01:54:13.370874Z"
    }
   },
   "source": [
    "import glob\n",
    "import os\n",
    "import shutil\n",
    "import warnings\n",
    "\n",
    "import numpy as np\n",
    "import torchgeo.datasets\n",
    "import rasterio.windows\n",
    "from torchgeo.datasets import Potsdam2D"
   ],
   "outputs": [],
   "execution_count": 81
  },
  {
   "metadata": {
    "ExecuteTime": {
     "end_time": "2024-07-27T01:25:00.112115Z",
     "start_time": "2024-07-27T01:25:00.108776Z"
    }
   },
   "cell_type": "code",
   "source": [
    "root_path = r\"C:\\Users\\Dimit\\Downloads\\Potsdam\"\n",
    "\n",
    "image_dirname = \"image\"\n",
    "image_dirpath = os.path.join(root_path, image_dirname)\n",
    "\n",
    "mask_dirname = \"label\"\n",
    "mask_dirpath = os.path.join(root_path, mask_dirname)"
   ],
   "id": "ddd876a983317d47",
   "outputs": [],
   "execution_count": 14
  },
  {
   "metadata": {
    "ExecuteTime": {
     "end_time": "2024-07-27T01:58:07.271123Z",
     "start_time": "2024-07-27T01:58:07.267104Z"
    }
   },
   "cell_type": "code",
   "source": [
    "os.makedirs(image_dirpath, exist_ok=True)\n",
    "os.makedirs(mask_dirpath, exist_ok=True)"
   ],
   "id": "d48c9f493f88290d",
   "outputs": [],
   "execution_count": 88
  },
  {
   "metadata": {
    "ExecuteTime": {
     "end_time": "2024-07-27T01:58:10.197546Z",
     "start_time": "2024-07-27T01:58:07.948386Z"
    }
   },
   "cell_type": "code",
   "source": [
    "image_paths = glob.glob(os.path.join(root_path, \"2_Ortho_RGB\", \"*.tif\"))\n",
    "for path in image_paths:\n",
    "    shutil.copy2(src=path, dst=image_dirpath)\n",
    "\n",
    "mask_paths = glob.glob(os.path.join(root_path, \"5_Labels_all\", \"*.tif\"))\n",
    "for path in mask_paths:\n",
    "    shutil.copy2(src=path, dst=mask_dirpath)"
   ],
   "id": "7b3ee7f739f3534b",
   "outputs": [],
   "execution_count": 89
  },
  {
   "metadata": {
    "ExecuteTime": {
     "end_time": "2024-07-27T01:45:11.802965Z",
     "start_time": "2024-07-27T01:45:11.796376Z"
    }
   },
   "cell_type": "code",
   "source": [
    "image_paths = glob.glob(os.path.join(image_dirpath, \"*.tif\"))\n",
    "image_paths.sort()\n",
    "\n",
    "mask_paths = glob.glob(os.path.join(mask_dirpath, \"*.tif\"))\n",
    "mask_paths.sort()"
   ],
   "id": "f07b773222d855a1",
   "outputs": [],
   "execution_count": 69
  },
  {
   "metadata": {
    "ExecuteTime": {
     "end_time": "2024-07-27T02:00:44.825067Z",
     "start_time": "2024-07-27T01:58:16.893301Z"
    }
   },
   "cell_type": "code",
   "source": [
    "for i, (image_path, mask_path) in enumerate(zip(image_paths, mask_paths)):\n",
    "    print(f\"{i}/{len(mask_paths)}\")\n",
    "    image_src: rasterio.io.DatasetReader\n",
    "    with rasterio.open(image_path) as image_src:\n",
    "        mask_dst_profile = image_src.profile\n",
    "    with warnings.catch_warnings(\n",
    "            action=\"ignore\", \n",
    "            category=rasterio.errors.NotGeoreferencedWarning\n",
    "    ):\n",
    "        mask_src: rasterio.io.DatasetReader\n",
    "        with rasterio.open(mask_path) as mask_src:\n",
    "            mask_src_data = mask_src.read()\n",
    "    mask_dst_data=torchgeo.datasets.utils.rgb_to_mask(\n",
    "        np.moveaxis(mask_src_data,source=0,destination=-1), \n",
    "        colors=Potsdam2D.colormap\n",
    "    )\n",
    "    mask_dst_profile.update(count=1)\n",
    "    mask_dst: rasterio.io.DatasetWriter\n",
    "    with rasterio.open(mask_path, mode=\"w\", **mask_dst_profile) as mask_dst:\n",
    "        mask_dst.write(mask_dst_data,indexes=1)"
   ],
   "id": "a8aa03d6cc5822ba",
   "outputs": [
    {
     "name": "stdout",
     "output_type": "stream",
     "text": [
      "0/38\n",
      "1/38\n",
      "2/38\n",
      "3/38\n",
      "4/38\n",
      "5/38\n",
      "6/38\n",
      "7/38\n",
      "8/38\n",
      "9/38\n",
      "10/38\n",
      "11/38\n",
      "12/38\n",
      "13/38\n",
      "14/38\n",
      "15/38\n",
      "16/38\n",
      "17/38\n",
      "18/38\n",
      "19/38\n",
      "20/38\n",
      "21/38\n",
      "22/38\n",
      "23/38\n",
      "24/38\n",
      "25/38\n",
      "26/38\n",
      "27/38\n",
      "28/38\n",
      "29/38\n",
      "30/38\n",
      "31/38\n",
      "32/38\n",
      "33/38\n",
      "34/38\n",
      "35/38\n",
      "36/38\n",
      "37/38\n"
     ]
    }
   ],
   "execution_count": 90
  },
  {
   "metadata": {
    "ExecuteTime": {
     "end_time": "2024-07-27T02:07:20.871350Z",
     "start_time": "2024-07-27T02:07:20.128505Z"
    }
   },
   "cell_type": "code",
   "source": "(np.moveaxis(mask_src_data,0,-1)==(255,255,0)).all(-1).any()",
   "id": "19b2c09e3891e2fd",
   "outputs": [
    {
     "data": {
      "text/plain": [
       "False"
      ]
     },
     "execution_count": 100,
     "metadata": {},
     "output_type": "execute_result"
    }
   ],
   "execution_count": 100
  },
  {
   "metadata": {
    "ExecuteTime": {
     "end_time": "2024-07-27T01:55:34.213851Z",
     "start_time": "2024-07-27T01:55:34.209429Z"
    }
   },
   "cell_type": "code",
   "source": "mask_dst_data.shape",
   "id": "ed3fa2a4500627d3",
   "outputs": [
    {
     "data": {
      "text/plain": [
       "(6000, 6000)"
      ]
     },
     "execution_count": 85,
     "metadata": {},
     "output_type": "execute_result"
    }
   ],
   "execution_count": 85
  },
  {
   "metadata": {
    "ExecuteTime": {
     "end_time": "2024-07-27T01:36:56.204109Z",
     "start_time": "2024-07-27T01:36:56.200058Z"
    }
   },
   "cell_type": "code",
   "source": "mask_paths",
   "id": "8bc9f45ac0f7d609",
   "outputs": [
    {
     "data": {
      "text/plain": [
       "['C:\\\\Users\\\\Dimit\\\\Downloads\\\\Potsdam\\\\label\\\\top_potsdam_2_10_label.tif',\n",
       " 'C:\\\\Users\\\\Dimit\\\\Downloads\\\\Potsdam\\\\label\\\\top_potsdam_2_11_label.tif',\n",
       " 'C:\\\\Users\\\\Dimit\\\\Downloads\\\\Potsdam\\\\label\\\\top_potsdam_2_12_label.tif',\n",
       " 'C:\\\\Users\\\\Dimit\\\\Downloads\\\\Potsdam\\\\label\\\\top_potsdam_2_13_label.tif',\n",
       " 'C:\\\\Users\\\\Dimit\\\\Downloads\\\\Potsdam\\\\label\\\\top_potsdam_2_14_label.tif',\n",
       " 'C:\\\\Users\\\\Dimit\\\\Downloads\\\\Potsdam\\\\label\\\\top_potsdam_3_10_label.tif',\n",
       " 'C:\\\\Users\\\\Dimit\\\\Downloads\\\\Potsdam\\\\label\\\\top_potsdam_3_11_label.tif',\n",
       " 'C:\\\\Users\\\\Dimit\\\\Downloads\\\\Potsdam\\\\label\\\\top_potsdam_3_12_label.tif',\n",
       " 'C:\\\\Users\\\\Dimit\\\\Downloads\\\\Potsdam\\\\label\\\\top_potsdam_3_13_label.tif',\n",
       " 'C:\\\\Users\\\\Dimit\\\\Downloads\\\\Potsdam\\\\label\\\\top_potsdam_3_14_label.tif',\n",
       " 'C:\\\\Users\\\\Dimit\\\\Downloads\\\\Potsdam\\\\label\\\\top_potsdam_4_10_label.tif',\n",
       " 'C:\\\\Users\\\\Dimit\\\\Downloads\\\\Potsdam\\\\label\\\\top_potsdam_4_11_label.tif',\n",
       " 'C:\\\\Users\\\\Dimit\\\\Downloads\\\\Potsdam\\\\label\\\\top_potsdam_4_12_label.tif',\n",
       " 'C:\\\\Users\\\\Dimit\\\\Downloads\\\\Potsdam\\\\label\\\\top_potsdam_4_13_label.tif',\n",
       " 'C:\\\\Users\\\\Dimit\\\\Downloads\\\\Potsdam\\\\label\\\\top_potsdam_4_14_label.tif',\n",
       " 'C:\\\\Users\\\\Dimit\\\\Downloads\\\\Potsdam\\\\label\\\\top_potsdam_4_15_label.tif',\n",
       " 'C:\\\\Users\\\\Dimit\\\\Downloads\\\\Potsdam\\\\label\\\\top_potsdam_5_10_label.tif',\n",
       " 'C:\\\\Users\\\\Dimit\\\\Downloads\\\\Potsdam\\\\label\\\\top_potsdam_5_11_label.tif',\n",
       " 'C:\\\\Users\\\\Dimit\\\\Downloads\\\\Potsdam\\\\label\\\\top_potsdam_5_12_label.tif',\n",
       " 'C:\\\\Users\\\\Dimit\\\\Downloads\\\\Potsdam\\\\label\\\\top_potsdam_5_13_label.tif',\n",
       " 'C:\\\\Users\\\\Dimit\\\\Downloads\\\\Potsdam\\\\label\\\\top_potsdam_5_14_label.tif',\n",
       " 'C:\\\\Users\\\\Dimit\\\\Downloads\\\\Potsdam\\\\label\\\\top_potsdam_5_15_label.tif',\n",
       " 'C:\\\\Users\\\\Dimit\\\\Downloads\\\\Potsdam\\\\label\\\\top_potsdam_6_10_label.tif',\n",
       " 'C:\\\\Users\\\\Dimit\\\\Downloads\\\\Potsdam\\\\label\\\\top_potsdam_6_11_label.tif',\n",
       " 'C:\\\\Users\\\\Dimit\\\\Downloads\\\\Potsdam\\\\label\\\\top_potsdam_6_12_label.tif',\n",
       " 'C:\\\\Users\\\\Dimit\\\\Downloads\\\\Potsdam\\\\label\\\\top_potsdam_6_13_label.tif',\n",
       " 'C:\\\\Users\\\\Dimit\\\\Downloads\\\\Potsdam\\\\label\\\\top_potsdam_6_14_label.tif',\n",
       " 'C:\\\\Users\\\\Dimit\\\\Downloads\\\\Potsdam\\\\label\\\\top_potsdam_6_15_label.tif',\n",
       " 'C:\\\\Users\\\\Dimit\\\\Downloads\\\\Potsdam\\\\label\\\\top_potsdam_6_7_label.tif',\n",
       " 'C:\\\\Users\\\\Dimit\\\\Downloads\\\\Potsdam\\\\label\\\\top_potsdam_6_8_label.tif',\n",
       " 'C:\\\\Users\\\\Dimit\\\\Downloads\\\\Potsdam\\\\label\\\\top_potsdam_6_9_label.tif',\n",
       " 'C:\\\\Users\\\\Dimit\\\\Downloads\\\\Potsdam\\\\label\\\\top_potsdam_7_10_label.tif',\n",
       " 'C:\\\\Users\\\\Dimit\\\\Downloads\\\\Potsdam\\\\label\\\\top_potsdam_7_11_label.tif',\n",
       " 'C:\\\\Users\\\\Dimit\\\\Downloads\\\\Potsdam\\\\label\\\\top_potsdam_7_12_label.tif',\n",
       " 'C:\\\\Users\\\\Dimit\\\\Downloads\\\\Potsdam\\\\label\\\\top_potsdam_7_13_label.tif',\n",
       " 'C:\\\\Users\\\\Dimit\\\\Downloads\\\\Potsdam\\\\label\\\\top_potsdam_7_7_label.tif',\n",
       " 'C:\\\\Users\\\\Dimit\\\\Downloads\\\\Potsdam\\\\label\\\\top_potsdam_7_8_label.tif',\n",
       " 'C:\\\\Users\\\\Dimit\\\\Downloads\\\\Potsdam\\\\label\\\\top_potsdam_7_9_label.tif']"
      ]
     },
     "execution_count": 34,
     "metadata": {},
     "output_type": "execute_result"
    }
   ],
   "execution_count": 34
  },
  {
   "metadata": {
    "ExecuteTime": {
     "end_time": "2024-07-27T01:33:25.936406Z",
     "start_time": "2024-07-27T01:33:25.931511Z"
    }
   },
   "cell_type": "code",
   "source": "profile",
   "id": "47c5854e8c162c87",
   "outputs": [
    {
     "data": {
      "text/plain": [
       "{'driver': 'GTiff', 'dtype': 'uint8', 'nodata': None, 'width': 6000, 'height': 6000, 'count': 3, 'crs': CRS.from_epsg(32633), 'transform': Affine(0.05, 0.0, 366676.5,\n",
       "       0.0, -0.05, 5807062.6), 'blockxsize': 608, 'blockysize': 608, 'tiled': True, 'compress': 'packbits', 'interleave': 'pixel'}"
      ]
     },
     "execution_count": 27,
     "metadata": {},
     "output_type": "execute_result"
    }
   ],
   "execution_count": 27
  },
  {
   "metadata": {
    "ExecuteTime": {
     "end_time": "2024-07-27T01:25:06.310384Z",
     "start_time": "2024-07-27T01:25:06.307985Z"
    }
   },
   "cell_type": "code",
   "source": [
    "bad_tiles = set()\n",
    "for i, src_path in enumerate(mask_paths):\n",
    "    print(f\"{i}/{len(mask_paths)}\")\n",
    "    src: rasterio.io.DatasetReader\n",
    "    with rasterio.open(src_path) as src:\n",
    "        src_data = src.read(1)\n",
    "    if not np.any(src_data):\n",
    "        bad_tiles.add(os.path.basename(src_path))"
   ],
   "id": "57215e9196c7bf2d",
   "outputs": [],
   "execution_count": 16
  }
 ],
 "metadata": {
  "kernelspec": {
   "display_name": "Python 3",
   "language": "python",
   "name": "python3"
  },
  "language_info": {
   "codemirror_mode": {
    "name": "ipython",
    "version": 2
   },
   "file_extension": ".py",
   "mimetype": "text/x-python",
   "name": "python",
   "nbconvert_exporter": "python",
   "pygments_lexer": "ipython2",
   "version": "2.7.6"
  }
 },
 "nbformat": 4,
 "nbformat_minor": 5
}
