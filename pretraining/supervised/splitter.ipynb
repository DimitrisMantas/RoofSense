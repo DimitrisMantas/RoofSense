{
 "cells": [
  {
   "metadata": {},
   "cell_type": "markdown",
   "source": "# Split Potsdam dataset tiles into chips to enable training with own tools.",
   "id": "408a6f3d30247c8e"
  },
  {
   "metadata": {
    "ExecuteTime": {
     "end_time": "2024-07-14T17:42:14.085839Z",
     "start_time": "2024-07-14T17:42:14.079681Z"
    }
   },
   "cell_type": "code",
   "source": [
    "import glob\n",
    "import itertools\n",
    "import os\n",
    "import warnings\n",
    "from collections.abc import Generator\n",
    "\n",
    "import numpy as np\n",
    "import rasterio\n",
    "import rasterio.windows\n",
    "import torchgeo.datasets.utils\n",
    "import torchgeo.datasets.utils\n",
    "from rasterio.errors import NotGeoreferencedWarning\n",
    "from torchgeo.datasets import Potsdam2D"
   ],
   "id": "c9cf996e7ee7edad",
   "outputs": [],
   "execution_count": 64
  },
  {
   "metadata": {
    "ExecuteTime": {
     "end_time": "2024-07-14T16:55:05.783146Z",
     "start_time": "2024-07-14T16:55:05.775113Z"
    }
   },
   "cell_type": "code",
   "source": [
    "def get_chips(src: rasterio.io.DatasetReader, width: int = 512, height: int = 512) -> Generator[\n",
    "    tuple[rasterio.windows.Window, \"affine.Affine\"], None, None]:\n",
    "    num_cols, num_rows = src.width, src.height\n",
    "\n",
    "    tile = rasterio.windows.Window(col_off=0, row_off=0, width=num_cols, height=num_rows)\n",
    "\n",
    "    offsets = itertools.product(range(0, num_cols, width), range(0, num_rows, height))\n",
    "    for col_off, row_off in offsets:\n",
    "        chip = rasterio.windows.Window(col_off=col_off, row_off=row_off, width=width, height=height).intersection(tile)\n",
    "        transform = rasterio.windows.transform(chip, src.transform)\n",
    "        yield chip, transform"
   ],
   "id": "881809da6e11dd87",
   "outputs": [],
   "execution_count": 22
  },
  {
   "metadata": {},
   "cell_type": "markdown",
   "source": "## NOTE: This steps should be performed only ONCE.",
   "id": "619a0c6532732d75"
  },
  {
   "metadata": {},
   "cell_type": "markdown",
   "source": "## Setup",
   "id": "9f6ee9943baa0d0b"
  },
  {
   "metadata": {
    "ExecuteTime": {
     "end_time": "2024-07-14T17:20:03.500838Z",
     "start_time": "2024-07-14T17:20:03.494978Z"
    }
   },
   "cell_type": "code",
   "source": [
    "# Initialize the dataset.\n",
    "data_dirpath = r\"C:\\Users\\Dimit\\Downloads\\Potsdam\"\n",
    "\n",
    "# Configure the image identifiers.\n",
    "image_dirname = \"2_Ortho_RGB\"\n",
    "image_dirpath = os.path.join(data_dirpath, image_dirname)\n",
    "image_name_glob = \"_\" + image_dirname.rsplit(\"_\", maxsplit=1)[-1] + \".tif\""
   ],
   "id": "c2c293e5d443af5d",
   "outputs": [],
   "execution_count": 48
  },
  {
   "metadata": {},
   "cell_type": "markdown",
   "source": "## Image Splitting",
   "id": "5929a2926e961032"
  },
  {
   "metadata": {
    "ExecuteTime": {
     "end_time": "2024-07-14T17:27:19.594400Z",
     "start_time": "2024-07-14T17:26:59.851414Z"
    }
   },
   "cell_type": "code",
   "source": [
    "# Create a directory to store the image chips.\n",
    "os.makedirs(os.path.join(image_dirpath, \"images\"), exist_ok=True)\n",
    "\n",
    "# Gather the image paths.\n",
    "image_paths = glob.glob(os.path.join(image_dirpath, \"*\" + image_name_glob))\n",
    "image_paths.sort()\n",
    "\n",
    "# Split the images.\n",
    "for src_path in image_paths:\n",
    "    src: rasterio.io.DatasetReader\n",
    "    with rasterio.open(src_path) as src:\n",
    "        meta: rasterio.profiles.Profile = src.meta.copy()\n",
    "        for chip, transform in get_chips(src):\n",
    "            # Ensure only square chips are processed.\n",
    "            if chip.width != chip.height:\n",
    "                continue\n",
    "\n",
    "            # Update the chip metadata.\n",
    "            meta.update(width=chip.width, height=chip.height, transform=transform)\n",
    "\n",
    "            # Inject the normalized column and row offset in the filename.\n",
    "            dst_path = src_path.removesuffix(image_name_glob) + f\"_{chip.col_off // chip.width}-{chip.row_off // chip.height}\" + \".tif\"\n",
    "            dst_path = os.path.join(os.path.dirname(dst_path), \"images\", os.path.basename(dst_path))\n",
    "            dst: rasterio.io.DatasetWriter\n",
    "            with rasterio.open(dst_path, mode=\"w\", **meta) as dst:\n",
    "                dst.write(src.read(window=chip))"
   ],
   "id": "8c8b9504ae5f946",
   "outputs": [],
   "execution_count": 55
  },
  {
   "metadata": {},
   "cell_type": "markdown",
   "source": "## Mask Splitting",
   "id": "b9a1f39f7b6e507b"
  },
  {
   "metadata": {
    "ExecuteTime": {
     "end_time": "2024-07-14T17:48:57.230064Z",
     "start_time": "2024-07-14T17:48:28.788430Z"
    }
   },
   "cell_type": "code",
   "source": [
    "# Create a directory to store the mask chips.\n",
    "os.makedirs(os.path.join(data_dirpath, \"masks\"), exist_ok=True)\n",
    "\n",
    "# Gather the mask paths.\n",
    "mask_paths = glob.glob(os.path.join(data_dirpath, \"*\" + \"_label.tif\"))\n",
    "mask_paths.sort()\n",
    "\n",
    "# Split the masks.\n",
    "for src_path in mask_paths:\n",
    "    src: rasterio.io.DatasetReader\n",
    "    with warnings.catch_warnings(action=\"ignore\", category=NotGeoreferencedWarning):\n",
    "        with rasterio.open(src_path) as src:\n",
    "            meta: rasterio.profiles.Profile = src.meta.copy()\n",
    "            for chip, transform in get_chips(src):\n",
    "                if chip.width != chip.height:\n",
    "                    continue\n",
    "\n",
    "                # Convert the chip to a single-band raster.\n",
    "                data = src.read(window=chip)\n",
    "                data = np.moveaxis(data, source=0, destination=-1)\n",
    "                data = torchgeo.datasets.utils.rgb_to_mask(data, colors=Potsdam2D.colormap)\n",
    "\n",
    "                # Update the chip metadata.\n",
    "                meta.update(width=chip.width, height=chip.height, count=1, transform=transform)\n",
    "\n",
    "                # Inject the normalized column and row offset in the filename.\n",
    "                dst_path = src_path.removesuffix(\"_label.tif\") + f\"_{chip.col_off // chip.width}-{chip.row_off // chip.height}\" + \".tif\"\n",
    "                dst_path = os.path.join(os.path.dirname(dst_path), \"masks\", os.path.basename(dst_path))\n",
    "                dst: rasterio.io.DatasetWriter\n",
    "                with rasterio.open(dst_path, mode=\"w\", **meta) as dst:\n",
    "                    dst.write(data, indexes=1)"
   ],
   "id": "ffe39d8352858d64",
   "outputs": [],
   "execution_count": 75
  },
  {
   "metadata": {},
   "cell_type": "markdown",
   "source": [
    "## Dataset Filtering\n",
    "Images which do not contain buildings are discarded, and every other class is mapped to background to be ignored during training.\n",
    "This process transforms the dataset into one meant for building identification, such as the [Inria Aerial Image Labeling Benchmark](https://project.inria.fr/aerialimagelabeling/), but with a spatial resolution better suited for the downstream data.\n",
    "The expectation is that building labeling is a contextually more appropriate pretext task than plain urban scene segmentation.\n",
    "\n",
    "**TODO**: Consider discarding images based on a minimum building percentage in the corresponding masks."
   ],
   "id": "250dccfe16f006ed"
  },
  {
   "metadata": {},
   "cell_type": "code",
   "outputs": [],
   "execution_count": null,
   "source": [
    "building_idx = 3\n",
    "\n"
   ],
   "id": "6dc38b0403fdb45d"
  },
  {
   "metadata": {},
   "cell_type": "markdown",
   "source": "",
   "id": "25c17f9453783a2"
  }
 ],
 "metadata": {
  "kernelspec": {
   "display_name": "Python 3",
   "language": "python",
   "name": "python3"
  },
  "language_info": {
   "codemirror_mode": {
    "name": "ipython",
    "version": 2
   },
   "file_extension": ".py",
   "mimetype": "text/x-python",
   "name": "python",
   "nbconvert_exporter": "python",
   "pygments_lexer": "ipython2",
   "version": "2.7.6"
  }
 },
 "nbformat": 4,
 "nbformat_minor": 5
}
