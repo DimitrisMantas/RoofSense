{
 "cells": [
  {
   "cell_type": "code",
   "execution_count": null,
   "id": "initial_id",
   "metadata": {
    "collapsed": true
   },
   "outputs": [],
   "source": [
    "import math\n",
    "from typing import Any\n",
    "from typing import Optional\n",
    "\n",
    "import laspy\n",
    "import matplotlib.pyplot as plt\n",
    "import numpy as np\n",
    "import rasterio.fill\n",
    "import scipy as sp\n",
    "from tqdm import tqdm\n",
    "\n",
    "import raster"
   ]
  },
  {
   "cell_type": "code",
   "outputs": [],
   "source": [
    "# Read the point cloud.\n",
    "with laspy.open(\"lidar.laz\") as src:\n",
    "    data = src.read()"
   ],
   "metadata": {
    "collapsed": false
   },
   "id": "21d0bd062b27f1b",
   "execution_count": null
  },
  {
   "cell_type": "markdown",
   "source": [
    "### Reflectance Field Rasterization"
   ],
   "metadata": {
    "collapsed": false
   },
   "id": "a474c3e725dadfcb"
  },
  {
   "cell_type": "code",
   "outputs": [],
   "source": [
    "# Extract the necessary point attributes.\n",
    "# NOTE: The elevation is used to estimate the surface normals.\n",
    "ELEVATION = data[\"z\"].scaled_array()\n",
    "\n",
    "REFLECTANCE = data[\"Reflectance\"].scaled_array()\n",
    "# Convert the unit from dB to the underlying ratio.\n",
    "REFLECTANCE = (10 ** (0.1 * REFLECTANCE))\n",
    "# Clip erroneous values corresponding to non-Lambertian surfaces.\n",
    "REFLECTANCE = REFLECTANCE.clip(max=1)"
   ],
   "metadata": {
    "collapsed": false
   },
   "id": "a1ddc36222837312",
   "execution_count": null
  },
  {
   "cell_type": "code",
   "outputs": [],
   "source": [
    "# Compute the bounding box of the point cloud.\n",
    "BBOX = [*data.header.mins[:2], *data.header.maxs[:2]]\n",
    "\n",
    "# Specify the output raster resolution.\n",
    "# NOTE: Use a sensible default resolution given the nominal AN4 point density (10 points/m^{2}) and BM5 imagery resolution (~8 cm - the actual resolution is 8 + 1.67e-8 cm, presumably due to floating-point rounding errors).\n",
    "RESOLUTION: Optional[float] = 0.32\n",
    "if RESOLUTION is None:\n",
    "    area = (BBOX[2] - BBOX[0]) * (BBOX[3] - BBOX[1])\n",
    "    density = len(data) / area\n",
    "\n",
    "    # NOTE: This is the \"natural\" resolution of the point cloud, assuming perfectly uniform point distribution in all directions.\n",
    "    RESOLUTION = math.sqrt(density) ** -1\n",
    "    # Do not exceed the BM5 resolution.\n",
    "    RESOLUTION = max(RESOLUTION, 0.08)\n",
    "\n",
    "# Initialize the output raster.\n",
    "ras = raster.Raster(RESOLUTION, bbox=BBOX)\n",
    "\n",
    "# Compute the raster cells.\n",
    "rows, cols = np.mgrid[0:ras.height, 0:ras.width]\n",
    "\n",
    "cells_x = BBOX[0] + (cols + 0.5) * RESOLUTION\n",
    "cells_y = BBOX[3] - (rows + 0.5) * RESOLUTION\n",
    "\n",
    "cells = np.vstack([cells_x.ravel(), cells_y.ravel()]).transpose()"
   ],
   "metadata": {
    "collapsed": false
   },
   "id": "c6d6cdf1711c2e5a",
   "execution_count": null
  },
  {
   "cell_type": "code",
   "outputs": [],
   "source": [
    "# Initialize the spatial index of the point cloud.\n",
    "index = sp.spatial.KDTree(np.vstack([data.x, data.y]).transpose())"
   ],
   "metadata": {
    "collapsed": false
   },
   "id": "d83cb0ca217cf66e",
   "execution_count": null
  },
  {
   "cell_type": "code",
   "outputs": [],
   "source": [
    "# TODO: Cache the neighbor and distance queries.\n",
    "# TODO: Add multithreading.\n",
    "def query(index: sp.spatial.KDTree, cells: np.ndarray[tuple[Any, 2], np.dtype[np.number]]) -> tuple[\n",
    "    np.ndarray[tuple[Any,], np.dtype[np.object_]], np.ndarray[tuple[Any,], np.dtype[np.object_]]]:\n",
    "    # Compute the cell neighbors.\n",
    "    neighbors = index.query_ball_point(cells,\n",
    "                                       r=RESOLUTION,\n",
    "                                       workers=-1,\n",
    "                                       # NOTE: Multi-point query results are sorted by neighbor index, which unnecessarily impacts performance.\n",
    "                                       return_sorted=False)\n",
    "\n",
    "    # Compute the distances to the cell neighbors.\n",
    "    distances = np.empty_like(neighbors)\n",
    "    for i, (cell, neighbor) in tqdm(enumerate(zip(cells, neighbors)),\n",
    "                                    desc=\"Cell-to-Neighbor Distances\",\n",
    "                                    total=len(neighbors),\n",
    "                                    unit=\"cells\"):\n",
    "        # NOTE: Distance arrays must be 1D.\n",
    "        distances[i] = sp.spatial.distance.cdist(cell[None, :], index.data[neighbor]).ravel()\n",
    "\n",
    "    return neighbors, distances"
   ],
   "metadata": {
    "collapsed": false
   },
   "id": "efdc9481a07bd54",
   "execution_count": null
  },
  {
   "cell_type": "code",
   "outputs": [],
   "source": [
    "neighbors, distances = query(index, cells)"
   ],
   "metadata": {
    "collapsed": false
   },
   "id": "b1e98098a6260726",
   "execution_count": null
  },
  {
   "cell_type": "code",
   "outputs": [],
   "source": [
    "# TODO: Add multithreading.\n",
    "# Interpolate the attribute value at the raster cells.\n",
    "ras_data = np.full_like(neighbors, fill_value=np.nan, dtype=np.float32)\n",
    "for i, (neighbor, distance) in tqdm(enumerate(zip(neighbors, distances)),\n",
    "                                    desc=\"Rasterization\",\n",
    "                                    total=len(neighbors),\n",
    "                                    unit=\"cells\"):\n",
    "    if not neighbor:\n",
    "        # The cell is empty.\n",
    "        continue\n",
    "    if np.any(distance == 0):\n",
    "        # The cell is a member of the point cloud; read the corresponding attribute value.\n",
    "        ras_data[i] = REFLECTANCE[neighbor[np.argsort(distance)[0]]]\n",
    "    else:\n",
    "        # IDW\n",
    "        ras_data[i] = np.average(REFLECTANCE[neighbor], weights=distance ** -2)\n",
    "\n",
    "# Shape the data into a raster form.\n",
    "ras_data = ras_data.reshape([ras.height, ras.width])\n",
    "\n",
    "# Fill the empty cells.\n",
    "# TODO: Detect the no-data value automatically.\n",
    "ras_data = rasterio.fill.fillnodata(ras_data, mask=np.logical_not(np.isnan(ras_data)))\n",
    "\n",
    "# Overwrite the raster data.\n",
    "ras._data = ras_data\n",
    "ras.save(\"lidar.refl.tif\")"
   ],
   "metadata": {
    "collapsed": false
   },
   "id": "a4e6bca3debbb8be",
   "execution_count": null
  },
  {
   "cell_type": "markdown",
   "source": [
    "### Surface Normal Vector Computation"
   ],
   "metadata": {
    "collapsed": false
   },
   "id": "4cd6c1b30d59bc5c"
  },
  {
   "cell_type": "code",
   "outputs": [],
   "source": [
    "# Compute the six nearest neighbors of each point.\n",
    "# NOTE: Since the queries are the index itself, they are also returned as \"neighbors\" to themselves, and thus the seven instead of six nearest neighbors must actually be found.\n",
    "neighbors = index.query(index.data, k=6 + 1, workers=-1)[1]"
   ],
   "metadata": {
    "collapsed": false
   },
   "id": "eb5c7584b64c04ed",
   "execution_count": null
  },
  {
   "cell_type": "code",
   "outputs": [],
   "source": [
    "# Fit a plane to the local neighborhood of each point.\n",
    "normals = np.zeros([index.n, 3])\n",
    "for i, neighbor in tqdm(enumerate(neighbors), desc=\"Normal Computation\", total=len(neighbors), unit=\"points\"):\n",
    "    # Gather the local point neighborhood.\n",
    "    pts = np.hstack([index.data[neighbor], ELEVATION[neighbor][:, None]])\n",
    "\n",
    "    # Compute the relative point elevation of the neighborhood with respect to the corresponding query.\n",
    "    # NOTE: The first point in the neighborhood is the seed, by convention.\n",
    "    rel_z = np.abs(pts[0, -1] - pts[:, -1])\n",
    "    # Discard outliers from the neighborhood.\n",
    "    # TODO: Fine tune the cutoff threshold.\n",
    "    pts = pts[np.where(rel_z < 0.1)]\n",
    "\n",
    "    # TODO: Is this really necessary?\n",
    "    if len(pts) < 3:\n",
    "        # The neighborhood is erroneous.\n",
    "        continue\n",
    "\n",
    "    # NOTE: The final rotation matrix is returned in its Hermitian form.\n",
    "    # TODO: Consider using the neighborhood covariance matrix.\n",
    "    n = np.linalg.svd(pts - np.mean(pts, axis=0))[-1][-1]\n",
    "    if n[-1] < 0:\n",
    "        # The normal is pointing to the ground.\n",
    "        n *= -1\n",
    "\n",
    "    normals[i] = n"
   ],
   "metadata": {
    "collapsed": false
   },
   "id": "ca3e86ab9e66e330",
   "execution_count": null
  },
  {
   "cell_type": "code",
   "outputs": [],
   "source": [
    "np.save(\"lidar.norm\", normals)"
   ],
   "metadata": {
    "collapsed": false
   },
   "id": "36967675d4c86257",
   "execution_count": null
  },
  {
   "cell_type": "markdown",
   "source": [
    "### Radiometric Calibration"
   ],
   "metadata": {
    "collapsed": false
   },
   "id": "2f8c3375a1d1387e"
  },
  {
   "cell_type": "code",
   "outputs": [],
   "source": [
    "normals = np.load(\"lidar.norm.npy\")"
   ],
   "metadata": {
    "collapsed": false
   },
   "id": "ab5e1dad2497bb9f",
   "execution_count": null
  },
  {
   "cell_type": "code",
   "outputs": [],
   "source": [
    "# Get the scan angle.\n",
    "# TODO: Explain the scan angle conversion.\n",
    "# https://github.com/ASPRSorg/LAS/issues/41\n",
    "scan_angle = np.radians(data.scan_angle * 0.006)"
   ],
   "metadata": {
    "collapsed": false
   },
   "id": "7a748f9a729acde",
   "execution_count": null
  },
  {
   "cell_type": "code",
   "outputs": [],
   "source": [
    "# Compute the refracted laser beam vectors.\n",
    "# NOTE: This operation is the result of rotating the nadir-pointing ``k`` vector by the scan angle around the y-axis (i.e., the along-track direction), and then reversing its direction to point towards the sky.\n",
    "refracted_beams = np.vstack([np.sin(scan_angle), np.zeros(len(scan_angle)), np.cos(scan_angle)]).transpose()"
   ],
   "metadata": {
    "collapsed": false
   },
   "id": "ce446190f19c82d3",
   "execution_count": null
  },
  {
   "cell_type": "code",
   "outputs": [],
   "source": [
    "# NOTE: The beam vectors may not be normalized due to floating-point rounding errors, and thus the complete trigonometric calculation is necessary.\n",
    "incidence_cosines = ((refracted_beams * normals).sum(axis=1)) / np.linalg.norm(refracted_beams, axis=1)"
   ],
   "metadata": {
    "collapsed": false
   },
   "id": "c1c550be3a929d27",
   "execution_count": null
  },
  {
   "cell_type": "code",
   "outputs": [],
   "source": [
    "# Check the value quality.\n",
    "bad_cosines = data[(incidence_cosines < 0)].xyz\n",
    "\n",
    "# Count and report on the erroneous values.\n",
    "print(f\"Found {len(bad_cosines)} points associated with an erroneous incidence cosine value.\")\n",
    "\n",
    "fig, axs = plt.subplots(1, 2, figsize=(12, 6))\n",
    "\n",
    "# Visualize the value distribution.\n",
    "# TODO: Compute the number of bins automatically using Doane's formula.\n",
    "# https://en.wikipedia.org/wiki/Histogram#Number_of_bins_and_width\n",
    "axs[0].hist(incidence_cosines, alpha=0.75, bins=25, color='skyblue')\n",
    "axs[0].set_title('Incident Cosine Values')\n",
    "\n",
    "# Visualize the erroneous values.\n",
    "axs[1].scatter(bad_cosines[:, 0], bad_cosines[:, 1], alpha=0.75, color=\"tomato\", marker=\".\", s=0.1)\n",
    "axs[1].set_title('Erroneous Incident Cosine Values')\n",
    "\n",
    "plt.tight_layout()"
   ],
   "metadata": {
    "collapsed": false
   },
   "id": "f4bf3eb89d1c9003",
   "execution_count": null
  }
 ],
 "metadata": {
  "kernelspec": {
   "display_name": "Python 3",
   "language": "python",
   "name": "python3"
  },
  "language_info": {
   "codemirror_mode": {
    "name": "ipython",
    "version": 2
   },
   "file_extension": ".py",
   "mimetype": "text/x-python",
   "name": "python",
   "nbconvert_exporter": "python",
   "pygments_lexer": "ipython2",
   "version": "2.7.6"
  }
 },
 "nbformat": 4,
 "nbformat_minor": 5
}
