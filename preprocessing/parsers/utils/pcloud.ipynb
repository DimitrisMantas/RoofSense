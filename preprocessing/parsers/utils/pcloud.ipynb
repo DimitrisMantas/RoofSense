{
 "cells": [
  {
   "cell_type": "code",
   "execution_count": null,
   "id": "initial_id",
   "metadata": {
    "collapsed": true
   },
   "outputs": [],
   "source": [
    "import laspy\n",
    "import numpy as np\n",
    "import scipy as sp\n",
    "from tqdm import tqdm\n",
    "\n",
    "import raster"
   ]
  },
  {
   "cell_type": "code",
   "outputs": [],
   "source": [
    "# Read the point cloud.\n",
    "with laspy.open(\"lidar.laz\") as src:\n",
    "    data = src.read()"
   ],
   "metadata": {
    "collapsed": false
   },
   "id": "21d0bd062b27f1b",
   "execution_count": null
  },
  {
   "cell_type": "code",
   "outputs": [],
   "source": [
    "# Compute the bounding box of the point cloud.\n",
    "bbox = [*data.header.mins[:2], *data.header.maxs[:2]]"
   ],
   "metadata": {
    "collapsed": false
   },
   "id": "c3818d4a081c9c45",
   "execution_count": null
  },
  {
   "cell_type": "markdown",
   "source": [
    "### Rasterization"
   ],
   "metadata": {
    "collapsed": false
   },
   "id": "a474c3e725dadfcb"
  },
  {
   "cell_type": "code",
   "outputs": [],
   "source": [
    "RESOLUTION = 0.25\n",
    "ATTRIBUTE = data[\"Reflectance\"].scaled_array()"
   ],
   "metadata": {
    "collapsed": false
   },
   "id": "a1ddc36222837312",
   "execution_count": null
  },
  {
   "cell_type": "code",
   "outputs": [],
   "source": [
    "# Initialize the output raster.\n",
    "out = raster.Raster(0.25, bbox=bbox)\n",
    "\n",
    "# Compute the raster cells.\n",
    "rows, cols = np.mgrid[0:out.height, 0:out.width]\n",
    "\n",
    "cells_x = bbox[0] + (cols + 0.5) * RESOLUTION\n",
    "cells_y = bbox[3] - (rows + 0.5) * RESOLUTION\n",
    "cells = np.vstack(\n",
    "    [cells_x.ravel(), cells_y.ravel()]\n",
    ").transpose()\n",
    "\n",
    "cells"
   ],
   "metadata": {
    "collapsed": false
   },
   "id": "c6d6cdf1711c2e5a",
   "execution_count": null
  },
  {
   "cell_type": "code",
   "outputs": [],
   "source": [
    "# Initialize the index.\n",
    "index = sp.spatial.KDTree(np.vstack([data.x, data.y]).transpose())"
   ],
   "metadata": {
    "collapsed": false
   },
   "id": "d83cb0ca217cf66e",
   "execution_count": null
  },
  {
   "cell_type": "code",
   "outputs": [],
   "source": [
    "# Compute the cell neighbors.\n",
    "neighbors = index.query_ball_point(cells, r=RESOLUTION, workers=-1, return_sorted=False)"
   ],
   "metadata": {
    "collapsed": false
   },
   "id": "26183ac9306ddd70",
   "execution_count": null
  },
  {
   "cell_type": "code",
   "outputs": [],
   "source": [
    "# Compute the distances to the cell neighbors.\n",
    "# TODO: Cache the neighbor and distance queries.\n",
    "# TODO: Add multithreading.\n",
    "distances = np.empty_like(neighbors)\n",
    "for i, (cell, neighbor) in enumerate(zip(cells, neighbors)):\n",
    "    distances[i] = sp.spatial.distance.cdist(cell[None, :], index.data[neighbor]).ravel()"
   ],
   "metadata": {
    "collapsed": false
   },
   "id": "b1e98098a6260726",
   "execution_count": null
  },
  {
   "cell_type": "code",
   "outputs": [],
   "source": [
    "# Interpolate the attribute value at the raster cells.\n",
    "# TODO: Add multithreading.\n",
    "field = np.full_like(neighbors, fill_value=np.nan, dtype=np.float32)\n",
    "for i, (neighbor, distance) in tqdm(enumerate(zip(neighbors, distances)),\n",
    "                                    desc=\"Rasterization\",\n",
    "                                    total=len(neighbors),\n",
    "                                    unit=\"cells\"):\n",
    "    if not neighbor:\n",
    "        # The cell is empty.\n",
    "        continue\n",
    "    if np.any(distance == 0):\n",
    "        # The cell is a member of the point cloud.\n",
    "        field[i] = ATTRIBUTE[neighbor[np.argsort(distance)[0]]]\n",
    "    else:\n",
    "        # IDW\n",
    "        field[i] = np.average(ATTRIBUTE[neighbor], weights=distance ** -2)\n",
    "\n",
    "# Overwrite the raster data.\n",
    "out._data = field.reshape([out.height, out.width])\n",
    "out.save(\"lidar.refl.tif\")"
   ],
   "metadata": {
    "collapsed": false
   },
   "id": "a4e6bca3debbb8be",
   "execution_count": null
  },
  {
   "cell_type": "markdown",
   "source": [
    "### Normals"
   ],
   "metadata": {
    "collapsed": false
   },
   "id": "4cd6c1b30d59bc5c"
  },
  {
   "cell_type": "code",
   "outputs": [],
   "source": [
    "# Compute the six nearest neighbors of each point.\n",
    "# TODO: Explain why ``k=7``.\n",
    "neighbors = index.query(index.data, k=6 + 1, workers=-1)[1]"
   ],
   "metadata": {
    "collapsed": false
   },
   "id": "eb5c7584b64c04ed",
   "execution_count": null
  },
  {
   "cell_type": "code",
   "outputs": [],
   "source": [
    "# Fit a plane to the local neighborhood of each point.\n",
    "elevation = data[\"z\"].scaled_array()\n",
    "\n",
    "positive = np.array([0, 0, 1])\n",
    "normals = np.full([index.n, 3], np.nan)\n",
    "for i, neighbor in tqdm(\n",
    "        enumerate(neighbors), \n",
    "        desc=\"Normal Computation\", \n",
    "        total=len(neighbors), \n",
    "        unit=\"points\"\n",
    "):\n",
    "    pts = np.hstack([index.data[neighbor], elevation[neighbor][:, None]])\n",
    "\n",
    "    # NOTE: The final rotation matrix is returned in its Hermitian form,\n",
    "    n = np.linalg.svd(\n",
    "        pts - np.mean(pts, axis=0)\n",
    "    )[-1][-1]\n",
    "    if np.dot(n, positive) < 0:\n",
    "        # The normal is pointing to the ground.\n",
    "        n *= -1\n",
    "\n",
    "    normals[i] = n\n",
    "\n",
    "normals"
   ],
   "metadata": {
    "collapsed": false
   },
   "id": "ca3e86ab9e66e330",
   "execution_count": null
  },
  {
   "cell_type": "code",
   "outputs": [],
   "source": [
    "np.save(\"lidar.norm\", normals)"
   ],
   "metadata": {
    "collapsed": false
   },
   "id": "36967675d4c86257",
   "execution_count": null
  },
  {
   "cell_type": "markdown",
   "source": [
    "### Radiometric Calibration"
   ],
   "metadata": {
    "collapsed": false
   },
   "id": "2f8c3375a1d1387e"
  },
  {
   "cell_type": "code",
   "outputs": [],
   "source": [
    "normals = np.load(\"lidar.norms.npy\")"
   ],
   "metadata": {
    "collapsed": false
   },
   "id": "ab5e1dad2497bb9f",
   "execution_count": null
  },
  {
   "cell_type": "code",
   "outputs": [],
   "source": [
    "# Get the scan angle.\n",
    "# TODO: Explain the scan angle conversion.\n",
    "# https://github.com/ASPRSorg/LAS/issues/41\n",
    "scan_angle = np.radians(data.scan_angle * 0.006)\n",
    "scan_angle"
   ],
   "metadata": {
    "collapsed": false
   },
   "id": "7a748f9a729acde",
   "execution_count": null
  },
  {
   "cell_type": "code",
   "outputs": [],
   "source": [
    "# Compute the refracted laser beam vectors.\n",
    "# NOTE: This operation is the result of rotating the unit vector in the direction of the z-axis by the scan angle around the y-axis.\n",
    "refracted_beam = np.vstack([np.sin(scan_angle), np.zeros(len(scan_angle)), np.cos(scan_angle)]).transpose()\n",
    "refracted_beam"
   ],
   "metadata": {
    "collapsed": false
   },
   "id": "ce446190f19c82d3",
   "execution_count": null
  },
  {
   "cell_type": "code",
   "outputs": [],
   "source": [
    "incidence_angle = np.zeros(len(refracted_beam))\n",
    "for i, (beam, n) in enumerate(zip(refracted_beam, normals)):\n",
    "    # NOTE: The beam vectors may not be normalized due to floating-point rounding errors, and thus the complete trigonometric calculation is necessary.\n",
    "    incidence_angle[i] = np.dot(beam, n) / np.linalg.norm(beam)\n",
    "\n",
    "incidence_angle"
   ],
   "metadata": {
    "collapsed": false
   },
   "id": "c1c550be3a929d27",
   "execution_count": null
  },
  {
   "cell_type": "code",
   "outputs": [],
   "source": [
    "# FIXME: The "
   ],
   "metadata": {
    "collapsed": false
   },
   "id": "d7268fd2056fdad6"
  },
  {
   "cell_type": "code",
   "outputs": [],
   "source": [
    "import matplotlib.pyplot as plt\n",
    "\n",
    "plt.hist(incidence_angle)"
   ],
   "metadata": {
    "collapsed": false
   },
   "id": "cde6c13134869a35",
   "execution_count": null
  }
 ],
 "metadata": {
  "kernelspec": {
   "display_name": "Python 3",
   "language": "python",
   "name": "python3"
  },
  "language_info": {
   "codemirror_mode": {
    "name": "ipython",
    "version": 2
   },
   "file_extension": ".py",
   "mimetype": "text/x-python",
   "name": "python",
   "nbconvert_exporter": "python",
   "pygments_lexer": "ipython2",
   "version": "2.7.6"
  }
 },
 "nbformat": 4,
 "nbformat_minor": 5
}
