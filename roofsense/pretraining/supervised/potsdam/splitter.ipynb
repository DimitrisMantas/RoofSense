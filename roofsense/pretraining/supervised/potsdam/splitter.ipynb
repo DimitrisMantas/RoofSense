{
 "cells": [
  {
   "cell_type": "code",
   "execution_count": 1,
   "id": "a19236a51f35407b",
   "metadata": {
    "ExecuteTime": {
     "end_time": "2024-08-29T21:00:02.137144Z",
     "start_time": "2024-08-29T20:59:58.216075Z"
    }
   },
   "outputs": [],
   "source": [
    "import glob\n",
    "import itertools\n",
    "import os\n",
    "from collections.abc import Generator\n",
    "from functools import partial\n",
    "\n",
    "import numpy as np\n",
    "import rasterio\n",
    "import rasterio.merge\n",
    "import rasterio.windows\n",
    "from torchgeo.datasets import Potsdam2D\n",
    "from torchgeo.datasets.utils import rgb_to_mask"
   ]
  },
  {
   "cell_type": "code",
   "execution_count": 2,
   "id": "374ddf17883d581b",
   "metadata": {
    "ExecuteTime": {
     "end_time": "2024-08-29T21:00:02.174146Z",
     "start_time": "2024-08-29T21:00:02.169142Z"
    }
   },
   "outputs": [],
   "source": [
    "root_dirpath = r\"C:\\Users\\Dimit\\Downloads\\Potsdam\"\n",
    "join_to_root_dir = partial(os.path.join, root_dirpath)"
   ]
  },
  {
   "cell_type": "code",
   "execution_count": 3,
   "id": "fdc4c5cb7da90975",
   "metadata": {
    "ExecuteTime": {
     "end_time": "2024-08-29T21:00:02.191934Z",
     "start_time": "2024-08-29T21:00:02.188144Z"
    }
   },
   "outputs": [],
   "source": [
    "image_dirname = \"2_Ortho_RGB\"\n",
    "image_dirpath = join_to_root_dir(image_dirname)\n",
    "\n",
    "label_dirname = \"5_Labels_all\"\n",
    "label_dirpath = join_to_root_dir(label_dirname)"
   ]
  },
  {
   "cell_type": "code",
   "execution_count": 4,
   "id": "1fa95582dacc952d",
   "metadata": {
    "ExecuteTime": {
     "end_time": "2024-08-29T21:00:38.120983Z",
     "start_time": "2024-08-29T21:00:38.114784Z"
    }
   },
   "outputs": [],
   "source": [
    "image_paths = glob.glob(os.path.join(image_dirpath, \"*.tif\"))\n",
    "image_paths.sort()\n",
    "\n",
    "label_paths = glob.glob(os.path.join(label_dirpath, \"*.tif\"))\n",
    "label_paths.sort()"
   ]
  },
  {
   "cell_type": "code",
   "execution_count": 5,
   "id": "1728418f86490ad1",
   "metadata": {
    "ExecuteTime": {
     "end_time": "2024-08-29T21:00:39.499141Z",
     "start_time": "2024-08-29T21:00:39.494675Z"
    }
   },
   "outputs": [],
   "source": [
    "def get_chips(\n",
    "    src: rasterio.io.DatasetReader, width: int = 512, height: int = 512\n",
    ") -> Generator[tuple[rasterio.windows.Window, \"affine.Affine\"], None, None]:\n",
    "    num_cols, num_rows = src.width, src.height\n",
    "\n",
    "    tile = rasterio.windows.Window(\n",
    "        col_off=0, row_off=0, width=num_cols, height=num_rows\n",
    "    )\n",
    "\n",
    "    offsets = itertools.product(range(0, num_cols, width), range(0, num_rows, height))\n",
    "    for col_off, row_off in offsets:\n",
    "        chip = rasterio.windows.Window(\n",
    "            col_off=col_off, row_off=row_off, width=width, height=height\n",
    "        ).intersection(tile)\n",
    "        transform = rasterio.windows.transform(chip, src.transform)\n",
    "        yield chip, transform"
   ]
  },
  {
   "cell_type": "code",
   "execution_count": 12,
   "id": "fb340c0e3dddee8c",
   "metadata": {
    "ExecuteTime": {
     "end_time": "2024-08-29T21:04:26.350217Z",
     "start_time": "2024-08-29T21:04:26.346494Z"
    }
   },
   "outputs": [],
   "source": [
    "image_chip_dirpath = os.path.join(image_dirpath, \"chips\")\n",
    "os.makedirs(image_chip_dirpath, exist_ok=True)\n",
    "\n",
    "label_chip_dirpath = os.path.join(label_dirpath, \"chips\")\n",
    "os.makedirs(label_chip_dirpath, exist_ok=True)"
   ]
  },
  {
   "cell_type": "code",
   "execution_count": 7,
   "id": "7b1145620ad8da97",
   "metadata": {
    "ExecuteTime": {
     "end_time": "2024-08-29T21:01:08.244242Z",
     "start_time": "2024-08-29T21:00:43.255683Z"
    }
   },
   "outputs": [
    {
     "name": "stdout",
     "output_type": "stream",
     "text": [
      "0/38\n",
      "1/38\n",
      "2/38\n",
      "3/38\n",
      "4/38\n",
      "5/38\n",
      "6/38\n",
      "7/38\n",
      "8/38\n",
      "9/38\n",
      "10/38\n",
      "11/38\n",
      "12/38\n",
      "13/38\n",
      "14/38\n",
      "15/38\n",
      "16/38\n",
      "17/38\n",
      "18/38\n",
      "19/38\n",
      "20/38\n",
      "21/38\n",
      "22/38\n",
      "23/38\n",
      "24/38\n",
      "25/38\n",
      "26/38\n",
      "27/38\n",
      "28/38\n",
      "29/38\n",
      "30/38\n",
      "31/38\n",
      "32/38\n",
      "33/38\n",
      "34/38\n",
      "35/38\n",
      "36/38\n",
      "37/38\n"
     ]
    }
   ],
   "source": [
    "for i, src_path in enumerate(image_paths):\n",
    "    print(f\"{i}/{len(image_paths)}\")\n",
    "    src: rasterio.io.DatasetReader\n",
    "    with rasterio.open(src_path) as src:\n",
    "        meta: rasterio.profiles.Profile = src.meta.copy()\n",
    "        for chip, transform in get_chips(src):\n",
    "            if not (chip.width == chip.height == 512):\n",
    "                continue\n",
    "            src_data = src.read(window=chip)\n",
    "            dst_name = (\n",
    "                os.path.basename(src_path).removesuffix(\"_RGB.tif\")\n",
    "                + f\"_{chip.col_off // chip.width}-{chip.row_off // chip.height}\"\n",
    "                + \".tif\"\n",
    "            )\n",
    "            meta.update(width=chip.width, height=chip.height, transform=transform)\n",
    "            dst_path = os.path.join(image_chip_dirpath, dst_name)\n",
    "            dst: rasterio.io.DatasetWriter\n",
    "            with rasterio.open(dst_path, mode=\"w\", **meta) as dst:\n",
    "                dst.write(src_data)"
   ]
  },
  {
   "cell_type": "code",
   "execution_count": 13,
   "id": "5c914b7f0ea9ecae",
   "metadata": {
    "ExecuteTime": {
     "end_time": "2024-08-29T21:06:53.189840Z",
     "start_time": "2024-08-29T21:04:28.393591Z"
    }
   },
   "outputs": [
    {
     "name": "stdout",
     "output_type": "stream",
     "text": [
      "0/38\n",
      "1/38\n",
      "2/38\n",
      "3/38\n",
      "4/38\n",
      "5/38\n",
      "6/38\n",
      "7/38\n",
      "8/38\n",
      "9/38\n",
      "10/38\n",
      "11/38\n",
      "12/38\n",
      "13/38\n",
      "14/38\n",
      "15/38\n",
      "16/38\n",
      "17/38\n",
      "18/38\n",
      "19/38\n",
      "20/38\n",
      "21/38\n",
      "22/38\n",
      "23/38\n",
      "24/38\n",
      "25/38\n",
      "26/38\n",
      "27/38\n",
      "28/38\n",
      "29/38\n",
      "30/38\n",
      "31/38\n",
      "32/38\n",
      "33/38\n",
      "34/38\n",
      "35/38\n",
      "36/38\n",
      "37/38\n"
     ]
    }
   ],
   "source": [
    "for i, src_path in enumerate(label_paths):\n",
    "    print(f\"{i}/{len(label_paths)}\")\n",
    "    src: rasterio.io.DatasetReader\n",
    "    with rasterio.open(src_path) as src:\n",
    "        meta: rasterio.profiles.Profile = src.meta.copy()\n",
    "        for chip, _ in get_chips(src):\n",
    "            if not (chip.width == chip.height == 512):\n",
    "                continue\n",
    "            src_data = src.read(window=chip)\n",
    "            if not np.allclose(src_data, src_data.astype(np.uint8)):\n",
    "                raise RuntimeError(f\"bad mask: {src_path}\")\n",
    "            src_data = rgb_to_mask(np.moveaxis(src_data, 0, -1), Potsdam2D.colormap)\n",
    "            # if not np.any(src_data):\n",
    "            #     raise RuntimeError(f\"bad mask: {src_path}\")\n",
    "            dst_name = (\n",
    "                os.path.basename(src_path).removesuffix(\"_label.tif\")\n",
    "                + f\"_{chip.col_off // chip.width}-{chip.row_off // chip.height}\"\n",
    "                + \".tif\"\n",
    "            )\n",
    "            with rasterio.open(os.path.join(image_chip_dirpath, dst_name)) as img_src:\n",
    "                crs = img_src.crs\n",
    "                transform = img_src.transform\n",
    "            meta.update(\n",
    "                count=1,\n",
    "                width=chip.width,\n",
    "                height=chip.height,\n",
    "                crs=crs,\n",
    "                transform=transform,\n",
    "            )\n",
    "            dst_path = os.path.join(label_chip_dirpath, dst_name)\n",
    "            dst: rasterio.io.DatasetWriter\n",
    "            with rasterio.open(dst_path, mode=\"w\", **meta) as dst:\n",
    "                dst.write(src_data, indexes=1)"
   ]
  }
 ],
 "metadata": {
  "kernelspec": {
   "display_name": "Python 3",
   "language": "python",
   "name": "python3"
  },
  "language_info": {
   "codemirror_mode": {
    "name": "ipython",
    "version": 2
   },
   "file_extension": ".py",
   "mimetype": "text/x-python",
   "name": "python",
   "nbconvert_exporter": "python",
   "pygments_lexer": "ipython2",
   "version": "2.7.6"
  }
 },
 "nbformat": 4,
 "nbformat_minor": 5
}
