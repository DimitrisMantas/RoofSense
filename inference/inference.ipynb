{
 "cells": [
  {
   "metadata": {},
   "cell_type": "markdown",
   "source": "Generate material maps using an existing model checkpoint.",
   "id": "a58898859405bcf9"
  },
  {
   "metadata": {
    "ExecuteTime": {
     "end_time": "2024-05-04T23:53:56.876122Z",
     "start_time": "2024-05-04T23:53:48.567860Z"
    }
   },
   "cell_type": "code",
   "source": [
    "import geopandas as gpd\n",
    "import lightning.pytorch\n",
    "import matplotlib.pyplot as plt\n",
    "import numpy as np\n",
    "import rasterio.features\n",
    "import rasterio.plot\n",
    "import torch.utils.data\n",
    "import torchgeo.datasets\n",
    "import torchgeo.samplers\n",
    "import tqdm\n",
    "\n",
    "import training.datamodule\n",
    "import training.dataset\n",
    "import training.task"
   ],
   "id": "482cc0f46b8d2620",
   "outputs": [],
   "execution_count": 1
  },
  {
   "metadata": {},
   "cell_type": "markdown",
   "source": "### Setup",
   "id": "9c0e51ff804117ca"
  },
  {
   "metadata": {
    "ExecuteTime": {
     "end_time": "2024-05-04T23:53:56.887418Z",
     "start_time": "2024-05-04T23:53:56.877147Z"
    }
   },
   "cell_type": "code",
   "source": [
    "# Enable TF32 support.\n",
    "torch.set_float32_matmul_precision(\"high\")\n",
    "torch.backends.cudnn.allow_tf32 = True\n",
    "\n",
    "# Fix the RNGs.\n",
    "lightning.pytorch.seed_everything(42, workers=True)"
   ],
   "id": "cbd00f0378125a0d",
   "outputs": [
    {
     "name": "stderr",
     "output_type": "stream",
     "text": [
      "Seed set to 42\n"
     ]
    },
    {
     "data": {
      "text/plain": [
       "42"
      ]
     },
     "execution_count": 2,
     "metadata": {},
     "output_type": "execute_result"
    }
   ],
   "execution_count": 2
  },
  {
   "metadata": {},
   "cell_type": "markdown",
   "source": "### Testing",
   "id": "e254a6caab4f6b80"
  },
  {
   "metadata": {
    "ExecuteTime": {
     "end_time": "2024-05-04T23:55:16.933622Z",
     "start_time": "2024-05-04T23:55:16.011393Z"
    }
   },
   "cell_type": "code",
   "source": [
    "# Instantiate the model in inference mode.\n",
    "model = training.task.TrainingTask.load_from_checkpoint(\"../logs/RoofSense/best-v7.ckpt\")\n",
    "# NOTE: This command disables all batch normalization and dropout layers.\n",
    "model.eval()\n",
    "\n",
    "# Instantiate the datamodule.\n",
    "datamodule = training.datamodule.TrainingDataModule(root=\"../dataset/temp\",\n",
    "                                                           batch_size=16,\n",
    "                                                           num_workers=8)\n",
    "\n",
    "# Instantiate the trainer.\n",
    "trainer = lightning.Trainer(benchmark=True)"
   ],
   "id": "633fceffe6b45672",
   "outputs": [
    {
     "name": "stdout",
     "output_type": "stream",
     "text": [
      "weights\n",
      "['weights', 'ignore']\n"
     ]
    },
    {
     "name": "stderr",
     "output_type": "stream",
     "text": [
      "GPU available: True (cuda), used: True\n",
      "TPU available: False, using: 0 TPU cores\n",
      "IPU available: False, using: 0 IPUs\n",
      "HPU available: False, using: 0 HPUs\n"
     ]
    }
   ],
   "execution_count": 5
  },
  {
   "metadata": {
    "ExecuteTime": {
     "end_time": "2024-05-04T23:55:29.044849Z",
     "start_time": "2024-05-04T23:55:19.747160Z"
    }
   },
   "cell_type": "code",
   "source": [
    "# Test the model.\n",
    "# FIXME: Do not log the test results.\n",
    "trainer.test(model, datamodule=datamodule)"
   ],
   "id": "7c03de3d727db897",
   "outputs": [
    {
     "name": "stderr",
     "output_type": "stream",
     "text": [
      "LOCAL_RANK: 0 - CUDA_VISIBLE_DEVICES: [0]\n"
     ]
    },
    {
     "data": {
      "text/plain": [
       "Testing: |          | 0/? [00:00<?, ?it/s]"
      ],
      "application/vnd.jupyter.widget-view+json": {
       "version_major": 2,
       "version_minor": 0,
       "model_id": "68aa4e0e62aa4f73b8590a4f8e88e81a"
      }
     },
     "metadata": {},
     "output_type": "display_data"
    },
    {
     "data": {
      "text/plain": [
       "┏━━━━━━━━━━━━━━━━━━━━━━━━━━━┳━━━━━━━━━━━━━━━━━━━━━━━━━━━┓\n",
       "┃\u001B[1m \u001B[0m\u001B[1m       Test metric       \u001B[0m\u001B[1m \u001B[0m┃\u001B[1m \u001B[0m\u001B[1m      DataLoader 0       \u001B[0m\u001B[1m \u001B[0m┃\n",
       "┡━━━━━━━━━━━━━━━━━━━━━━━━━━━╇━━━━━━━━━━━━━━━━━━━━━━━━━━━┩\n",
       "│\u001B[36m \u001B[0m\u001B[36m  Testing/macroAccuracy  \u001B[0m\u001B[36m \u001B[0m│\u001B[35m \u001B[0m\u001B[35m   0.3944217562675476    \u001B[0m\u001B[35m \u001B[0m│\n",
       "│\u001B[36m \u001B[0m\u001B[36m  Testing/macroF1Score   \u001B[0m\u001B[36m \u001B[0m│\u001B[35m \u001B[0m\u001B[35m   0.3914090394973755    \u001B[0m\u001B[35m \u001B[0m│\n",
       "│\u001B[36m \u001B[0m\u001B[36m    Testing/macroIoU     \u001B[0m\u001B[36m \u001B[0m│\u001B[35m \u001B[0m\u001B[35m   0.40302157402038574   \u001B[0m\u001B[35m \u001B[0m│\n",
       "│\u001B[36m \u001B[0m\u001B[36m  Testing/microAccuracy  \u001B[0m\u001B[36m \u001B[0m│\u001B[35m \u001B[0m\u001B[35m   0.7511950731277466    \u001B[0m\u001B[35m \u001B[0m│\n",
       "│\u001B[36m \u001B[0m\u001B[36m  Testing/microF1Score   \u001B[0m\u001B[36m \u001B[0m│\u001B[35m \u001B[0m\u001B[35m   0.7511950731277466    \u001B[0m\u001B[35m \u001B[0m│\n",
       "│\u001B[36m \u001B[0m\u001B[36m    Testing/microIoU     \u001B[0m\u001B[36m \u001B[0m│\u001B[35m \u001B[0m\u001B[35m   0.6021966338157654    \u001B[0m\u001B[35m \u001B[0m│\n",
       "│\u001B[36m \u001B[0m\u001B[36m        test_loss        \u001B[0m\u001B[36m \u001B[0m│\u001B[35m \u001B[0m\u001B[35m    2.166008234024048    \u001B[0m\u001B[35m \u001B[0m│\n",
       "└───────────────────────────┴───────────────────────────┘\n"
      ],
      "text/html": [
       "<pre style=\"white-space:pre;overflow-x:auto;line-height:normal;font-family:Menlo,'DejaVu Sans Mono',consolas,'Courier New',monospace\">┏━━━━━━━━━━━━━━━━━━━━━━━━━━━┳━━━━━━━━━━━━━━━━━━━━━━━━━━━┓\n",
       "┃<span style=\"font-weight: bold\">        Test metric        </span>┃<span style=\"font-weight: bold\">       DataLoader 0        </span>┃\n",
       "┡━━━━━━━━━━━━━━━━━━━━━━━━━━━╇━━━━━━━━━━━━━━━━━━━━━━━━━━━┩\n",
       "│<span style=\"color: #008080; text-decoration-color: #008080\">   Testing/macroAccuracy   </span>│<span style=\"color: #800080; text-decoration-color: #800080\">    0.3944217562675476     </span>│\n",
       "│<span style=\"color: #008080; text-decoration-color: #008080\">   Testing/macroF1Score    </span>│<span style=\"color: #800080; text-decoration-color: #800080\">    0.3914090394973755     </span>│\n",
       "│<span style=\"color: #008080; text-decoration-color: #008080\">     Testing/macroIoU      </span>│<span style=\"color: #800080; text-decoration-color: #800080\">    0.40302157402038574    </span>│\n",
       "│<span style=\"color: #008080; text-decoration-color: #008080\">   Testing/microAccuracy   </span>│<span style=\"color: #800080; text-decoration-color: #800080\">    0.7511950731277466     </span>│\n",
       "│<span style=\"color: #008080; text-decoration-color: #008080\">   Testing/microF1Score    </span>│<span style=\"color: #800080; text-decoration-color: #800080\">    0.7511950731277466     </span>│\n",
       "│<span style=\"color: #008080; text-decoration-color: #008080\">     Testing/microIoU      </span>│<span style=\"color: #800080; text-decoration-color: #800080\">    0.6021966338157654     </span>│\n",
       "│<span style=\"color: #008080; text-decoration-color: #008080\">         test_loss         </span>│<span style=\"color: #800080; text-decoration-color: #800080\">     2.166008234024048     </span>│\n",
       "└───────────────────────────┴───────────────────────────┘\n",
       "</pre>\n"
      ]
     },
     "metadata": {},
     "output_type": "display_data"
    },
    {
     "data": {
      "text/plain": [
       "[{'test_loss': 2.166008234024048,\n",
       "  'Testing/macroAccuracy': 0.3944217562675476,\n",
       "  'Testing/macroF1Score': 0.3914090394973755,\n",
       "  'Testing/macroIoU': 0.40302157402038574,\n",
       "  'Testing/microAccuracy': 0.7511950731277466,\n",
       "  'Testing/microF1Score': 0.7511950731277466,\n",
       "  'Testing/microIoU': 0.6021966338157654}]"
      ]
     },
     "execution_count": 6,
     "metadata": {},
     "output_type": "execute_result"
    }
   ],
   "execution_count": 6
  },
  {
   "metadata": {},
   "cell_type": "markdown",
   "source": "### Inference",
   "id": "501f51a97ccbd4b1"
  },
  {
   "metadata": {
    "ExecuteTime": {
     "end_time": "2024-04-11T09:18:24.753363Z",
     "start_time": "2024-04-11T09:18:24.733702Z"
    }
   },
   "cell_type": "code",
   "source": [
    "# Specify the chip size the stack should be split into.\n",
    "# TODO: Find out why different sizes result in different maps.\n",
    "PATCH_SIZE = 64\n",
    "\n",
    "# Specify the batch size.\n",
    "BATCH_SIZE = 64\n",
    "\n",
    "# Instantiate the dataset.\n",
    "# NOTE: The dataset must contain only the stack.\n",
    "stack = training.dataset.TrainingDataset(\"../annotation/data/\")\n",
    "stack.populate_index()\n",
    "\n",
    "# Instantiate the sampler.\n",
    "stack_sampler = torchgeo.samplers.GridGeoSampler(stack, size=PATCH_SIZE, stride=PATCH_SIZE // 2)\n",
    "\n",
    "# Instantiate the loader.\n",
    "stack_loader = torch.utils.data.DataLoader(stack,\n",
    "                                           sampler=stack_sampler,\n",
    "                                           collate_fn=torchgeo.datasets.stack_samples,\n",
    "                                           batch_size=BATCH_SIZE,\n",
    "                                           num_workers=8)"
   ],
   "id": "ccb82b2a7733a08",
   "execution_count": 5,
   "outputs": []
  },
  {
   "metadata": {
    "ExecuteTime": {
     "end_time": "2024-04-11T09:18:24.759221Z",
     "start_time": "2024-04-11T09:18:24.754382Z"
    }
   },
   "cell_type": "code",
   "source": [
    "# Compute the stack transform.\n",
    "stack_bbox = stack.bounds\n",
    "\n",
    "# TODO: Compute the stack dimensions automatically.\n",
    "stack_width = 1024\n",
    "stack_height = 512\n",
    "\n",
    "stack_transform = rasterio.transform.from_bounds(west=stack_bbox.minx,\n",
    "                                                 south=stack_bbox.miny,\n",
    "                                                 east=stack_bbox.maxx,\n",
    "                                                 north=stack_bbox.maxy,\n",
    "                                                 width=stack_width,\n",
    "                                                 height=stack_height)"
   ],
   "id": "5d7603609fa327d6",
   "execution_count": 6,
   "outputs": []
  },
  {
   "metadata": {
    "ExecuteTime": {
     "end_time": "2024-04-11T09:18:32.637885Z",
     "start_time": "2024-04-11T09:18:24.760227Z"
    }
   },
   "cell_type": "code",
   "source": [
    "# Instantiate the map.\n",
    "mmap = np.zeros([stack_height, stack_width], dtype=np.uint8)\n",
    "\n",
    "x = 0\n",
    "y = 0\n",
    "for batch in tqdm.tqdm(stack_loader):\n",
    "    chips = batch[\"image\"].to(model.device)\n",
    "    # Scale the images to the range expected by the model.\n",
    "    # NOTE: All general-purpose augmentations must be applied at this stage.\n",
    "    chips /= 255\n",
    "\n",
    "    # Infer the segmentation mask corresponding to each image.\n",
    "    # NOTE: This context manager disables all automatic differentiation functionality.\n",
    "    #       See https://stackoverflow.com/questions/74191070/why-there-are-two-different-flags-to-disable-gradient-computation-in-pytorch/74197846#74197846 for more information.\n",
    "    with torch.inference_mode():\n",
    "        masks = model(chips).argmax(dim=1).cpu().numpy()\n",
    "\n",
    "    # ----------\n",
    "    # TODO\n",
    "    # iterate through the batch and paste the predictions where they belong\n",
    "    for i in range(BATCH_SIZE):\n",
    "        bbox = batch[\"bbox\"][i]\n",
    "\n",
    "        # Create a polygon from the bbox\n",
    "        geom = {\n",
    "            \"type\": \"Polygon\",\n",
    "            \"coordinates\": [\n",
    "                [[bbox.minx, bbox.miny], [bbox.minx, bbox.maxy], [bbox.maxx, bbox.maxy], [bbox.maxx, bbox.miny],\n",
    "                 [bbox.minx, bbox.miny]  # Close the loop\n",
    "                 ]]}\n",
    "        mask_locs = rasterio.features.geometry_mask([geom],\n",
    "                                                    transform=stack_transform,\n",
    "                                                    invert=True,\n",
    "                                                    out_shape=(stack_height, stack_width))\n",
    "        mmap[mask_locs] = masks[i].ravel()"
   ],
   "id": "440a67c74db5a543",
   "execution_count": 7,
   "outputs": []
  },
  {
   "metadata": {
    "ExecuteTime": {
     "end_time": "2024-04-11T09:23:10.833991Z",
     "start_time": "2024-04-11T09:23:09.434329Z"
    }
   },
   "cell_type": "code",
   "source": [
    "# Load and dissolve the corresponding roof surfaces.\n",
    "surfs = gpd.read_file(\"../annotation/data/tmp/9-284-556.surfs.gpkg\").dissolve()\n",
    "\n",
    "# Remask the background.\n",
    "bg_mask = rasterio.features.geometry_mask(surfs.geometry,\n",
    "                                          out_shape=(stack_height, stack_width),\n",
    "                                          transform=stack_transform)\n",
    "\n",
    "mmap[bg_mask] = 0"
   ],
   "id": "66a996268fd9df7d",
   "execution_count": 8,
   "outputs": []
  },
  {
   "metadata": {
    "ExecuteTime": {
     "end_time": "2024-04-11T09:23:12.022383Z",
     "start_time": "2024-04-11T09:23:11.192290Z"
    }
   },
   "cell_type": "code",
   "source": [
    "# Visualize the stack and map.\n",
    "fig: plt.Figure\n",
    "ax: plt.Axes\n",
    "fig, axs = plt.subplots(2, 1, layout=\"compressed\", sharex=True, sharey=True, figsize=(16, 9))\n",
    "\n",
    "stack_plot = axs[0].imshow(rasterio.plot.reshape_as_image(stack[stack_bbox][\"image\"].numpy() / 255))\n",
    "mmap_plot = axs[1].imshow(mmap, vmin=0, vmax=len(stack.classes), cmap=stack._lc_cmap, interpolation=\"None\")\n",
    "\n",
    "cbar = plt.colorbar(mmap_plot)\n",
    "cbar.set_ticks(np.arange(len(stack.classes)) + 0.5, labels=stack.classes)"
   ],
   "id": "fa33f658bd7bfe7b",
   "execution_count": 9,
   "outputs": []
  }
 ],
 "metadata": {
  "kernelspec": {
   "display_name": "Python 3",
   "language": "python",
   "name": "python3"
  },
  "language_info": {
   "codemirror_mode": {
    "name": "ipython",
    "version": 2
   },
   "file_extension": ".py",
   "mimetype": "text/x-python",
   "name": "python",
   "nbconvert_exporter": "python",
   "pygments_lexer": "ipython2",
   "version": "2.7.6"
  }
 },
 "nbformat": 4,
 "nbformat_minor": 5
}
