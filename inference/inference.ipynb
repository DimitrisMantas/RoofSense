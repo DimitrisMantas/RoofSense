{
 "cells": [
  {
   "metadata": {},
   "cell_type": "markdown",
   "source": "Generate material maps using an existing model checkpoint.",
   "id": "a58898859405bcf9"
  },
  {
   "metadata": {
    "ExecuteTime": {
     "end_time": "2024-05-11T23:15:36.727175Z",
     "start_time": "2024-05-11T23:15:13.679828Z"
    }
   },
   "cell_type": "code",
   "source": [
    "import geopandas as gpd\n",
    "import lightning.pytorch\n",
    "import matplotlib.pyplot as plt\n",
    "import numpy as np\n",
    "import rasterio.features\n",
    "import rasterio.plot\n",
    "import torch.utils.data\n",
    "import torchgeo.datasets\n",
    "import torchgeo.samplers\n",
    "import tqdm\n",
    "\n",
    "import training.datamodule\n",
    "import training.dataset\n",
    "import training.task"
   ],
   "id": "482cc0f46b8d2620",
   "outputs": [],
   "execution_count": 1
  },
  {
   "metadata": {},
   "cell_type": "markdown",
   "source": "### Setup",
   "id": "9c0e51ff804117ca"
  },
  {
   "metadata": {
    "ExecuteTime": {
     "end_time": "2024-05-11T23:15:36.747174Z",
     "start_time": "2024-05-11T23:15:36.729174Z"
    }
   },
   "cell_type": "code",
   "source": [
    "# Enable TF32 support.\n",
    "torch.set_float32_matmul_precision(\"high\")\n",
    "torch.backends.cudnn.allow_tf32 = True\n",
    "\n",
    "# Fix the RNGs.\n",
    "lightning.pytorch.seed_everything(42, workers=True)"
   ],
   "id": "cbd00f0378125a0d",
   "outputs": [
    {
     "name": "stderr",
     "output_type": "stream",
     "text": [
      "Seed set to 42\n"
     ]
    },
    {
     "data": {
      "text/plain": [
       "42"
      ]
     },
     "execution_count": 2,
     "metadata": {},
     "output_type": "execute_result"
    }
   ],
   "execution_count": 2
  },
  {
   "metadata": {},
   "cell_type": "markdown",
   "source": "### Testing",
   "id": "e254a6caab4f6b80"
  },
  {
   "metadata": {
    "ExecuteTime": {
     "end_time": "2024-05-11T23:18:02.496957Z",
     "start_time": "2024-05-11T23:18:00.891028Z"
    }
   },
   "cell_type": "code",
   "source": [
    "# Instantiate the model in inference mode.\n",
    "model = training.task.TrainingTask.load_from_checkpoint(\"../logs/RoofSense/best-v0.ckpt\")\n",
    "# NOTE: This command disables all batch normalization and dropout layers.\n",
    "model.eval()\n",
    "\n",
    "# Instantiate the datamodule.\n",
    "datamodule = training.datamodule.TrainingDataModule(root=\"../dataset/temp\",\n",
    "                                                           batch_size=16,\n",
    "                                                           num_workers=8)\n",
    "\n",
    "# Instantiate the trainer.\n",
    "trainer = lightning.Trainer(benchmark=True)"
   ],
   "id": "633fceffe6b45672",
   "outputs": [
    {
     "name": "stdout",
     "output_type": "stream",
     "text": [
      "weights\n"
     ]
    },
    {
     "name": "stderr",
     "output_type": "stream",
     "text": [
      "GPU available: True (cuda), used: True\n",
      "TPU available: False, using: 0 TPU cores\n",
      "IPU available: False, using: 0 IPUs\n",
      "HPU available: False, using: 0 HPUs\n"
     ]
    }
   ],
   "execution_count": 6
  },
  {
   "metadata": {
    "ExecuteTime": {
     "end_time": "2024-05-11T23:18:39.550665Z",
     "start_time": "2024-05-11T23:18:10.366768Z"
    }
   },
   "cell_type": "code",
   "source": [
    "# Test the model.\n",
    "# FIXME: Do not log the test results.\n",
    "trainer.test(model, datamodule=datamodule)"
   ],
   "id": "7c03de3d727db897",
   "outputs": [
    {
     "name": "stderr",
     "output_type": "stream",
     "text": [
      "LOCAL_RANK: 0 - CUDA_VISIBLE_DEVICES: [0]\n"
     ]
    },
    {
     "data": {
      "text/plain": [
       "Testing: |          | 0/? [00:00<?, ?it/s]"
      ],
      "application/vnd.jupyter.widget-view+json": {
       "version_major": 2,
       "version_minor": 0,
       "model_id": "682b8201fa614922a01001e44c8baec5"
      }
     },
     "metadata": {},
     "output_type": "display_data"
    },
    {
     "data": {
      "text/plain": [
       "┏━━━━━━━━━━━━━━━━━━━━━━━━━━━┳━━━━━━━━━━━━━━━━━━━━━━━━━━━┓\n",
       "┃\u001B[1m \u001B[0m\u001B[1m       Test metric       \u001B[0m\u001B[1m \u001B[0m┃\u001B[1m \u001B[0m\u001B[1m      DataLoader 0       \u001B[0m\u001B[1m \u001B[0m┃\n",
       "┡━━━━━━━━━━━━━━━━━━━━━━━━━━━╇━━━━━━━━━━━━━━━━━━━━━━━━━━━┩\n",
       "│\u001B[36m \u001B[0m\u001B[36m     tst/Accuracy/1      \u001B[0m\u001B[36m \u001B[0m│\u001B[35m \u001B[0m\u001B[35m  0.029239006340503693   \u001B[0m\u001B[35m \u001B[0m│\n",
       "│\u001B[36m \u001B[0m\u001B[36m     tst/Accuracy/2      \u001B[0m\u001B[36m \u001B[0m│\u001B[35m \u001B[0m\u001B[35m           0.0           \u001B[0m\u001B[35m \u001B[0m│\n",
       "│\u001B[36m \u001B[0m\u001B[36m     tst/Accuracy/3      \u001B[0m\u001B[36m \u001B[0m│\u001B[35m \u001B[0m\u001B[35m           0.0           \u001B[0m\u001B[35m \u001B[0m│\n",
       "│\u001B[36m \u001B[0m\u001B[36m     tst/Accuracy/4      \u001B[0m\u001B[36m \u001B[0m│\u001B[35m \u001B[0m\u001B[35m   0.9304760098457336    \u001B[0m\u001B[35m \u001B[0m│\n",
       "│\u001B[36m \u001B[0m\u001B[36m     tst/Accuracy/5      \u001B[0m\u001B[36m \u001B[0m│\u001B[35m \u001B[0m\u001B[35m   0.9928029775619507    \u001B[0m\u001B[35m \u001B[0m│\n",
       "│\u001B[36m \u001B[0m\u001B[36m     tst/Accuracy/6      \u001B[0m\u001B[36m \u001B[0m│\u001B[35m \u001B[0m\u001B[35m    0.630875825881958    \u001B[0m\u001B[35m \u001B[0m│\n",
       "│\u001B[36m \u001B[0m\u001B[36m     tst/Accuracy/7      \u001B[0m\u001B[36m \u001B[0m│\u001B[35m \u001B[0m\u001B[35m   0.9905111789703369    \u001B[0m\u001B[35m \u001B[0m│\n",
       "│\u001B[36m \u001B[0m\u001B[36m     tst/Accuracy/8      \u001B[0m\u001B[36m \u001B[0m│\u001B[35m \u001B[0m\u001B[35m           0.0           \u001B[0m\u001B[35m \u001B[0m│\n",
       "│\u001B[36m \u001B[0m\u001B[36m      tst/F1Score/1      \u001B[0m\u001B[36m \u001B[0m│\u001B[35m \u001B[0m\u001B[35m   0.05625990405678749   \u001B[0m\u001B[35m \u001B[0m│\n",
       "│\u001B[36m \u001B[0m\u001B[36m      tst/F1Score/2      \u001B[0m\u001B[36m \u001B[0m│\u001B[35m \u001B[0m\u001B[35m           0.0           \u001B[0m\u001B[35m \u001B[0m│\n",
       "│\u001B[36m \u001B[0m\u001B[36m      tst/F1Score/3      \u001B[0m\u001B[36m \u001B[0m│\u001B[35m \u001B[0m\u001B[35m           0.0           \u001B[0m\u001B[35m \u001B[0m│\n",
       "│\u001B[36m \u001B[0m\u001B[36m      tst/F1Score/4      \u001B[0m\u001B[36m \u001B[0m│\u001B[35m \u001B[0m\u001B[35m   0.7835902571678162    \u001B[0m\u001B[35m \u001B[0m│\n",
       "│\u001B[36m \u001B[0m\u001B[36m      tst/F1Score/5      \u001B[0m\u001B[36m \u001B[0m│\u001B[35m \u001B[0m\u001B[35m   0.9937304854393005    \u001B[0m\u001B[35m \u001B[0m│\n",
       "│\u001B[36m \u001B[0m\u001B[36m      tst/F1Score/6      \u001B[0m\u001B[36m \u001B[0m│\u001B[35m \u001B[0m\u001B[35m   0.7058420777320862    \u001B[0m\u001B[35m \u001B[0m│\n",
       "│\u001B[36m \u001B[0m\u001B[36m      tst/F1Score/7      \u001B[0m\u001B[36m \u001B[0m│\u001B[35m \u001B[0m\u001B[35m   0.9891720414161682    \u001B[0m\u001B[35m \u001B[0m│\n",
       "│\u001B[36m \u001B[0m\u001B[36m      tst/F1Score/8      \u001B[0m\u001B[36m \u001B[0m│\u001B[35m \u001B[0m\u001B[35m           0.0           \u001B[0m\u001B[35m \u001B[0m│\n",
       "│\u001B[36m \u001B[0m\u001B[36m    tst/MacroAccuracy    \u001B[0m\u001B[36m \u001B[0m│\u001B[35m \u001B[0m\u001B[35m    0.397100567817688    \u001B[0m\u001B[35m \u001B[0m│\n",
       "│\u001B[36m \u001B[0m\u001B[36m    tst/MacroF1Score     \u001B[0m\u001B[36m \u001B[0m│\u001B[35m \u001B[0m\u001B[35m    0.392066091299057    \u001B[0m\u001B[35m \u001B[0m│\n",
       "│\u001B[36m \u001B[0m\u001B[36m    tst/MicroAccuracy    \u001B[0m\u001B[36m \u001B[0m│\u001B[35m \u001B[0m\u001B[35m   0.7430708408355713    \u001B[0m\u001B[35m \u001B[0m│\n",
       "│\u001B[36m \u001B[0m\u001B[36m    tst/MicroF1Score     \u001B[0m\u001B[36m \u001B[0m│\u001B[35m \u001B[0m\u001B[35m   0.7430708408355713    \u001B[0m\u001B[35m \u001B[0m│\n",
       "│\u001B[36m \u001B[0m\u001B[36m        tst/loss         \u001B[0m\u001B[36m \u001B[0m│\u001B[35m \u001B[0m\u001B[35m   1.6668930053710938    \u001B[0m\u001B[35m \u001B[0m│\n",
       "└───────────────────────────┴───────────────────────────┘\n"
      ],
      "text/html": [
       "<pre style=\"white-space:pre;overflow-x:auto;line-height:normal;font-family:Menlo,'DejaVu Sans Mono',consolas,'Courier New',monospace\">┏━━━━━━━━━━━━━━━━━━━━━━━━━━━┳━━━━━━━━━━━━━━━━━━━━━━━━━━━┓\n",
       "┃<span style=\"font-weight: bold\">        Test metric        </span>┃<span style=\"font-weight: bold\">       DataLoader 0        </span>┃\n",
       "┡━━━━━━━━━━━━━━━━━━━━━━━━━━━╇━━━━━━━━━━━━━━━━━━━━━━━━━━━┩\n",
       "│<span style=\"color: #008080; text-decoration-color: #008080\">      tst/Accuracy/1       </span>│<span style=\"color: #800080; text-decoration-color: #800080\">   0.029239006340503693    </span>│\n",
       "│<span style=\"color: #008080; text-decoration-color: #008080\">      tst/Accuracy/2       </span>│<span style=\"color: #800080; text-decoration-color: #800080\">            0.0            </span>│\n",
       "│<span style=\"color: #008080; text-decoration-color: #008080\">      tst/Accuracy/3       </span>│<span style=\"color: #800080; text-decoration-color: #800080\">            0.0            </span>│\n",
       "│<span style=\"color: #008080; text-decoration-color: #008080\">      tst/Accuracy/4       </span>│<span style=\"color: #800080; text-decoration-color: #800080\">    0.9304760098457336     </span>│\n",
       "│<span style=\"color: #008080; text-decoration-color: #008080\">      tst/Accuracy/5       </span>│<span style=\"color: #800080; text-decoration-color: #800080\">    0.9928029775619507     </span>│\n",
       "│<span style=\"color: #008080; text-decoration-color: #008080\">      tst/Accuracy/6       </span>│<span style=\"color: #800080; text-decoration-color: #800080\">     0.630875825881958     </span>│\n",
       "│<span style=\"color: #008080; text-decoration-color: #008080\">      tst/Accuracy/7       </span>│<span style=\"color: #800080; text-decoration-color: #800080\">    0.9905111789703369     </span>│\n",
       "│<span style=\"color: #008080; text-decoration-color: #008080\">      tst/Accuracy/8       </span>│<span style=\"color: #800080; text-decoration-color: #800080\">            0.0            </span>│\n",
       "│<span style=\"color: #008080; text-decoration-color: #008080\">       tst/F1Score/1       </span>│<span style=\"color: #800080; text-decoration-color: #800080\">    0.05625990405678749    </span>│\n",
       "│<span style=\"color: #008080; text-decoration-color: #008080\">       tst/F1Score/2       </span>│<span style=\"color: #800080; text-decoration-color: #800080\">            0.0            </span>│\n",
       "│<span style=\"color: #008080; text-decoration-color: #008080\">       tst/F1Score/3       </span>│<span style=\"color: #800080; text-decoration-color: #800080\">            0.0            </span>│\n",
       "│<span style=\"color: #008080; text-decoration-color: #008080\">       tst/F1Score/4       </span>│<span style=\"color: #800080; text-decoration-color: #800080\">    0.7835902571678162     </span>│\n",
       "│<span style=\"color: #008080; text-decoration-color: #008080\">       tst/F1Score/5       </span>│<span style=\"color: #800080; text-decoration-color: #800080\">    0.9937304854393005     </span>│\n",
       "│<span style=\"color: #008080; text-decoration-color: #008080\">       tst/F1Score/6       </span>│<span style=\"color: #800080; text-decoration-color: #800080\">    0.7058420777320862     </span>│\n",
       "│<span style=\"color: #008080; text-decoration-color: #008080\">       tst/F1Score/7       </span>│<span style=\"color: #800080; text-decoration-color: #800080\">    0.9891720414161682     </span>│\n",
       "│<span style=\"color: #008080; text-decoration-color: #008080\">       tst/F1Score/8       </span>│<span style=\"color: #800080; text-decoration-color: #800080\">            0.0            </span>│\n",
       "│<span style=\"color: #008080; text-decoration-color: #008080\">     tst/MacroAccuracy     </span>│<span style=\"color: #800080; text-decoration-color: #800080\">     0.397100567817688     </span>│\n",
       "│<span style=\"color: #008080; text-decoration-color: #008080\">     tst/MacroF1Score      </span>│<span style=\"color: #800080; text-decoration-color: #800080\">     0.392066091299057     </span>│\n",
       "│<span style=\"color: #008080; text-decoration-color: #008080\">     tst/MicroAccuracy     </span>│<span style=\"color: #800080; text-decoration-color: #800080\">    0.7430708408355713     </span>│\n",
       "│<span style=\"color: #008080; text-decoration-color: #008080\">     tst/MicroF1Score      </span>│<span style=\"color: #800080; text-decoration-color: #800080\">    0.7430708408355713     </span>│\n",
       "│<span style=\"color: #008080; text-decoration-color: #008080\">         tst/loss          </span>│<span style=\"color: #800080; text-decoration-color: #800080\">    1.6668930053710938     </span>│\n",
       "└───────────────────────────┴───────────────────────────┘\n",
       "</pre>\n"
      ]
     },
     "metadata": {},
     "output_type": "display_data"
    },
    {
     "data": {
      "text/plain": [
       "[{'tst/loss': 1.6668930053710938,\n",
       "  'tst/MacroAccuracy': 0.397100567817688,\n",
       "  'tst/MacroF1Score': 0.392066091299057,\n",
       "  'tst/MicroAccuracy': 0.7430708408355713,\n",
       "  'tst/MicroF1Score': 0.7430708408355713,\n",
       "  'tst/Accuracy/1': 0.029239006340503693,\n",
       "  'tst/Accuracy/2': 0.0,\n",
       "  'tst/Accuracy/3': 0.0,\n",
       "  'tst/Accuracy/4': 0.9304760098457336,\n",
       "  'tst/Accuracy/5': 0.9928029775619507,\n",
       "  'tst/Accuracy/6': 0.630875825881958,\n",
       "  'tst/Accuracy/7': 0.9905111789703369,\n",
       "  'tst/Accuracy/8': 0.0,\n",
       "  'tst/F1Score/1': 0.05625990405678749,\n",
       "  'tst/F1Score/2': 0.0,\n",
       "  'tst/F1Score/3': 0.0,\n",
       "  'tst/F1Score/4': 0.7835902571678162,\n",
       "  'tst/F1Score/5': 0.9937304854393005,\n",
       "  'tst/F1Score/6': 0.7058420777320862,\n",
       "  'tst/F1Score/7': 0.9891720414161682,\n",
       "  'tst/F1Score/8': 0.0}]"
      ]
     },
     "execution_count": 7,
     "metadata": {},
     "output_type": "execute_result"
    }
   ],
   "execution_count": 7
  }
 ],
 "metadata": {
  "kernelspec": {
   "display_name": "Python 3",
   "language": "python",
   "name": "python3"
  },
  "language_info": {
   "codemirror_mode": {
    "name": "ipython",
    "version": 2
   },
   "file_extension": ".py",
   "mimetype": "text/x-python",
   "name": "python",
   "nbconvert_exporter": "python",
   "pygments_lexer": "ipython2",
   "version": "2.7.6"
  }
 },
 "nbformat": 4,
 "nbformat_minor": 5
}
