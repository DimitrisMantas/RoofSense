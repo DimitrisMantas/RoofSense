{
 "cells": [
  {
   "cell_type": "code",
   "execution_count": 1,
   "id": "initial_id",
   "metadata": {
    "ExecuteTime": {
     "end_time": "2025-03-28T15:17:01.631586Z",
     "start_time": "2025-03-28T15:16:32.112375Z"
    },
    "collapsed": true
   },
   "outputs": [
    {
     "name": "stderr",
     "output_type": "stream",
     "text": [
      "C:\\Documents\\RoofSense\\venv\\Lib\\site-packages\\tqdm\\auto.py:21: TqdmWarning: IProgress not found. Please update jupyter and ipywidgets. See https://ipywidgets.readthedocs.io/en/stable/user_install.html\n",
      "  from .autonotebook import tqdm as notebook_tqdm\n",
      "INFO:albumentations.check_version:A new version of Albumentations is available: 2.0.5 (you have 1.4.10). Upgrade using: pip install --upgrade albumentations\n"
     ]
    }
   ],
   "source": [
    "import os\n",
    "\n",
    "import lightning\n",
    "import optuna\n",
    "import torch\n",
    "from lightning import Trainer\n",
    "from lightning.pytorch.loggers import TensorBoardLogger\n",
    "from terratorch.tasks.tiled_inference import TiledInferenceParameters\n",
    "\n",
    "from implementation.training.utils import (\n",
    "    TrainingTaskHyperparameterTuningConfig,\n",
    "    create_model,\n",
    ")\n",
    "from roofsense.bag3d import BAG3DTileStore\n",
    "from roofsense.inference.tile import TiledInferenceEngine\n",
    "from roofsense.training.datamodule import TrainingDataModule\n",
    "from roofsense.training.task import TrainingTask"
   ]
  },
  {
   "cell_type": "code",
   "execution_count": 2,
   "id": "15055c8d4e2d24e5",
   "metadata": {
    "ExecuteTime": {
     "end_time": "2025-03-28T15:17:02.024125Z",
     "start_time": "2025-03-28T15:17:01.636597Z"
    }
   },
   "outputs": [],
   "source": [
    "study_name = \"optim\"\n",
    "optim_log_dirpath = os.path.join(r\"C:\\Documents\\RoofSense\\logs\\3dgeoinfo\", study_name)\n",
    "\n",
    "study = optuna.load_study(\n",
    "    study_name=\"optim\", storage=f\"sqlite:///{optim_log_dirpath}/storage.db\"\n",
    ")\n",
    "\n",
    "best_params = study.best_params\n",
    "# Convert parameter format.\n",
    "for param in [\"lab\", \"tgi\"]:\n",
    "    best_params[f\"append_{param}\"] = best_params.pop(param)\n",
    "\n",
    "config = TrainingTaskHyperparameterTuningConfig(\n",
    "    # Add constant settings.\n",
    "    # Encoder\n",
    "    encoder=\"tu-resnet18d\",\n",
    "    zero_init_last=True,\n",
    "    # Loss\n",
    "    label_smoothing=0.1,\n",
    "    # Optimizer\n",
    "    optimizer=\"AdamW\",\n",
    "    # LR Scheduler\n",
    "    lr_scheduler=\"CosineAnnealingLR\",\n",
    "    **best_params,\n",
    ")"
   ]
  },
  {
   "cell_type": "code",
   "execution_count": 3,
   "id": "62d7525f17b53ae5",
   "metadata": {
    "ExecuteTime": {
     "end_time": "2025-03-28T15:17:22.934039Z",
     "start_time": "2025-03-28T15:17:02.084142Z"
    }
   },
   "outputs": [
    {
     "name": "stderr",
     "output_type": "stream",
     "text": [
      "Seed set to 0\n",
      "INFO:timm.models._builder:Loading pretrained weights from Hugging Face hub (timm/resnet18d.ra2_in1k)\n",
      "INFO:timm.models._hub:[timm/resnet18d.ra2_in1k] Safe alternative available for 'pytorch_model.bin' (as 'model.safetensors'). Loading weights using safetensors.\n",
      "INFO:timm.models._builder:Converted input conv conv1.0 pretrained weights from 3 to 10 channel(s)\n",
      "GPU available: True (cuda), used: True\n",
      "TPU available: False, using: 0 TPU cores\n",
      "HPU available: False, using: 0 HPUs\n",
      "LOCAL_RANK: 0 - CUDA_VISIBLE_DEVICES: [0]\n"
     ]
    },
    {
     "name": "stdout",
     "output_type": "stream",
     "text": [
      "Testing DataLoader 0: 100%|██████████| 6/6 [00:05<00:00,  1.01it/s]\n"
     ]
    },
    {
     "data": {
      "text/html": [
       "<pre style=\"white-space:pre;overflow-x:auto;line-height:normal;font-family:Menlo,'DejaVu Sans Mono',consolas,'Courier New',monospace\">┏━━━━━━━━━━━━━━━━━━━━━━━━━━━┳━━━━━━━━━━━━━━━━━━━━━━━━━━━┓\n",
       "┃<span style=\"font-weight: bold\">        Test metric        </span>┃<span style=\"font-weight: bold\">       DataLoader 0        </span>┃\n",
       "┡━━━━━━━━━━━━━━━━━━━━━━━━━━━╇━━━━━━━━━━━━━━━━━━━━━━━━━━━┩\n",
       "│<span style=\"color: #008080; text-decoration-color: #008080\">       tst/Accuracy0       </span>│<span style=\"color: #800080; text-decoration-color: #800080\">            0.0            </span>│\n",
       "│<span style=\"color: #008080; text-decoration-color: #008080\">       tst/Accuracy1       </span>│<span style=\"color: #800080; text-decoration-color: #800080\">    0.9483334422111511     </span>│\n",
       "│<span style=\"color: #008080; text-decoration-color: #008080\">       tst/Accuracy2       </span>│<span style=\"color: #800080; text-decoration-color: #800080\">    0.8826488256454468     </span>│\n",
       "│<span style=\"color: #008080; text-decoration-color: #008080\">       tst/Accuracy3       </span>│<span style=\"color: #800080; text-decoration-color: #800080\">    0.9835857152938843     </span>│\n",
       "│<span style=\"color: #008080; text-decoration-color: #008080\">       tst/Accuracy4       </span>│<span style=\"color: #800080; text-decoration-color: #800080\">     0.92097008228302      </span>│\n",
       "│<span style=\"color: #008080; text-decoration-color: #008080\">       tst/Accuracy5       </span>│<span style=\"color: #800080; text-decoration-color: #800080\">    0.5459764003753662     </span>│\n",
       "│<span style=\"color: #008080; text-decoration-color: #008080\">       tst/Accuracy6       </span>│<span style=\"color: #800080; text-decoration-color: #800080\">    0.9796044230461121     </span>│\n",
       "│<span style=\"color: #008080; text-decoration-color: #008080\">       tst/Accuracy7       </span>│<span style=\"color: #800080; text-decoration-color: #800080\">    0.7573438286781311     </span>│\n",
       "│<span style=\"color: #008080; text-decoration-color: #008080\">       tst/Accuracy8       </span>│<span style=\"color: #800080; text-decoration-color: #800080\">    0.7807404398918152     </span>│\n",
       "│<span style=\"color: #008080; text-decoration-color: #008080\">       tst/F1Score0        </span>│<span style=\"color: #800080; text-decoration-color: #800080\">            0.0            </span>│\n",
       "│<span style=\"color: #008080; text-decoration-color: #008080\">       tst/F1Score1        </span>│<span style=\"color: #800080; text-decoration-color: #800080\">     0.92611163854599      </span>│\n",
       "│<span style=\"color: #008080; text-decoration-color: #008080\">       tst/F1Score2        </span>│<span style=\"color: #800080; text-decoration-color: #800080\">    0.9207127690315247     </span>│\n",
       "│<span style=\"color: #008080; text-decoration-color: #008080\">       tst/F1Score3        </span>│<span style=\"color: #800080; text-decoration-color: #800080\">     0.959421694278717     </span>│\n",
       "│<span style=\"color: #008080; text-decoration-color: #008080\">       tst/F1Score4        </span>│<span style=\"color: #800080; text-decoration-color: #800080\">     0.928403377532959     </span>│\n",
       "│<span style=\"color: #008080; text-decoration-color: #008080\">       tst/F1Score5        </span>│<span style=\"color: #800080; text-decoration-color: #800080\">    0.5604041218757629     </span>│\n",
       "│<span style=\"color: #008080; text-decoration-color: #008080\">       tst/F1Score6        </span>│<span style=\"color: #800080; text-decoration-color: #800080\">    0.9317227005958557     </span>│\n",
       "│<span style=\"color: #008080; text-decoration-color: #008080\">       tst/F1Score7        </span>│<span style=\"color: #800080; text-decoration-color: #800080\">    0.7900195717811584     </span>│\n",
       "│<span style=\"color: #008080; text-decoration-color: #008080\">       tst/F1Score8        </span>│<span style=\"color: #800080; text-decoration-color: #800080\">    0.7189390659332275     </span>│\n",
       "│<span style=\"color: #008080; text-decoration-color: #008080\">     tst/JaccardIndex0     </span>│<span style=\"color: #800080; text-decoration-color: #800080\">            0.0            </span>│\n",
       "│<span style=\"color: #008080; text-decoration-color: #008080\">     tst/JaccardIndex1     </span>│<span style=\"color: #800080; text-decoration-color: #800080\">    0.8623909950256348     </span>│\n",
       "│<span style=\"color: #008080; text-decoration-color: #008080\">     tst/JaccardIndex2     </span>│<span style=\"color: #800080; text-decoration-color: #800080\">    0.8530747890472412     </span>│\n",
       "│<span style=\"color: #008080; text-decoration-color: #008080\">     tst/JaccardIndex3     </span>│<span style=\"color: #800080; text-decoration-color: #800080\">    0.9220080971717834     </span>│\n",
       "│<span style=\"color: #008080; text-decoration-color: #008080\">     tst/JaccardIndex4     </span>│<span style=\"color: #800080; text-decoration-color: #800080\">    0.8663738965988159     </span>│\n",
       "│<span style=\"color: #008080; text-decoration-color: #008080\">     tst/JaccardIndex5     </span>│<span style=\"color: #800080; text-decoration-color: #800080\">     0.389278769493103     </span>│\n",
       "│<span style=\"color: #008080; text-decoration-color: #008080\">     tst/JaccardIndex6     </span>│<span style=\"color: #800080; text-decoration-color: #800080\">    0.8721730709075928     </span>│\n",
       "│<span style=\"color: #008080; text-decoration-color: #008080\">     tst/JaccardIndex7     </span>│<span style=\"color: #800080; text-decoration-color: #800080\">    0.6529192924499512     </span>│\n",
       "│<span style=\"color: #008080; text-decoration-color: #008080\">     tst/JaccardIndex8     </span>│<span style=\"color: #800080; text-decoration-color: #800080\">    0.5612059831619263     </span>│\n",
       "│<span style=\"color: #008080; text-decoration-color: #008080\">         tst/Loss          </span>│<span style=\"color: #800080; text-decoration-color: #800080\">     2.000236749649048     </span>│\n",
       "│<span style=\"color: #008080; text-decoration-color: #008080\">     tst/MacroAccuracy     </span>│<span style=\"color: #800080; text-decoration-color: #800080\">    0.8499003648757935     </span>│\n",
       "│<span style=\"color: #008080; text-decoration-color: #008080\">     tst/MacroF1Score      </span>│<span style=\"color: #800080; text-decoration-color: #800080\">    0.8419668674468994     </span>│\n",
       "│<span style=\"color: #008080; text-decoration-color: #008080\">   tst/MacroJaccardIndex   </span>│<span style=\"color: #800080; text-decoration-color: #800080\">    0.7474281191825867     </span>│\n",
       "│<span style=\"color: #008080; text-decoration-color: #008080\">    tst/MacroPrecision     </span>│<span style=\"color: #800080; text-decoration-color: #800080\">    0.8369067311286926     </span>│\n",
       "│<span style=\"color: #008080; text-decoration-color: #008080\">      tst/MacroRecall      </span>│<span style=\"color: #800080; text-decoration-color: #800080\">    0.8499003648757935     </span>│\n",
       "│<span style=\"color: #008080; text-decoration-color: #008080\">     tst/MicroAccuracy     </span>│<span style=\"color: #800080; text-decoration-color: #800080\">    0.9113106727600098     </span>│\n",
       "│<span style=\"color: #008080; text-decoration-color: #008080\">     tst/MicroF1Score      </span>│<span style=\"color: #800080; text-decoration-color: #800080\">    0.9113106727600098     </span>│\n",
       "│<span style=\"color: #008080; text-decoration-color: #008080\">   tst/MicroJaccardIndex   </span>│<span style=\"color: #800080; text-decoration-color: #800080\">    0.8371540307998657     </span>│\n",
       "│<span style=\"color: #008080; text-decoration-color: #008080\">    tst/MicroPrecision     </span>│<span style=\"color: #800080; text-decoration-color: #800080\">    0.9113106727600098     </span>│\n",
       "│<span style=\"color: #008080; text-decoration-color: #008080\">      tst/MicroRecall      </span>│<span style=\"color: #800080; text-decoration-color: #800080\">    0.9113106727600098     </span>│\n",
       "│<span style=\"color: #008080; text-decoration-color: #008080\">      tst/Precision0       </span>│<span style=\"color: #800080; text-decoration-color: #800080\">            0.0            </span>│\n",
       "│<span style=\"color: #008080; text-decoration-color: #008080\">      tst/Precision1       </span>│<span style=\"color: #800080; text-decoration-color: #800080\">    0.9049074649810791     </span>│\n",
       "│<span style=\"color: #008080; text-decoration-color: #008080\">      tst/Precision2       </span>│<span style=\"color: #800080; text-decoration-color: #800080\">    0.9622076153755188     </span>│\n",
       "│<span style=\"color: #008080; text-decoration-color: #008080\">      tst/Precision3       </span>│<span style=\"color: #800080; text-decoration-color: #800080\">    0.9364164471626282     </span>│\n",
       "│<span style=\"color: #008080; text-decoration-color: #008080\">      tst/Precision4       </span>│<span style=\"color: #800080; text-decoration-color: #800080\">    0.9359576106071472     </span>│\n",
       "│<span style=\"color: #008080; text-decoration-color: #008080\">      tst/Precision5       </span>│<span style=\"color: #800080; text-decoration-color: #800080\">    0.5756150484085083     </span>│\n",
       "│<span style=\"color: #008080; text-decoration-color: #008080\">      tst/Precision6       </span>│<span style=\"color: #800080; text-decoration-color: #800080\">    0.8883035778999329     </span>│\n",
       "│<span style=\"color: #008080; text-decoration-color: #008080\">      tst/Precision7       </span>│<span style=\"color: #800080; text-decoration-color: #800080\">    0.8256420493125916     </span>│\n",
       "│<span style=\"color: #008080; text-decoration-color: #008080\">      tst/Precision8       </span>│<span style=\"color: #800080; text-decoration-color: #800080\">    0.6662040948867798     </span>│\n",
       "│<span style=\"color: #008080; text-decoration-color: #008080\">        tst/Recall0        </span>│<span style=\"color: #800080; text-decoration-color: #800080\">            0.0            </span>│\n",
       "│<span style=\"color: #008080; text-decoration-color: #008080\">        tst/Recall1        </span>│<span style=\"color: #800080; text-decoration-color: #800080\">    0.9483334422111511     </span>│\n",
       "│<span style=\"color: #008080; text-decoration-color: #008080\">        tst/Recall2        </span>│<span style=\"color: #800080; text-decoration-color: #800080\">    0.8826488256454468     </span>│\n",
       "│<span style=\"color: #008080; text-decoration-color: #008080\">        tst/Recall3        </span>│<span style=\"color: #800080; text-decoration-color: #800080\">    0.9835857152938843     </span>│\n",
       "│<span style=\"color: #008080; text-decoration-color: #008080\">        tst/Recall4        </span>│<span style=\"color: #800080; text-decoration-color: #800080\">     0.92097008228302      </span>│\n",
       "│<span style=\"color: #008080; text-decoration-color: #008080\">        tst/Recall5        </span>│<span style=\"color: #800080; text-decoration-color: #800080\">    0.5459764003753662     </span>│\n",
       "│<span style=\"color: #008080; text-decoration-color: #008080\">        tst/Recall6        </span>│<span style=\"color: #800080; text-decoration-color: #800080\">    0.9796044230461121     </span>│\n",
       "│<span style=\"color: #008080; text-decoration-color: #008080\">        tst/Recall7        </span>│<span style=\"color: #800080; text-decoration-color: #800080\">    0.7573438286781311     </span>│\n",
       "│<span style=\"color: #008080; text-decoration-color: #008080\">        tst/Recall8        </span>│<span style=\"color: #800080; text-decoration-color: #800080\">    0.7807404398918152     </span>│\n",
       "└───────────────────────────┴───────────────────────────┘\n",
       "</pre>\n"
      ],
      "text/plain": [
       "┏━━━━━━━━━━━━━━━━━━━━━━━━━━━┳━━━━━━━━━━━━━━━━━━━━━━━━━━━┓\n",
       "┃\u001b[1m \u001b[0m\u001b[1m       Test metric       \u001b[0m\u001b[1m \u001b[0m┃\u001b[1m \u001b[0m\u001b[1m      DataLoader 0       \u001b[0m\u001b[1m \u001b[0m┃\n",
       "┡━━━━━━━━━━━━━━━━━━━━━━━━━━━╇━━━━━━━━━━━━━━━━━━━━━━━━━━━┩\n",
       "│\u001b[36m \u001b[0m\u001b[36m      tst/Accuracy0      \u001b[0m\u001b[36m \u001b[0m│\u001b[35m \u001b[0m\u001b[35m           0.0           \u001b[0m\u001b[35m \u001b[0m│\n",
       "│\u001b[36m \u001b[0m\u001b[36m      tst/Accuracy1      \u001b[0m\u001b[36m \u001b[0m│\u001b[35m \u001b[0m\u001b[35m   0.9483334422111511    \u001b[0m\u001b[35m \u001b[0m│\n",
       "│\u001b[36m \u001b[0m\u001b[36m      tst/Accuracy2      \u001b[0m\u001b[36m \u001b[0m│\u001b[35m \u001b[0m\u001b[35m   0.8826488256454468    \u001b[0m\u001b[35m \u001b[0m│\n",
       "│\u001b[36m \u001b[0m\u001b[36m      tst/Accuracy3      \u001b[0m\u001b[36m \u001b[0m│\u001b[35m \u001b[0m\u001b[35m   0.9835857152938843    \u001b[0m\u001b[35m \u001b[0m│\n",
       "│\u001b[36m \u001b[0m\u001b[36m      tst/Accuracy4      \u001b[0m\u001b[36m \u001b[0m│\u001b[35m \u001b[0m\u001b[35m    0.92097008228302     \u001b[0m\u001b[35m \u001b[0m│\n",
       "│\u001b[36m \u001b[0m\u001b[36m      tst/Accuracy5      \u001b[0m\u001b[36m \u001b[0m│\u001b[35m \u001b[0m\u001b[35m   0.5459764003753662    \u001b[0m\u001b[35m \u001b[0m│\n",
       "│\u001b[36m \u001b[0m\u001b[36m      tst/Accuracy6      \u001b[0m\u001b[36m \u001b[0m│\u001b[35m \u001b[0m\u001b[35m   0.9796044230461121    \u001b[0m\u001b[35m \u001b[0m│\n",
       "│\u001b[36m \u001b[0m\u001b[36m      tst/Accuracy7      \u001b[0m\u001b[36m \u001b[0m│\u001b[35m \u001b[0m\u001b[35m   0.7573438286781311    \u001b[0m\u001b[35m \u001b[0m│\n",
       "│\u001b[36m \u001b[0m\u001b[36m      tst/Accuracy8      \u001b[0m\u001b[36m \u001b[0m│\u001b[35m \u001b[0m\u001b[35m   0.7807404398918152    \u001b[0m\u001b[35m \u001b[0m│\n",
       "│\u001b[36m \u001b[0m\u001b[36m      tst/F1Score0       \u001b[0m\u001b[36m \u001b[0m│\u001b[35m \u001b[0m\u001b[35m           0.0           \u001b[0m\u001b[35m \u001b[0m│\n",
       "│\u001b[36m \u001b[0m\u001b[36m      tst/F1Score1       \u001b[0m\u001b[36m \u001b[0m│\u001b[35m \u001b[0m\u001b[35m    0.92611163854599     \u001b[0m\u001b[35m \u001b[0m│\n",
       "│\u001b[36m \u001b[0m\u001b[36m      tst/F1Score2       \u001b[0m\u001b[36m \u001b[0m│\u001b[35m \u001b[0m\u001b[35m   0.9207127690315247    \u001b[0m\u001b[35m \u001b[0m│\n",
       "│\u001b[36m \u001b[0m\u001b[36m      tst/F1Score3       \u001b[0m\u001b[36m \u001b[0m│\u001b[35m \u001b[0m\u001b[35m    0.959421694278717    \u001b[0m\u001b[35m \u001b[0m│\n",
       "│\u001b[36m \u001b[0m\u001b[36m      tst/F1Score4       \u001b[0m\u001b[36m \u001b[0m│\u001b[35m \u001b[0m\u001b[35m    0.928403377532959    \u001b[0m\u001b[35m \u001b[0m│\n",
       "│\u001b[36m \u001b[0m\u001b[36m      tst/F1Score5       \u001b[0m\u001b[36m \u001b[0m│\u001b[35m \u001b[0m\u001b[35m   0.5604041218757629    \u001b[0m\u001b[35m \u001b[0m│\n",
       "│\u001b[36m \u001b[0m\u001b[36m      tst/F1Score6       \u001b[0m\u001b[36m \u001b[0m│\u001b[35m \u001b[0m\u001b[35m   0.9317227005958557    \u001b[0m\u001b[35m \u001b[0m│\n",
       "│\u001b[36m \u001b[0m\u001b[36m      tst/F1Score7       \u001b[0m\u001b[36m \u001b[0m│\u001b[35m \u001b[0m\u001b[35m   0.7900195717811584    \u001b[0m\u001b[35m \u001b[0m│\n",
       "│\u001b[36m \u001b[0m\u001b[36m      tst/F1Score8       \u001b[0m\u001b[36m \u001b[0m│\u001b[35m \u001b[0m\u001b[35m   0.7189390659332275    \u001b[0m\u001b[35m \u001b[0m│\n",
       "│\u001b[36m \u001b[0m\u001b[36m    tst/JaccardIndex0    \u001b[0m\u001b[36m \u001b[0m│\u001b[35m \u001b[0m\u001b[35m           0.0           \u001b[0m\u001b[35m \u001b[0m│\n",
       "│\u001b[36m \u001b[0m\u001b[36m    tst/JaccardIndex1    \u001b[0m\u001b[36m \u001b[0m│\u001b[35m \u001b[0m\u001b[35m   0.8623909950256348    \u001b[0m\u001b[35m \u001b[0m│\n",
       "│\u001b[36m \u001b[0m\u001b[36m    tst/JaccardIndex2    \u001b[0m\u001b[36m \u001b[0m│\u001b[35m \u001b[0m\u001b[35m   0.8530747890472412    \u001b[0m\u001b[35m \u001b[0m│\n",
       "│\u001b[36m \u001b[0m\u001b[36m    tst/JaccardIndex3    \u001b[0m\u001b[36m \u001b[0m│\u001b[35m \u001b[0m\u001b[35m   0.9220080971717834    \u001b[0m\u001b[35m \u001b[0m│\n",
       "│\u001b[36m \u001b[0m\u001b[36m    tst/JaccardIndex4    \u001b[0m\u001b[36m \u001b[0m│\u001b[35m \u001b[0m\u001b[35m   0.8663738965988159    \u001b[0m\u001b[35m \u001b[0m│\n",
       "│\u001b[36m \u001b[0m\u001b[36m    tst/JaccardIndex5    \u001b[0m\u001b[36m \u001b[0m│\u001b[35m \u001b[0m\u001b[35m    0.389278769493103    \u001b[0m\u001b[35m \u001b[0m│\n",
       "│\u001b[36m \u001b[0m\u001b[36m    tst/JaccardIndex6    \u001b[0m\u001b[36m \u001b[0m│\u001b[35m \u001b[0m\u001b[35m   0.8721730709075928    \u001b[0m\u001b[35m \u001b[0m│\n",
       "│\u001b[36m \u001b[0m\u001b[36m    tst/JaccardIndex7    \u001b[0m\u001b[36m \u001b[0m│\u001b[35m \u001b[0m\u001b[35m   0.6529192924499512    \u001b[0m\u001b[35m \u001b[0m│\n",
       "│\u001b[36m \u001b[0m\u001b[36m    tst/JaccardIndex8    \u001b[0m\u001b[36m \u001b[0m│\u001b[35m \u001b[0m\u001b[35m   0.5612059831619263    \u001b[0m\u001b[35m \u001b[0m│\n",
       "│\u001b[36m \u001b[0m\u001b[36m        tst/Loss         \u001b[0m\u001b[36m \u001b[0m│\u001b[35m \u001b[0m\u001b[35m    2.000236749649048    \u001b[0m\u001b[35m \u001b[0m│\n",
       "│\u001b[36m \u001b[0m\u001b[36m    tst/MacroAccuracy    \u001b[0m\u001b[36m \u001b[0m│\u001b[35m \u001b[0m\u001b[35m   0.8499003648757935    \u001b[0m\u001b[35m \u001b[0m│\n",
       "│\u001b[36m \u001b[0m\u001b[36m    tst/MacroF1Score     \u001b[0m\u001b[36m \u001b[0m│\u001b[35m \u001b[0m\u001b[35m   0.8419668674468994    \u001b[0m\u001b[35m \u001b[0m│\n",
       "│\u001b[36m \u001b[0m\u001b[36m  tst/MacroJaccardIndex  \u001b[0m\u001b[36m \u001b[0m│\u001b[35m \u001b[0m\u001b[35m   0.7474281191825867    \u001b[0m\u001b[35m \u001b[0m│\n",
       "│\u001b[36m \u001b[0m\u001b[36m   tst/MacroPrecision    \u001b[0m\u001b[36m \u001b[0m│\u001b[35m \u001b[0m\u001b[35m   0.8369067311286926    \u001b[0m\u001b[35m \u001b[0m│\n",
       "│\u001b[36m \u001b[0m\u001b[36m     tst/MacroRecall     \u001b[0m\u001b[36m \u001b[0m│\u001b[35m \u001b[0m\u001b[35m   0.8499003648757935    \u001b[0m\u001b[35m \u001b[0m│\n",
       "│\u001b[36m \u001b[0m\u001b[36m    tst/MicroAccuracy    \u001b[0m\u001b[36m \u001b[0m│\u001b[35m \u001b[0m\u001b[35m   0.9113106727600098    \u001b[0m\u001b[35m \u001b[0m│\n",
       "│\u001b[36m \u001b[0m\u001b[36m    tst/MicroF1Score     \u001b[0m\u001b[36m \u001b[0m│\u001b[35m \u001b[0m\u001b[35m   0.9113106727600098    \u001b[0m\u001b[35m \u001b[0m│\n",
       "│\u001b[36m \u001b[0m\u001b[36m  tst/MicroJaccardIndex  \u001b[0m\u001b[36m \u001b[0m│\u001b[35m \u001b[0m\u001b[35m   0.8371540307998657    \u001b[0m\u001b[35m \u001b[0m│\n",
       "│\u001b[36m \u001b[0m\u001b[36m   tst/MicroPrecision    \u001b[0m\u001b[36m \u001b[0m│\u001b[35m \u001b[0m\u001b[35m   0.9113106727600098    \u001b[0m\u001b[35m \u001b[0m│\n",
       "│\u001b[36m \u001b[0m\u001b[36m     tst/MicroRecall     \u001b[0m\u001b[36m \u001b[0m│\u001b[35m \u001b[0m\u001b[35m   0.9113106727600098    \u001b[0m\u001b[35m \u001b[0m│\n",
       "│\u001b[36m \u001b[0m\u001b[36m     tst/Precision0      \u001b[0m\u001b[36m \u001b[0m│\u001b[35m \u001b[0m\u001b[35m           0.0           \u001b[0m\u001b[35m \u001b[0m│\n",
       "│\u001b[36m \u001b[0m\u001b[36m     tst/Precision1      \u001b[0m\u001b[36m \u001b[0m│\u001b[35m \u001b[0m\u001b[35m   0.9049074649810791    \u001b[0m\u001b[35m \u001b[0m│\n",
       "│\u001b[36m \u001b[0m\u001b[36m     tst/Precision2      \u001b[0m\u001b[36m \u001b[0m│\u001b[35m \u001b[0m\u001b[35m   0.9622076153755188    \u001b[0m\u001b[35m \u001b[0m│\n",
       "│\u001b[36m \u001b[0m\u001b[36m     tst/Precision3      \u001b[0m\u001b[36m \u001b[0m│\u001b[35m \u001b[0m\u001b[35m   0.9364164471626282    \u001b[0m\u001b[35m \u001b[0m│\n",
       "│\u001b[36m \u001b[0m\u001b[36m     tst/Precision4      \u001b[0m\u001b[36m \u001b[0m│\u001b[35m \u001b[0m\u001b[35m   0.9359576106071472    \u001b[0m\u001b[35m \u001b[0m│\n",
       "│\u001b[36m \u001b[0m\u001b[36m     tst/Precision5      \u001b[0m\u001b[36m \u001b[0m│\u001b[35m \u001b[0m\u001b[35m   0.5756150484085083    \u001b[0m\u001b[35m \u001b[0m│\n",
       "│\u001b[36m \u001b[0m\u001b[36m     tst/Precision6      \u001b[0m\u001b[36m \u001b[0m│\u001b[35m \u001b[0m\u001b[35m   0.8883035778999329    \u001b[0m\u001b[35m \u001b[0m│\n",
       "│\u001b[36m \u001b[0m\u001b[36m     tst/Precision7      \u001b[0m\u001b[36m \u001b[0m│\u001b[35m \u001b[0m\u001b[35m   0.8256420493125916    \u001b[0m\u001b[35m \u001b[0m│\n",
       "│\u001b[36m \u001b[0m\u001b[36m     tst/Precision8      \u001b[0m\u001b[36m \u001b[0m│\u001b[35m \u001b[0m\u001b[35m   0.6662040948867798    \u001b[0m\u001b[35m \u001b[0m│\n",
       "│\u001b[36m \u001b[0m\u001b[36m       tst/Recall0       \u001b[0m\u001b[36m \u001b[0m│\u001b[35m \u001b[0m\u001b[35m           0.0           \u001b[0m\u001b[35m \u001b[0m│\n",
       "│\u001b[36m \u001b[0m\u001b[36m       tst/Recall1       \u001b[0m\u001b[36m \u001b[0m│\u001b[35m \u001b[0m\u001b[35m   0.9483334422111511    \u001b[0m\u001b[35m \u001b[0m│\n",
       "│\u001b[36m \u001b[0m\u001b[36m       tst/Recall2       \u001b[0m\u001b[36m \u001b[0m│\u001b[35m \u001b[0m\u001b[35m   0.8826488256454468    \u001b[0m\u001b[35m \u001b[0m│\n",
       "│\u001b[36m \u001b[0m\u001b[36m       tst/Recall3       \u001b[0m\u001b[36m \u001b[0m│\u001b[35m \u001b[0m\u001b[35m   0.9835857152938843    \u001b[0m\u001b[35m \u001b[0m│\n",
       "│\u001b[36m \u001b[0m\u001b[36m       tst/Recall4       \u001b[0m\u001b[36m \u001b[0m│\u001b[35m \u001b[0m\u001b[35m    0.92097008228302     \u001b[0m\u001b[35m \u001b[0m│\n",
       "│\u001b[36m \u001b[0m\u001b[36m       tst/Recall5       \u001b[0m\u001b[36m \u001b[0m│\u001b[35m \u001b[0m\u001b[35m   0.5459764003753662    \u001b[0m\u001b[35m \u001b[0m│\n",
       "│\u001b[36m \u001b[0m\u001b[36m       tst/Recall6       \u001b[0m\u001b[36m \u001b[0m│\u001b[35m \u001b[0m\u001b[35m   0.9796044230461121    \u001b[0m\u001b[35m \u001b[0m│\n",
       "│\u001b[36m \u001b[0m\u001b[36m       tst/Recall7       \u001b[0m\u001b[36m \u001b[0m│\u001b[35m \u001b[0m\u001b[35m   0.7573438286781311    \u001b[0m\u001b[35m \u001b[0m│\n",
       "│\u001b[36m \u001b[0m\u001b[36m       tst/Recall8       \u001b[0m\u001b[36m \u001b[0m│\u001b[35m \u001b[0m\u001b[35m   0.7807404398918152    \u001b[0m\u001b[35m \u001b[0m│\n",
       "└───────────────────────────┴───────────────────────────┘\n"
      ]
     },
     "metadata": {},
     "output_type": "display_data"
    },
    {
     "data": {
      "text/plain": [
       "[{'tst/Loss': 2.000236749649048,\n",
       "  'tst/MacroAccuracy': 0.8499003648757935,\n",
       "  'tst/MacroF1Score': 0.8419668674468994,\n",
       "  'tst/MacroJaccardIndex': 0.7474281191825867,\n",
       "  'tst/MacroPrecision': 0.8369067311286926,\n",
       "  'tst/MacroRecall': 0.8499003648757935,\n",
       "  'tst/MicroAccuracy': 0.9113106727600098,\n",
       "  'tst/MicroF1Score': 0.9113106727600098,\n",
       "  'tst/MicroJaccardIndex': 0.8371540307998657,\n",
       "  'tst/MicroPrecision': 0.9113106727600098,\n",
       "  'tst/MicroRecall': 0.9113106727600098,\n",
       "  'tst/Accuracy0': 0.0,\n",
       "  'tst/Accuracy1': 0.9483334422111511,\n",
       "  'tst/Accuracy2': 0.8826488256454468,\n",
       "  'tst/Accuracy3': 0.9835857152938843,\n",
       "  'tst/Accuracy4': 0.92097008228302,\n",
       "  'tst/Accuracy5': 0.5459764003753662,\n",
       "  'tst/Accuracy6': 0.9796044230461121,\n",
       "  'tst/Accuracy7': 0.7573438286781311,\n",
       "  'tst/Accuracy8': 0.7807404398918152,\n",
       "  'tst/F1Score0': 0.0,\n",
       "  'tst/F1Score1': 0.92611163854599,\n",
       "  'tst/F1Score2': 0.9207127690315247,\n",
       "  'tst/F1Score3': 0.959421694278717,\n",
       "  'tst/F1Score4': 0.928403377532959,\n",
       "  'tst/F1Score5': 0.5604041218757629,\n",
       "  'tst/F1Score6': 0.9317227005958557,\n",
       "  'tst/F1Score7': 0.7900195717811584,\n",
       "  'tst/F1Score8': 0.7189390659332275,\n",
       "  'tst/JaccardIndex0': 0.0,\n",
       "  'tst/JaccardIndex1': 0.8623909950256348,\n",
       "  'tst/JaccardIndex2': 0.8530747890472412,\n",
       "  'tst/JaccardIndex3': 0.9220080971717834,\n",
       "  'tst/JaccardIndex4': 0.8663738965988159,\n",
       "  'tst/JaccardIndex5': 0.389278769493103,\n",
       "  'tst/JaccardIndex6': 0.8721730709075928,\n",
       "  'tst/JaccardIndex7': 0.6529192924499512,\n",
       "  'tst/JaccardIndex8': 0.5612059831619263,\n",
       "  'tst/Precision0': 0.0,\n",
       "  'tst/Precision1': 0.9049074649810791,\n",
       "  'tst/Precision2': 0.9622076153755188,\n",
       "  'tst/Precision3': 0.9364164471626282,\n",
       "  'tst/Precision4': 0.9359576106071472,\n",
       "  'tst/Precision5': 0.5756150484085083,\n",
       "  'tst/Precision6': 0.8883035778999329,\n",
       "  'tst/Precision7': 0.8256420493125916,\n",
       "  'tst/Precision8': 0.6662040948867798,\n",
       "  'tst/Recall0': 0.0,\n",
       "  'tst/Recall1': 0.9483334422111511,\n",
       "  'tst/Recall2': 0.8826488256454468,\n",
       "  'tst/Recall3': 0.9835857152938843,\n",
       "  'tst/Recall4': 0.92097008228302,\n",
       "  'tst/Recall5': 0.5459764003753662,\n",
       "  'tst/Recall6': 0.9796044230461121,\n",
       "  'tst/Recall7': 0.7573438286781311,\n",
       "  'tst/Recall8': 0.7807404398918152}]"
      ]
     },
     "execution_count": 3,
     "metadata": {},
     "output_type": "execute_result"
    }
   ],
   "source": [
    "# Quantitative Performance Evaluation\n",
    "torch.set_float32_matmul_precision(\"high\")\n",
    "torch.backends.cudnn.allow_tf32 = True\n",
    "\n",
    "lightning.pytorch.seed_everything(0, workers=True)\n",
    "\n",
    "model = create_model(config)\n",
    "model_path = os.path.join(\n",
    "    optim_log_dirpath, f\"version_{study.best_trial.number}\", \"ckpts\", \"best.ckpt\"\n",
    ")\n",
    "\n",
    "task: TrainingTask = TrainingTask.load_from_checkpoint(\n",
    "    checkpoint_path=model_path, model=model\n",
    ")\n",
    "\n",
    "datamodule = TrainingDataModule(\n",
    "    root=r\"C:\\Documents\\RoofSense\\roofsense\\dataset\",\n",
    "    append_lab=config.append_lab,\n",
    "    append_tgi=config.append_tgi,\n",
    ")\n",
    "\n",
    "test_log_dirpath = os.path.join(os.path.dirname(optim_log_dirpath), \"test\")\n",
    "trainer = Trainer(\n",
    "    logger=TensorBoardLogger(save_dir=test_log_dirpath, name=\"quantitative\"),\n",
    "    benchmark=True,\n",
    ")\n",
    "trainer.test(task, datamodule=datamodule)"
   ]
  },
  {
   "cell_type": "code",
   "execution_count": 4,
   "id": "ac5d175892e5f3d3",
   "metadata": {
    "ExecuteTime": {
     "end_time": "2025-03-28T15:17:24.830998Z",
     "start_time": "2025-03-28T15:17:22.943917Z"
    }
   },
   "outputs": [
    {
     "name": "stderr",
     "output_type": "stream",
     "text": [
      "Seed set to 0\n",
      "GPU available: True (cuda), used: True\n",
      "TPU available: False, using: 0 TPU cores\n",
      "HPU available: False, using: 0 HPUs\n",
      "C:\\Documents\\RoofSense\\roofsense\\utilities\\file.py:70: UserWarning: The specified path: 'C:\\\\Documents\\\\RoofSense\\\\logs\\\\3dgeoinfo\\\\test\\\\qualitative\\\\9-284-556.map.pixel.tif' does not exist in the system. The value of the 'overwrite' flag will be ignored.\n",
      "  warnings.warn(msg, UserWarning)\n"
     ]
    },
    {
     "ename": "ValueError",
     "evalue": "Found no raster stack corresponding to tile with ID: 9-284-556.",
     "output_type": "error",
     "traceback": [
      "\u001b[1;31m---------------------------------------------------------------------------\u001b[0m",
      "\u001b[1;31mValueError\u001b[0m                                Traceback (most recent call last)",
      "Cell \u001b[1;32mIn[4], line 6\u001b[0m\n\u001b[0;32m      1\u001b[0m \u001b[38;5;66;03m# Qualitative Performance Evaluation\u001b[39;00m\n\u001b[0;32m      2\u001b[0m tile_id \u001b[38;5;241m=\u001b[39m \u001b[38;5;124m\"\u001b[39m\u001b[38;5;124m9-284-556\u001b[39m\u001b[38;5;124m\"\u001b[39m\n\u001b[0;32m      4\u001b[0m \u001b[43mTiledInferenceEngine\u001b[49m\u001b[43m(\u001b[49m\n\u001b[0;32m      5\u001b[0m \u001b[43m    \u001b[49m\u001b[43mckpt_path\u001b[49m\u001b[38;5;241;43m=\u001b[39;49m\u001b[43mmodel_path\u001b[49m\u001b[43m,\u001b[49m\u001b[43m \u001b[49m\u001b[43mtile_store\u001b[49m\u001b[38;5;241;43m=\u001b[39;49m\u001b[43mBAG3DTileStore\u001b[49m\u001b[43m(\u001b[49m\u001b[43m)\u001b[49m\u001b[43m,\u001b[49m\u001b[43m \u001b[49m\u001b[43mmodel\u001b[49m\u001b[38;5;241;43m=\u001b[39;49m\u001b[43mmodel\u001b[49m\n\u001b[1;32m----> 6\u001b[0m \u001b[43m)\u001b[49m\u001b[38;5;241;43m.\u001b[39;49m\u001b[43mrun\u001b[49m\u001b[43m(\u001b[49m\n\u001b[0;32m      7\u001b[0m \u001b[43m    \u001b[49m\u001b[43mtile_id\u001b[49m\u001b[38;5;241;43m=\u001b[39;49m\u001b[43mtile_id\u001b[49m\u001b[43m,\u001b[49m\n\u001b[0;32m      8\u001b[0m \u001b[43m    \u001b[49m\u001b[43mdst_filepath\u001b[49m\u001b[38;5;241;43m=\u001b[39;49m\u001b[43mos\u001b[49m\u001b[38;5;241;43m.\u001b[39;49m\u001b[43mpath\u001b[49m\u001b[38;5;241;43m.\u001b[39;49m\u001b[43mjoin\u001b[49m\u001b[43m(\u001b[49m\n\u001b[0;32m      9\u001b[0m \u001b[43m        \u001b[49m\u001b[43mtest_log_dirpath\u001b[49m\u001b[43m,\u001b[49m\u001b[43m \u001b[49m\u001b[38;5;124;43m\"\u001b[39;49m\u001b[38;5;124;43mqualitative\u001b[39;49m\u001b[38;5;124;43m\"\u001b[39;49m\u001b[43m,\u001b[49m\u001b[43m \u001b[49m\u001b[38;5;124;43mf\u001b[39;49m\u001b[38;5;124;43m\"\u001b[39;49m\u001b[38;5;132;43;01m{\u001b[39;49;00m\u001b[43mtile_id\u001b[49m\u001b[38;5;132;43;01m}\u001b[39;49;00m\u001b[38;5;124;43m.map.pixel.tif\u001b[39;49m\u001b[38;5;124;43m\"\u001b[39;49m\n\u001b[0;32m     10\u001b[0m \u001b[43m    \u001b[49m\u001b[43m)\u001b[49m\u001b[43m,\u001b[49m\n\u001b[0;32m     11\u001b[0m \u001b[43m    \u001b[49m\u001b[43mparams\u001b[49m\u001b[38;5;241;43m=\u001b[39;49m\u001b[43mTiledInferenceParameters\u001b[49m\u001b[43m(\u001b[49m\u001b[43mh_crop\u001b[49m\u001b[38;5;241;43m=\u001b[39;49m\u001b[38;5;241;43m512\u001b[39;49m\u001b[43m,\u001b[49m\u001b[43m \u001b[49m\u001b[43mh_stride\u001b[49m\u001b[38;5;241;43m=\u001b[39;49m\u001b[38;5;241;43m256\u001b[39;49m\u001b[43m,\u001b[49m\u001b[43m \u001b[49m\u001b[43mw_crop\u001b[49m\u001b[38;5;241;43m=\u001b[39;49m\u001b[38;5;241;43m512\u001b[39;49m\u001b[43m,\u001b[49m\u001b[43m \u001b[49m\u001b[43mw_stride\u001b[49m\u001b[38;5;241;43m=\u001b[39;49m\u001b[38;5;241;43m256\u001b[39;49m\u001b[43m)\u001b[49m\u001b[43m,\u001b[49m\n\u001b[0;32m     12\u001b[0m \u001b[43m    \u001b[49m\u001b[43mforce_valid_geom\u001b[49m\u001b[38;5;241;43m=\u001b[39;49m\u001b[38;5;28;43;01mTrue\u001b[39;49;00m\u001b[43m,\u001b[49m\n\u001b[0;32m     13\u001b[0m \u001b[43m)\u001b[49m\n",
      "File \u001b[1;32mC:\\Documents\\RoofSense\\roofsense\\inference\\tile.py:103\u001b[0m, in \u001b[0;36mTiledInferenceEngine.run\u001b[1;34m(self, tile_id, dst_filepath, params, force_valid_geom)\u001b[0m\n\u001b[0;32m    101\u001b[0m \u001b[38;5;28;01mif\u001b[39;00m \u001b[38;5;129;01mnot\u001b[39;00m os\u001b[38;5;241m.\u001b[39mpath\u001b[38;5;241m.\u001b[39misfile(path):\n\u001b[0;32m    102\u001b[0m     msg \u001b[38;5;241m=\u001b[39m \u001b[38;5;124mf\u001b[39m\u001b[38;5;124m\"\u001b[39m\u001b[38;5;124mFound no raster stack corresponding to tile with ID: \u001b[39m\u001b[38;5;132;01m{\u001b[39;00mtile_id\u001b[38;5;132;01m}\u001b[39;00m\u001b[38;5;124m.\u001b[39m\u001b[38;5;124m\"\u001b[39m\n\u001b[1;32m--> 103\u001b[0m     \u001b[38;5;28;01mraise\u001b[39;00m \u001b[38;5;167;01mValueError\u001b[39;00m(msg)\n\u001b[0;32m    104\u001b[0m src: rasterio\u001b[38;5;241m.\u001b[39mio\u001b[38;5;241m.\u001b[39mDatasetReader\n\u001b[0;32m    105\u001b[0m \u001b[38;5;28;01mwith\u001b[39;00m rasterio\u001b[38;5;241m.\u001b[39mopen(path) \u001b[38;5;28;01mas\u001b[39;00m src:\n",
      "\u001b[1;31mValueError\u001b[0m: Found no raster stack corresponding to tile with ID: 9-284-556."
     ]
    }
   ],
   "source": [
    "# Qualitative Performance Evaluation\n",
    "tile_id = \"9-284-556\"\n",
    "\n",
    "TiledInferenceEngine(\n",
    "    ckpt_path=model_path, tile_store=BAG3DTileStore(), model=model\n",
    ").run(\n",
    "    tile_id=tile_id,\n",
    "    dst_filepath=os.path.join(\n",
    "        test_log_dirpath, \"qualitative\", f\"{tile_id}.map.pixel.tif\"\n",
    "    ),\n",
    "    params=TiledInferenceParameters(h_crop=512, h_stride=256, w_crop=512, w_stride=256),\n",
    ")"
   ]
  }
 ],
 "metadata": {
  "kernelspec": {
   "display_name": "Python 3",
   "language": "python",
   "name": "python3"
  },
  "language_info": {
   "codemirror_mode": {
    "name": "ipython",
    "version": 2
   },
   "file_extension": ".py",
   "mimetype": "text/x-python",
   "name": "python",
   "nbconvert_exporter": "python",
   "pygments_lexer": "ipython2",
   "version": "2.7.6"
  }
 },
 "nbformat": 4,
 "nbformat_minor": 5
}
