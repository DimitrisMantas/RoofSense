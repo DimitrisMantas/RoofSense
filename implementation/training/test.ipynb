{
 "cells": [
  {
   "cell_type": "code",
   "id": "initial_id",
   "metadata": {
    "collapsed": true,
    "ExecuteTime": {
     "end_time": "2025-03-29T08:53:24.491960Z",
     "start_time": "2025-03-29T08:52:43.627341Z"
    }
   },
   "source": [
    "import os\n",
    "\n",
    "import lightning\n",
    "import optuna\n",
    "import torch\n",
    "from lightning import Trainer\n",
    "from lightning.pytorch.loggers import TensorBoardLogger\n",
    "from terratorch.tasks.tiled_inference import TiledInferenceParameters\n",
    "\n",
    "from implementation.training.utilities import (\n",
    "    TrainingTaskHyperparameterTuningConfig,\n",
    "    create_model,\n",
    ")\n",
    "from roofsense.bag3d import BAG3DTileStore\n",
    "from roofsense.inference.tile import TiledInferenceEngine\n",
    "from roofsense.training.datamodule import TrainingDataModule\n",
    "from roofsense.training.task import TrainingTask"
   ],
   "outputs": [
    {
     "name": "stderr",
     "output_type": "stream",
     "text": [
      "C:\\Documents\\RoofSense\\venv\\Lib\\site-packages\\tqdm\\auto.py:21: TqdmWarning: IProgress not found. Please update jupyter and ipywidgets. See https://ipywidgets.readthedocs.io/en/stable/user_install.html\n",
      "  from .autonotebook import tqdm as notebook_tqdm\n",
      "INFO:albumentations.check_version:A new version of Albumentations is available: 2.0.5 (you have 1.4.10). Upgrade using: pip install --upgrade albumentations\n"
     ]
    }
   ],
   "execution_count": 1
  },
  {
   "cell_type": "code",
   "id": "15055c8d4e2d24e5",
   "metadata": {
    "ExecuteTime": {
     "end_time": "2025-03-29T08:53:25.180495Z",
     "start_time": "2025-03-29T08:53:24.501969Z"
    }
   },
   "source": [
    "study_name = \"optimization\"\n",
    "optim_log_dirpath = os.path.join(r\"C:\\Documents\\RoofSense\\logs\\3dgeoinfo\", study_name)\n",
    "\n",
    "study = optuna.load_study(\n",
    "    study_name=\"optim\", storage=f\"sqlite:///{optim_log_dirpath}/storage.db\"\n",
    ")\n",
    "\n",
    "best_params = study.best_params\n",
    "# Convert parameter format.\n",
    "for param in [\"lab\", \"tgi\"]:\n",
    "    best_params[f\"append_{param}\"] = best_params.pop(param)\n",
    "\n",
    "config = TrainingTaskHyperparameterTuningConfig(\n",
    "    # Add constant settings.\n",
    "    # Encoder\n",
    "    encoder=\"tu-resnet18d\",\n",
    "    zero_init_last=True,\n",
    "    # Loss\n",
    "    label_smoothing=0.1,\n",
    "    # Optimizer\n",
    "    optimizer=\"AdamW\",\n",
    "    # LR Scheduler\n",
    "    lr_scheduler=\"CosineAnnealingLR\",\n",
    "    **best_params,\n",
    ")"
   ],
   "outputs": [],
   "execution_count": 2
  },
  {
   "cell_type": "code",
   "id": "62d7525f17b53ae5",
   "metadata": {
    "ExecuteTime": {
     "end_time": "2025-03-29T09:27:11.706830Z",
     "start_time": "2025-03-29T09:27:01.218794Z"
    }
   },
   "source": [
    "# Quantitative Performance Evaluation\n",
    "log_dirpath = os.path.join(os.path.dirname(optim_log_dirpath), \"test\")\n",
    "\n",
    "torch.set_float32_matmul_precision(\"high\")\n",
    "torch.backends.cudnn.allow_tf32 = True\n",
    "\n",
    "lightning.pytorch.seed_everything(0, workers=True)\n",
    "\n",
    "model = create_model(config)\n",
    "model_path = os.path.join(\n",
    "    optim_log_dirpath, f\"version_{study.best_trial.number}\", \"ckpts\", \"best.ckpt\"\n",
    ")\n",
    "\n",
    "task: TrainingTask = TrainingTask.load_from_checkpoint(\n",
    "    checkpoint_path=model_path, model=model\n",
    ")\n",
    "\n",
    "datamodule = TrainingDataModule(\n",
    "    root=r\"C:\\Documents\\RoofSense\\roofsense\\dataset\",\n",
    "    append_lab=config.append_lab,\n",
    "    append_tgi=config.append_tgi,\n",
    ")\n",
    "\n",
    "trainer = Trainer(\n",
    "    logger=TensorBoardLogger(save_dir=log_dirpath, name=\"quantitative\"), benchmark=True\n",
    ")\n",
    "trainer.test(task, datamodule=datamodule)"
   ],
   "outputs": [
    {
     "name": "stderr",
     "output_type": "stream",
     "text": [
      "Seed set to 0\n",
      "INFO:timm.models._builder:Loading pretrained weights from Hugging Face hub (timm/resnet18d.ra2_in1k)\n",
      "INFO:timm.models._hub:[timm/resnet18d.ra2_in1k] Safe alternative available for 'pytorch_model.bin' (as 'model.safetensors'). Loading weights using safetensors.\n",
      "INFO:timm.models._builder:Converted input conv conv1.0 pretrained weights from 3 to 10 channel(s)\n",
      "GPU available: True (cuda), used: True\n",
      "TPU available: False, using: 0 TPU cores\n",
      "HPU available: False, using: 0 HPUs\n",
      "LOCAL_RANK: 0 - CUDA_VISIBLE_DEVICES: [0]\n"
     ]
    },
    {
     "name": "stdout",
     "output_type": "stream",
     "text": [
      "Testing DataLoader 0: 100%|██████████| 6/6 [00:00<00:00,  6.72it/s]\n"
     ]
    },
    {
     "data": {
      "text/plain": [
       "┏━━━━━━━━━━━━━━━━━━━━━━━━━━━┳━━━━━━━━━━━━━━━━━━━━━━━━━━━┓\n",
       "┃\u001B[1m \u001B[0m\u001B[1m       Test metric       \u001B[0m\u001B[1m \u001B[0m┃\u001B[1m \u001B[0m\u001B[1m      DataLoader 0       \u001B[0m\u001B[1m \u001B[0m┃\n",
       "┡━━━━━━━━━━━━━━━━━━━━━━━━━━━╇━━━━━━━━━━━━━━━━━━━━━━━━━━━┩\n",
       "│\u001B[36m \u001B[0m\u001B[36m      tst/Accuracy0      \u001B[0m\u001B[36m \u001B[0m│\u001B[35m \u001B[0m\u001B[35m           0.0           \u001B[0m\u001B[35m \u001B[0m│\n",
       "│\u001B[36m \u001B[0m\u001B[36m      tst/Accuracy1      \u001B[0m\u001B[36m \u001B[0m│\u001B[35m \u001B[0m\u001B[35m   0.9483452439308167    \u001B[0m\u001B[35m \u001B[0m│\n",
       "│\u001B[36m \u001B[0m\u001B[36m      tst/Accuracy2      \u001B[0m\u001B[36m \u001B[0m│\u001B[35m \u001B[0m\u001B[35m   0.8826488256454468    \u001B[0m\u001B[35m \u001B[0m│\n",
       "│\u001B[36m \u001B[0m\u001B[36m      tst/Accuracy3      \u001B[0m\u001B[36m \u001B[0m│\u001B[35m \u001B[0m\u001B[35m   0.9835882782936096    \u001B[0m\u001B[35m \u001B[0m│\n",
       "│\u001B[36m \u001B[0m\u001B[36m      tst/Accuracy4      \u001B[0m\u001B[36m \u001B[0m│\u001B[35m \u001B[0m\u001B[35m    0.920972466468811    \u001B[0m\u001B[35m \u001B[0m│\n",
       "│\u001B[36m \u001B[0m\u001B[36m      tst/Accuracy5      \u001B[0m\u001B[36m \u001B[0m│\u001B[35m \u001B[0m\u001B[35m   0.5459919571876526    \u001B[0m\u001B[35m \u001B[0m│\n",
       "│\u001B[36m \u001B[0m\u001B[36m      tst/Accuracy6      \u001B[0m\u001B[36m \u001B[0m│\u001B[35m \u001B[0m\u001B[35m   0.9796012043952942    \u001B[0m\u001B[35m \u001B[0m│\n",
       "│\u001B[36m \u001B[0m\u001B[36m      tst/Accuracy7      \u001B[0m\u001B[36m \u001B[0m│\u001B[35m \u001B[0m\u001B[35m    0.757350504398346    \u001B[0m\u001B[35m \u001B[0m│\n",
       "│\u001B[36m \u001B[0m\u001B[36m      tst/Accuracy8      \u001B[0m\u001B[36m \u001B[0m│\u001B[35m \u001B[0m\u001B[35m   0.7807689309120178    \u001B[0m\u001B[35m \u001B[0m│\n",
       "│\u001B[36m \u001B[0m\u001B[36m      tst/F1Score0       \u001B[0m\u001B[36m \u001B[0m│\u001B[35m \u001B[0m\u001B[35m           0.0           \u001B[0m\u001B[35m \u001B[0m│\n",
       "│\u001B[36m \u001B[0m\u001B[36m      tst/F1Score1       \u001B[0m\u001B[36m \u001B[0m│\u001B[35m \u001B[0m\u001B[35m   0.9261205196380615    \u001B[0m\u001B[35m \u001B[0m│\n",
       "│\u001B[36m \u001B[0m\u001B[36m      tst/F1Score2       \u001B[0m\u001B[36m \u001B[0m│\u001B[35m \u001B[0m\u001B[35m   0.9207127690315247    \u001B[0m\u001B[35m \u001B[0m│\n",
       "│\u001B[36m \u001B[0m\u001B[36m      tst/F1Score3       \u001B[0m\u001B[36m \u001B[0m│\u001B[35m \u001B[0m\u001B[35m   0.9594229459762573    \u001B[0m\u001B[35m \u001B[0m│\n",
       "│\u001B[36m \u001B[0m\u001B[36m      tst/F1Score4       \u001B[0m\u001B[36m \u001B[0m│\u001B[35m \u001B[0m\u001B[35m   0.9284046292304993    \u001B[0m\u001B[35m \u001B[0m│\n",
       "│\u001B[36m \u001B[0m\u001B[36m      tst/F1Score5       \u001B[0m\u001B[36m \u001B[0m│\u001B[35m \u001B[0m\u001B[35m   0.5603976845741272    \u001B[0m\u001B[35m \u001B[0m│\n",
       "│\u001B[36m \u001B[0m\u001B[36m      tst/F1Score6       \u001B[0m\u001B[36m \u001B[0m│\u001B[35m \u001B[0m\u001B[35m   0.9317238926887512    \u001B[0m\u001B[35m \u001B[0m│\n",
       "│\u001B[36m \u001B[0m\u001B[36m      tst/F1Score7       \u001B[0m\u001B[36m \u001B[0m│\u001B[35m \u001B[0m\u001B[35m   0.7900306582450867    \u001B[0m\u001B[35m \u001B[0m│\n",
       "│\u001B[36m \u001B[0m\u001B[36m      tst/F1Score8       \u001B[0m\u001B[36m \u001B[0m│\u001B[35m \u001B[0m\u001B[35m   0.7189936637878418    \u001B[0m\u001B[35m \u001B[0m│\n",
       "│\u001B[36m \u001B[0m\u001B[36m    tst/JaccardIndex0    \u001B[0m\u001B[36m \u001B[0m│\u001B[35m \u001B[0m\u001B[35m           0.0           \u001B[0m\u001B[35m \u001B[0m│\n",
       "│\u001B[36m \u001B[0m\u001B[36m    tst/JaccardIndex1    \u001B[0m\u001B[36m \u001B[0m│\u001B[35m \u001B[0m\u001B[35m   0.8624063730239868    \u001B[0m\u001B[35m \u001B[0m│\n",
       "│\u001B[36m \u001B[0m\u001B[36m    tst/JaccardIndex2    \u001B[0m\u001B[36m \u001B[0m│\u001B[35m \u001B[0m\u001B[35m   0.8530747890472412    \u001B[0m\u001B[35m \u001B[0m│\n",
       "│\u001B[36m \u001B[0m\u001B[36m    tst/JaccardIndex3    \u001B[0m\u001B[36m \u001B[0m│\u001B[35m \u001B[0m\u001B[35m   0.9220105409622192    \u001B[0m\u001B[35m \u001B[0m│\n",
       "│\u001B[36m \u001B[0m\u001B[36m    tst/JaccardIndex4    \u001B[0m\u001B[36m \u001B[0m│\u001B[35m \u001B[0m\u001B[35m   0.8663761019706726    \u001B[0m\u001B[35m \u001B[0m│\n",
       "│\u001B[36m \u001B[0m\u001B[36m    tst/JaccardIndex5    \u001B[0m\u001B[36m \u001B[0m│\u001B[35m \u001B[0m\u001B[35m   0.3892725706100464    \u001B[0m\u001B[35m \u001B[0m│\n",
       "│\u001B[36m \u001B[0m\u001B[36m    tst/JaccardIndex6    \u001B[0m\u001B[36m \u001B[0m│\u001B[35m \u001B[0m\u001B[35m   0.8721751570701599    \u001B[0m\u001B[35m \u001B[0m│\n",
       "│\u001B[36m \u001B[0m\u001B[36m    tst/JaccardIndex7    \u001B[0m\u001B[36m \u001B[0m│\u001B[35m \u001B[0m\u001B[35m   0.6529344320297241    \u001B[0m\u001B[35m \u001B[0m│\n",
       "│\u001B[36m \u001B[0m\u001B[36m    tst/JaccardIndex8    \u001B[0m\u001B[36m \u001B[0m│\u001B[35m \u001B[0m\u001B[35m   0.5612725019454956    \u001B[0m\u001B[35m \u001B[0m│\n",
       "│\u001B[36m \u001B[0m\u001B[36m        tst/Loss         \u001B[0m\u001B[36m \u001B[0m│\u001B[35m \u001B[0m\u001B[35m   2.0002262592315674    \u001B[0m\u001B[35m \u001B[0m│\n",
       "│\u001B[36m \u001B[0m\u001B[36m    tst/MacroAccuracy    \u001B[0m\u001B[36m \u001B[0m│\u001B[35m \u001B[0m\u001B[35m   0.8499084115028381    \u001B[0m\u001B[35m \u001B[0m│\n",
       "│\u001B[36m \u001B[0m\u001B[36m    tst/MacroF1Score     \u001B[0m\u001B[36m \u001B[0m│\u001B[35m \u001B[0m\u001B[35m   0.8419758677482605    \u001B[0m\u001B[35m \u001B[0m│\n",
       "│\u001B[36m \u001B[0m\u001B[36m  tst/MacroJaccardIndex  \u001B[0m\u001B[36m \u001B[0m│\u001B[35m \u001B[0m\u001B[35m   0.7474403381347656    \u001B[0m\u001B[35m \u001B[0m│\n",
       "│\u001B[36m \u001B[0m\u001B[36m   tst/MacroPrecision    \u001B[0m\u001B[36m \u001B[0m│\u001B[35m \u001B[0m\u001B[35m   0.8369154334068298    \u001B[0m\u001B[35m \u001B[0m│\n",
       "│\u001B[36m \u001B[0m\u001B[36m     tst/MacroRecall     \u001B[0m\u001B[36m \u001B[0m│\u001B[35m \u001B[0m\u001B[35m   0.8499084115028381    \u001B[0m\u001B[35m \u001B[0m│\n",
       "│\u001B[36m \u001B[0m\u001B[36m    tst/MicroAccuracy    \u001B[0m\u001B[36m \u001B[0m│\u001B[35m \u001B[0m\u001B[35m   0.9113147854804993    \u001B[0m\u001B[35m \u001B[0m│\n",
       "│\u001B[36m \u001B[0m\u001B[36m    tst/MicroF1Score     \u001B[0m\u001B[36m \u001B[0m│\u001B[35m \u001B[0m\u001B[35m   0.9113147854804993    \u001B[0m\u001B[35m \u001B[0m│\n",
       "│\u001B[36m \u001B[0m\u001B[36m  tst/MicroJaccardIndex  \u001B[0m\u001B[36m \u001B[0m│\u001B[35m \u001B[0m\u001B[35m   0.8371610641479492    \u001B[0m\u001B[35m \u001B[0m│\n",
       "│\u001B[36m \u001B[0m\u001B[36m   tst/MicroPrecision    \u001B[0m\u001B[36m \u001B[0m│\u001B[35m \u001B[0m\u001B[35m   0.9113147854804993    \u001B[0m\u001B[35m \u001B[0m│\n",
       "│\u001B[36m \u001B[0m\u001B[36m     tst/MicroRecall     \u001B[0m\u001B[36m \u001B[0m│\u001B[35m \u001B[0m\u001B[35m   0.9113147854804993    \u001B[0m\u001B[35m \u001B[0m│\n",
       "│\u001B[36m \u001B[0m\u001B[36m     tst/Precision0      \u001B[0m\u001B[36m \u001B[0m│\u001B[35m \u001B[0m\u001B[35m           0.0           \u001B[0m\u001B[35m \u001B[0m│\n",
       "│\u001B[36m \u001B[0m\u001B[36m     tst/Precision1      \u001B[0m\u001B[36m \u001B[0m│\u001B[35m \u001B[0m\u001B[35m    0.904913604259491    \u001B[0m\u001B[35m \u001B[0m│\n",
       "│\u001B[36m \u001B[0m\u001B[36m     tst/Precision2      \u001B[0m\u001B[36m \u001B[0m│\u001B[35m \u001B[0m\u001B[35m   0.9622076153755188    \u001B[0m\u001B[35m \u001B[0m│\n",
       "│\u001B[36m \u001B[0m\u001B[36m     tst/Precision3      \u001B[0m\u001B[36m \u001B[0m│\u001B[35m \u001B[0m\u001B[35m   0.9364166259765625    \u001B[0m\u001B[35m \u001B[0m│\n",
       "│\u001B[36m \u001B[0m\u001B[36m     tst/Precision4      \u001B[0m\u001B[36m \u001B[0m│\u001B[35m \u001B[0m\u001B[35m   0.9359577894210815    \u001B[0m\u001B[35m \u001B[0m│\n",
       "│\u001B[36m \u001B[0m\u001B[36m     tst/Precision5      \u001B[0m\u001B[36m \u001B[0m│\u001B[35m \u001B[0m\u001B[35m   0.5755841732025146    \u001B[0m\u001B[35m \u001B[0m│\n",
       "│\u001B[36m \u001B[0m\u001B[36m     tst/Precision6      \u001B[0m\u001B[36m \u001B[0m│\u001B[35m \u001B[0m\u001B[35m   0.8883084654808044    \u001B[0m\u001B[35m \u001B[0m│\n",
       "│\u001B[36m \u001B[0m\u001B[36m     tst/Precision7      \u001B[0m\u001B[36m \u001B[0m│\u001B[35m \u001B[0m\u001B[35m   0.8256583213806152    \u001B[0m\u001B[35m \u001B[0m│\n",
       "│\u001B[36m \u001B[0m\u001B[36m     tst/Precision8      \u001B[0m\u001B[36m \u001B[0m│\u001B[35m \u001B[0m\u001B[35m   0.6662771105766296    \u001B[0m\u001B[35m \u001B[0m│\n",
       "│\u001B[36m \u001B[0m\u001B[36m       tst/Recall0       \u001B[0m\u001B[36m \u001B[0m│\u001B[35m \u001B[0m\u001B[35m           0.0           \u001B[0m\u001B[35m \u001B[0m│\n",
       "│\u001B[36m \u001B[0m\u001B[36m       tst/Recall1       \u001B[0m\u001B[36m \u001B[0m│\u001B[35m \u001B[0m\u001B[35m   0.9483452439308167    \u001B[0m\u001B[35m \u001B[0m│\n",
       "│\u001B[36m \u001B[0m\u001B[36m       tst/Recall2       \u001B[0m\u001B[36m \u001B[0m│\u001B[35m \u001B[0m\u001B[35m   0.8826488256454468    \u001B[0m\u001B[35m \u001B[0m│\n",
       "│\u001B[36m \u001B[0m\u001B[36m       tst/Recall3       \u001B[0m\u001B[36m \u001B[0m│\u001B[35m \u001B[0m\u001B[35m   0.9835882782936096    \u001B[0m\u001B[35m \u001B[0m│\n",
       "│\u001B[36m \u001B[0m\u001B[36m       tst/Recall4       \u001B[0m\u001B[36m \u001B[0m│\u001B[35m \u001B[0m\u001B[35m    0.920972466468811    \u001B[0m\u001B[35m \u001B[0m│\n",
       "│\u001B[36m \u001B[0m\u001B[36m       tst/Recall5       \u001B[0m\u001B[36m \u001B[0m│\u001B[35m \u001B[0m\u001B[35m   0.5459919571876526    \u001B[0m\u001B[35m \u001B[0m│\n",
       "│\u001B[36m \u001B[0m\u001B[36m       tst/Recall6       \u001B[0m\u001B[36m \u001B[0m│\u001B[35m \u001B[0m\u001B[35m   0.9796012043952942    \u001B[0m\u001B[35m \u001B[0m│\n",
       "│\u001B[36m \u001B[0m\u001B[36m       tst/Recall7       \u001B[0m\u001B[36m \u001B[0m│\u001B[35m \u001B[0m\u001B[35m    0.757350504398346    \u001B[0m\u001B[35m \u001B[0m│\n",
       "│\u001B[36m \u001B[0m\u001B[36m       tst/Recall8       \u001B[0m\u001B[36m \u001B[0m│\u001B[35m \u001B[0m\u001B[35m   0.7807689309120178    \u001B[0m\u001B[35m \u001B[0m│\n",
       "└───────────────────────────┴───────────────────────────┘\n"
      ],
      "text/html": [
       "<pre style=\"white-space:pre;overflow-x:auto;line-height:normal;font-family:Menlo,'DejaVu Sans Mono',consolas,'Courier New',monospace\">┏━━━━━━━━━━━━━━━━━━━━━━━━━━━┳━━━━━━━━━━━━━━━━━━━━━━━━━━━┓\n",
       "┃<span style=\"font-weight: bold\">        Test metric        </span>┃<span style=\"font-weight: bold\">       DataLoader 0        </span>┃\n",
       "┡━━━━━━━━━━━━━━━━━━━━━━━━━━━╇━━━━━━━━━━━━━━━━━━━━━━━━━━━┩\n",
       "│<span style=\"color: #008080; text-decoration-color: #008080\">       tst/Accuracy0       </span>│<span style=\"color: #800080; text-decoration-color: #800080\">            0.0            </span>│\n",
       "│<span style=\"color: #008080; text-decoration-color: #008080\">       tst/Accuracy1       </span>│<span style=\"color: #800080; text-decoration-color: #800080\">    0.9483452439308167     </span>│\n",
       "│<span style=\"color: #008080; text-decoration-color: #008080\">       tst/Accuracy2       </span>│<span style=\"color: #800080; text-decoration-color: #800080\">    0.8826488256454468     </span>│\n",
       "│<span style=\"color: #008080; text-decoration-color: #008080\">       tst/Accuracy3       </span>│<span style=\"color: #800080; text-decoration-color: #800080\">    0.9835882782936096     </span>│\n",
       "│<span style=\"color: #008080; text-decoration-color: #008080\">       tst/Accuracy4       </span>│<span style=\"color: #800080; text-decoration-color: #800080\">     0.920972466468811     </span>│\n",
       "│<span style=\"color: #008080; text-decoration-color: #008080\">       tst/Accuracy5       </span>│<span style=\"color: #800080; text-decoration-color: #800080\">    0.5459919571876526     </span>│\n",
       "│<span style=\"color: #008080; text-decoration-color: #008080\">       tst/Accuracy6       </span>│<span style=\"color: #800080; text-decoration-color: #800080\">    0.9796012043952942     </span>│\n",
       "│<span style=\"color: #008080; text-decoration-color: #008080\">       tst/Accuracy7       </span>│<span style=\"color: #800080; text-decoration-color: #800080\">     0.757350504398346     </span>│\n",
       "│<span style=\"color: #008080; text-decoration-color: #008080\">       tst/Accuracy8       </span>│<span style=\"color: #800080; text-decoration-color: #800080\">    0.7807689309120178     </span>│\n",
       "│<span style=\"color: #008080; text-decoration-color: #008080\">       tst/F1Score0        </span>│<span style=\"color: #800080; text-decoration-color: #800080\">            0.0            </span>│\n",
       "│<span style=\"color: #008080; text-decoration-color: #008080\">       tst/F1Score1        </span>│<span style=\"color: #800080; text-decoration-color: #800080\">    0.9261205196380615     </span>│\n",
       "│<span style=\"color: #008080; text-decoration-color: #008080\">       tst/F1Score2        </span>│<span style=\"color: #800080; text-decoration-color: #800080\">    0.9207127690315247     </span>│\n",
       "│<span style=\"color: #008080; text-decoration-color: #008080\">       tst/F1Score3        </span>│<span style=\"color: #800080; text-decoration-color: #800080\">    0.9594229459762573     </span>│\n",
       "│<span style=\"color: #008080; text-decoration-color: #008080\">       tst/F1Score4        </span>│<span style=\"color: #800080; text-decoration-color: #800080\">    0.9284046292304993     </span>│\n",
       "│<span style=\"color: #008080; text-decoration-color: #008080\">       tst/F1Score5        </span>│<span style=\"color: #800080; text-decoration-color: #800080\">    0.5603976845741272     </span>│\n",
       "│<span style=\"color: #008080; text-decoration-color: #008080\">       tst/F1Score6        </span>│<span style=\"color: #800080; text-decoration-color: #800080\">    0.9317238926887512     </span>│\n",
       "│<span style=\"color: #008080; text-decoration-color: #008080\">       tst/F1Score7        </span>│<span style=\"color: #800080; text-decoration-color: #800080\">    0.7900306582450867     </span>│\n",
       "│<span style=\"color: #008080; text-decoration-color: #008080\">       tst/F1Score8        </span>│<span style=\"color: #800080; text-decoration-color: #800080\">    0.7189936637878418     </span>│\n",
       "│<span style=\"color: #008080; text-decoration-color: #008080\">     tst/JaccardIndex0     </span>│<span style=\"color: #800080; text-decoration-color: #800080\">            0.0            </span>│\n",
       "│<span style=\"color: #008080; text-decoration-color: #008080\">     tst/JaccardIndex1     </span>│<span style=\"color: #800080; text-decoration-color: #800080\">    0.8624063730239868     </span>│\n",
       "│<span style=\"color: #008080; text-decoration-color: #008080\">     tst/JaccardIndex2     </span>│<span style=\"color: #800080; text-decoration-color: #800080\">    0.8530747890472412     </span>│\n",
       "│<span style=\"color: #008080; text-decoration-color: #008080\">     tst/JaccardIndex3     </span>│<span style=\"color: #800080; text-decoration-color: #800080\">    0.9220105409622192     </span>│\n",
       "│<span style=\"color: #008080; text-decoration-color: #008080\">     tst/JaccardIndex4     </span>│<span style=\"color: #800080; text-decoration-color: #800080\">    0.8663761019706726     </span>│\n",
       "│<span style=\"color: #008080; text-decoration-color: #008080\">     tst/JaccardIndex5     </span>│<span style=\"color: #800080; text-decoration-color: #800080\">    0.3892725706100464     </span>│\n",
       "│<span style=\"color: #008080; text-decoration-color: #008080\">     tst/JaccardIndex6     </span>│<span style=\"color: #800080; text-decoration-color: #800080\">    0.8721751570701599     </span>│\n",
       "│<span style=\"color: #008080; text-decoration-color: #008080\">     tst/JaccardIndex7     </span>│<span style=\"color: #800080; text-decoration-color: #800080\">    0.6529344320297241     </span>│\n",
       "│<span style=\"color: #008080; text-decoration-color: #008080\">     tst/JaccardIndex8     </span>│<span style=\"color: #800080; text-decoration-color: #800080\">    0.5612725019454956     </span>│\n",
       "│<span style=\"color: #008080; text-decoration-color: #008080\">         tst/Loss          </span>│<span style=\"color: #800080; text-decoration-color: #800080\">    2.0002262592315674     </span>│\n",
       "│<span style=\"color: #008080; text-decoration-color: #008080\">     tst/MacroAccuracy     </span>│<span style=\"color: #800080; text-decoration-color: #800080\">    0.8499084115028381     </span>│\n",
       "│<span style=\"color: #008080; text-decoration-color: #008080\">     tst/MacroF1Score      </span>│<span style=\"color: #800080; text-decoration-color: #800080\">    0.8419758677482605     </span>│\n",
       "│<span style=\"color: #008080; text-decoration-color: #008080\">   tst/MacroJaccardIndex   </span>│<span style=\"color: #800080; text-decoration-color: #800080\">    0.7474403381347656     </span>│\n",
       "│<span style=\"color: #008080; text-decoration-color: #008080\">    tst/MacroPrecision     </span>│<span style=\"color: #800080; text-decoration-color: #800080\">    0.8369154334068298     </span>│\n",
       "│<span style=\"color: #008080; text-decoration-color: #008080\">      tst/MacroRecall      </span>│<span style=\"color: #800080; text-decoration-color: #800080\">    0.8499084115028381     </span>│\n",
       "│<span style=\"color: #008080; text-decoration-color: #008080\">     tst/MicroAccuracy     </span>│<span style=\"color: #800080; text-decoration-color: #800080\">    0.9113147854804993     </span>│\n",
       "│<span style=\"color: #008080; text-decoration-color: #008080\">     tst/MicroF1Score      </span>│<span style=\"color: #800080; text-decoration-color: #800080\">    0.9113147854804993     </span>│\n",
       "│<span style=\"color: #008080; text-decoration-color: #008080\">   tst/MicroJaccardIndex   </span>│<span style=\"color: #800080; text-decoration-color: #800080\">    0.8371610641479492     </span>│\n",
       "│<span style=\"color: #008080; text-decoration-color: #008080\">    tst/MicroPrecision     </span>│<span style=\"color: #800080; text-decoration-color: #800080\">    0.9113147854804993     </span>│\n",
       "│<span style=\"color: #008080; text-decoration-color: #008080\">      tst/MicroRecall      </span>│<span style=\"color: #800080; text-decoration-color: #800080\">    0.9113147854804993     </span>│\n",
       "│<span style=\"color: #008080; text-decoration-color: #008080\">      tst/Precision0       </span>│<span style=\"color: #800080; text-decoration-color: #800080\">            0.0            </span>│\n",
       "│<span style=\"color: #008080; text-decoration-color: #008080\">      tst/Precision1       </span>│<span style=\"color: #800080; text-decoration-color: #800080\">     0.904913604259491     </span>│\n",
       "│<span style=\"color: #008080; text-decoration-color: #008080\">      tst/Precision2       </span>│<span style=\"color: #800080; text-decoration-color: #800080\">    0.9622076153755188     </span>│\n",
       "│<span style=\"color: #008080; text-decoration-color: #008080\">      tst/Precision3       </span>│<span style=\"color: #800080; text-decoration-color: #800080\">    0.9364166259765625     </span>│\n",
       "│<span style=\"color: #008080; text-decoration-color: #008080\">      tst/Precision4       </span>│<span style=\"color: #800080; text-decoration-color: #800080\">    0.9359577894210815     </span>│\n",
       "│<span style=\"color: #008080; text-decoration-color: #008080\">      tst/Precision5       </span>│<span style=\"color: #800080; text-decoration-color: #800080\">    0.5755841732025146     </span>│\n",
       "│<span style=\"color: #008080; text-decoration-color: #008080\">      tst/Precision6       </span>│<span style=\"color: #800080; text-decoration-color: #800080\">    0.8883084654808044     </span>│\n",
       "│<span style=\"color: #008080; text-decoration-color: #008080\">      tst/Precision7       </span>│<span style=\"color: #800080; text-decoration-color: #800080\">    0.8256583213806152     </span>│\n",
       "│<span style=\"color: #008080; text-decoration-color: #008080\">      tst/Precision8       </span>│<span style=\"color: #800080; text-decoration-color: #800080\">    0.6662771105766296     </span>│\n",
       "│<span style=\"color: #008080; text-decoration-color: #008080\">        tst/Recall0        </span>│<span style=\"color: #800080; text-decoration-color: #800080\">            0.0            </span>│\n",
       "│<span style=\"color: #008080; text-decoration-color: #008080\">        tst/Recall1        </span>│<span style=\"color: #800080; text-decoration-color: #800080\">    0.9483452439308167     </span>│\n",
       "│<span style=\"color: #008080; text-decoration-color: #008080\">        tst/Recall2        </span>│<span style=\"color: #800080; text-decoration-color: #800080\">    0.8826488256454468     </span>│\n",
       "│<span style=\"color: #008080; text-decoration-color: #008080\">        tst/Recall3        </span>│<span style=\"color: #800080; text-decoration-color: #800080\">    0.9835882782936096     </span>│\n",
       "│<span style=\"color: #008080; text-decoration-color: #008080\">        tst/Recall4        </span>│<span style=\"color: #800080; text-decoration-color: #800080\">     0.920972466468811     </span>│\n",
       "│<span style=\"color: #008080; text-decoration-color: #008080\">        tst/Recall5        </span>│<span style=\"color: #800080; text-decoration-color: #800080\">    0.5459919571876526     </span>│\n",
       "│<span style=\"color: #008080; text-decoration-color: #008080\">        tst/Recall6        </span>│<span style=\"color: #800080; text-decoration-color: #800080\">    0.9796012043952942     </span>│\n",
       "│<span style=\"color: #008080; text-decoration-color: #008080\">        tst/Recall7        </span>│<span style=\"color: #800080; text-decoration-color: #800080\">     0.757350504398346     </span>│\n",
       "│<span style=\"color: #008080; text-decoration-color: #008080\">        tst/Recall8        </span>│<span style=\"color: #800080; text-decoration-color: #800080\">    0.7807689309120178     </span>│\n",
       "└───────────────────────────┴───────────────────────────┘\n",
       "</pre>\n"
      ]
     },
     "metadata": {},
     "output_type": "display_data"
    },
    {
     "data": {
      "text/plain": [
       "[{'tst/Loss': 2.0002262592315674,\n",
       "  'tst/MacroAccuracy': 0.8499084115028381,\n",
       "  'tst/MacroF1Score': 0.8419758677482605,\n",
       "  'tst/MacroJaccardIndex': 0.7474403381347656,\n",
       "  'tst/MacroPrecision': 0.8369154334068298,\n",
       "  'tst/MacroRecall': 0.8499084115028381,\n",
       "  'tst/MicroAccuracy': 0.9113147854804993,\n",
       "  'tst/MicroF1Score': 0.9113147854804993,\n",
       "  'tst/MicroJaccardIndex': 0.8371610641479492,\n",
       "  'tst/MicroPrecision': 0.9113147854804993,\n",
       "  'tst/MicroRecall': 0.9113147854804993,\n",
       "  'tst/Accuracy0': 0.0,\n",
       "  'tst/Accuracy1': 0.9483452439308167,\n",
       "  'tst/Accuracy2': 0.8826488256454468,\n",
       "  'tst/Accuracy3': 0.9835882782936096,\n",
       "  'tst/Accuracy4': 0.920972466468811,\n",
       "  'tst/Accuracy5': 0.5459919571876526,\n",
       "  'tst/Accuracy6': 0.9796012043952942,\n",
       "  'tst/Accuracy7': 0.757350504398346,\n",
       "  'tst/Accuracy8': 0.7807689309120178,\n",
       "  'tst/F1Score0': 0.0,\n",
       "  'tst/F1Score1': 0.9261205196380615,\n",
       "  'tst/F1Score2': 0.9207127690315247,\n",
       "  'tst/F1Score3': 0.9594229459762573,\n",
       "  'tst/F1Score4': 0.9284046292304993,\n",
       "  'tst/F1Score5': 0.5603976845741272,\n",
       "  'tst/F1Score6': 0.9317238926887512,\n",
       "  'tst/F1Score7': 0.7900306582450867,\n",
       "  'tst/F1Score8': 0.7189936637878418,\n",
       "  'tst/JaccardIndex0': 0.0,\n",
       "  'tst/JaccardIndex1': 0.8624063730239868,\n",
       "  'tst/JaccardIndex2': 0.8530747890472412,\n",
       "  'tst/JaccardIndex3': 0.9220105409622192,\n",
       "  'tst/JaccardIndex4': 0.8663761019706726,\n",
       "  'tst/JaccardIndex5': 0.3892725706100464,\n",
       "  'tst/JaccardIndex6': 0.8721751570701599,\n",
       "  'tst/JaccardIndex7': 0.6529344320297241,\n",
       "  'tst/JaccardIndex8': 0.5612725019454956,\n",
       "  'tst/Precision0': 0.0,\n",
       "  'tst/Precision1': 0.904913604259491,\n",
       "  'tst/Precision2': 0.9622076153755188,\n",
       "  'tst/Precision3': 0.9364166259765625,\n",
       "  'tst/Precision4': 0.9359577894210815,\n",
       "  'tst/Precision5': 0.5755841732025146,\n",
       "  'tst/Precision6': 0.8883084654808044,\n",
       "  'tst/Precision7': 0.8256583213806152,\n",
       "  'tst/Precision8': 0.6662771105766296,\n",
       "  'tst/Recall0': 0.0,\n",
       "  'tst/Recall1': 0.9483452439308167,\n",
       "  'tst/Recall2': 0.8826488256454468,\n",
       "  'tst/Recall3': 0.9835882782936096,\n",
       "  'tst/Recall4': 0.920972466468811,\n",
       "  'tst/Recall5': 0.5459919571876526,\n",
       "  'tst/Recall6': 0.9796012043952942,\n",
       "  'tst/Recall7': 0.757350504398346,\n",
       "  'tst/Recall8': 0.7807689309120178}]"
      ]
     },
     "execution_count": 6,
     "metadata": {},
     "output_type": "execute_result"
    }
   ],
   "execution_count": 6
  },
  {
   "cell_type": "code",
   "id": "ac5d175892e5f3d3",
   "metadata": {
    "ExecuteTime": {
     "end_time": "2025-03-29T09:10:59.923478Z",
     "start_time": "2025-03-29T08:55:40.677504Z"
    }
   },
   "source": [
    "# Qualitative Performance Evaluation\n",
    "map_dirpath = os.path.join(log_dirpath, \"qualitative\")\n",
    "os.makedirs(map_dirpath, exist_ok=True)\n",
    "\n",
    "tile_id = \"9-284-556\"\n",
    "\n",
    "TiledInferenceEngine(\n",
    "    checkpoint_path=model_path,\n",
    "    map_location=\"cpu\",\n",
    "    tile_store=BAG3DTileStore(),\n",
    "    model=model,\n",
    ").run(\n",
    "    tile_id=tile_id,\n",
    "    dst_filepath=os.path.join(map_dirpath, f\"{tile_id}.map.pixel.best.tif\"),\n",
    "    params=TiledInferenceParameters(h_crop=512, h_stride=256, w_crop=512, w_stride=256),\n",
    ")"
   ],
   "outputs": [
    {
     "name": "stderr",
     "output_type": "stream",
     "text": [
      "Seed set to 0\n",
      "C:\\Documents\\RoofSense\\roofsense\\utilities\\file.py:70: UserWarning: The specified path: 'C:\\\\Documents\\\\RoofSense\\\\logs\\\\3dgeoinfo\\\\test\\\\qualitative\\\\9-284-556.map.pixel.last.tif' does not exist in the system. The value of the 'overwrite' flag will be ignored.\n",
      "  warnings.warn(msg, UserWarning)\n",
      "100%|██████████| 200/200 [13:00<00:00,  3.90s/it]\n"
     ]
    }
   ],
   "execution_count": 4
  }
 ],
 "metadata": {
  "kernelspec": {
   "display_name": "Python 3",
   "language": "python",
   "name": "python3"
  },
  "language_info": {
   "codemirror_mode": {
    "name": "ipython",
    "version": 2
   },
   "file_extension": ".py",
   "mimetype": "text/x-python",
   "name": "python",
   "nbconvert_exporter": "python",
   "pygments_lexer": "ipython2",
   "version": "2.7.6"
  }
 },
 "nbformat": 4,
 "nbformat_minor": 5
}
