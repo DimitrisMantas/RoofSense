{
 "cells": [
  {
   "cell_type": "code",
   "id": "initial_id",
   "metadata": {
    "collapsed": true,
    "ExecuteTime": {
     "end_time": "2025-03-28T19:11:19.661926Z",
     "start_time": "2025-03-28T19:11:05.458226Z"
    }
   },
   "source": [
    "import os\n",
    "\n",
    "import lightning\n",
    "import optuna\n",
    "import torch\n",
    "from lightning import Trainer\n",
    "from lightning.pytorch.loggers import TensorBoardLogger\n",
    "from terratorch.tasks.tiled_inference import TiledInferenceParameters\n",
    "\n",
    "from implementation.training.utils import (\n",
    "    TrainingTaskHyperparameterTuningConfig,\n",
    "    create_model,\n",
    ")\n",
    "from roofsense.bag3d import BAG3DTileStore\n",
    "from roofsense.inference.tile import TiledInferenceEngine\n",
    "from roofsense.training.datamodule import TrainingDataModule\n",
    "from roofsense.training.task import TrainingTask"
   ],
   "outputs": [
    {
     "name": "stderr",
     "output_type": "stream",
     "text": [
      "C:\\Documents\\RoofSense\\venv\\Lib\\site-packages\\tqdm\\auto.py:21: TqdmWarning: IProgress not found. Please update jupyter and ipywidgets. See https://ipywidgets.readthedocs.io/en/stable/user_install.html\n",
      "  from .autonotebook import tqdm as notebook_tqdm\n",
      "INFO:albumentations.check_version:A new version of Albumentations is available: 2.0.5 (you have 1.4.10). Upgrade using: pip install --upgrade albumentations\n"
     ]
    }
   ],
   "execution_count": 2
  },
  {
   "cell_type": "code",
   "id": "15055c8d4e2d24e5",
   "metadata": {
    "ExecuteTime": {
     "end_time": "2025-03-28T19:11:20.029620Z",
     "start_time": "2025-03-28T19:11:19.665925Z"
    }
   },
   "source": [
    "study_name = \"optimization\"\n",
    "optim_log_dirpath = os.path.join(r\"C:\\Documents\\RoofSense\\logs\\3dgeoinfo\", study_name)\n",
    "\n",
    "study = optuna.load_study(\n",
    "    study_name=\"optim\", storage=f\"sqlite:///{optim_log_dirpath}/storage.db\"\n",
    ")\n",
    "\n",
    "best_params = study.best_params\n",
    "# Convert parameter format.\n",
    "for param in [\"lab\", \"tgi\"]:\n",
    "    best_params[f\"append_{param}\"] = best_params.pop(param)\n",
    "\n",
    "config = TrainingTaskHyperparameterTuningConfig(\n",
    "    # Add constant settings.\n",
    "    # Encoder\n",
    "    encoder=\"tu-resnet18d\",\n",
    "    zero_init_last=True,\n",
    "    output_stride=16,\n",
    "    # Loss\n",
    "    label_smoothing=0.1,\n",
    "    # Optimizer\n",
    "    optimizer=\"AdamW\",\n",
    "    # LR Scheduler\n",
    "    lr_scheduler=\"CosineAnnealingLR\",\n",
    "    **best_params,\n",
    ")"
   ],
   "outputs": [],
   "execution_count": 3
  },
  {
   "cell_type": "code",
   "id": "62d7525f17b53ae5",
   "metadata": {
    "ExecuteTime": {
     "end_time": "2025-03-28T19:11:23.596883Z",
     "start_time": "2025-03-28T19:11:20.043763Z"
    }
   },
   "source": [
    "# Quantitative Performance Evaluation\n",
    "log_dirpath = os.path.join(os.path.dirname(optim_log_dirpath), \"test\")\n",
    "\n",
    "torch.set_float32_matmul_precision(\"high\")\n",
    "torch.backends.cudnn.allow_tf32 = True\n",
    "\n",
    "lightning.pytorch.seed_everything(0, workers=True)\n",
    "\n",
    "model = create_model(config)\n",
    "model_path = os.path.join(\n",
    "    optim_log_dirpath, f\"version_{study.best_trial.number}\", \"ckpts\", \"best.ckpt\"\n",
    ")\n",
    "\n",
    "task: TrainingTask = TrainingTask.load_from_checkpoint(\n",
    "    checkpoint_path=model_path, model=model\n",
    ")\n",
    "\n",
    "datamodule = TrainingDataModule(\n",
    "    root=r\"C:\\Documents\\RoofSense\\roofsense\\dataset\",\n",
    "    append_lab=config.append_lab,\n",
    "    append_tgi=config.append_tgi,\n",
    ")\n",
    "\n",
    "trainer = Trainer(\n",
    "    logger=TensorBoardLogger(save_dir=log_dirpath, name=\"quantitative\"), benchmark=True\n",
    ")\n",
    "# trainer.test(task, datamodule=datamodule)"
   ],
   "outputs": [
    {
     "name": "stderr",
     "output_type": "stream",
     "text": [
      "Seed set to 0\n",
      "INFO:timm.models._builder:Loading pretrained weights from Hugging Face hub (timm/resnet18d.ra2_in1k)\n",
      "INFO:timm.models._hub:[timm/resnet18d.ra2_in1k] Safe alternative available for 'pytorch_model.bin' (as 'model.safetensors'). Loading weights using safetensors.\n",
      "INFO:timm.models._builder:Converted input conv conv1.0 pretrained weights from 3 to 10 channel(s)\n",
      "GPU available: True (cuda), used: True\n",
      "TPU available: False, using: 0 TPU cores\n",
      "HPU available: False, using: 0 HPUs\n"
     ]
    }
   ],
   "execution_count": 4
  },
  {
   "cell_type": "code",
   "id": "ac5d175892e5f3d3",
   "metadata": {
    "ExecuteTime": {
     "end_time": "2025-03-28T19:26:12.839226Z",
     "start_time": "2025-03-28T19:11:23.607167Z"
    }
   },
   "source": [
    "# Qualitative Performance Evaluation\n",
    "map_dirpath = os.path.join(log_dirpath, \"qualitative\")\n",
    "os.makedirs(map_dirpath, exist_ok=True)\n",
    "\n",
    "tile_id = \"9-284-556\"\n",
    "\n",
    "TiledInferenceEngine(\n",
    "    checkpoint_path=model_path,\n",
    "    map_location=\"cpu\",\n",
    "    tile_store=BAG3DTileStore(),\n",
    "    model=model,\n",
    ").run(\n",
    "    tile_id=tile_id,\n",
    "    dst_filepath=os.path.join(map_dirpath, f\"{tile_id}.map.pixel.tif\"),\n",
    "    params=TiledInferenceParameters(h_crop=512, h_stride=256, w_crop=512, w_stride=256),\n",
    ")"
   ],
   "outputs": [
    {
     "name": "stderr",
     "output_type": "stream",
     "text": [
      "Seed set to 0\n",
      "C:\\Documents\\RoofSense\\roofsense\\utilities\\file.py:70: UserWarning: The specified path: 'C:\\\\Documents\\\\RoofSense\\\\logs\\\\3dgeoinfo\\\\test\\\\qualitative\\\\9-284-556.map.pixel.tif' does not exist in the system. The value of the 'overwrite' flag will be ignored.\n",
      "  warnings.warn(msg, UserWarning)\n",
      "100%|██████████| 200/200 [12:29<00:00,  3.75s/it]\n"
     ]
    }
   ],
   "execution_count": 5
  }
 ],
 "metadata": {
  "kernelspec": {
   "display_name": "Python 3",
   "language": "python",
   "name": "python3"
  },
  "language_info": {
   "codemirror_mode": {
    "name": "ipython",
    "version": 2
   },
   "file_extension": ".py",
   "mimetype": "text/x-python",
   "name": "python",
   "nbconvert_exporter": "python",
   "pygments_lexer": "ipython2",
   "version": "2.7.6"
  }
 },
 "nbformat": 4,
 "nbformat_minor": 5
}
