{
 "cells": [
  {
   "cell_type": "code",
   "execution_count": 1,
   "id": "initial_id",
   "metadata": {
    "ExecuteTime": {
     "end_time": "2025-02-13T07:19:39.207072Z",
     "start_time": "2025-02-13T07:19:38.267714Z"
    },
    "collapsed": true
   },
   "outputs": [],
   "source": [
    "import geopandas as gpd\n",
    "import rasterio.features\n",
    "import shapely\n",
    "\n",
    "from roofsense.bag3d import BAG3DTileStore, LevelOfDetail"
   ]
  },
  {
   "cell_type": "code",
   "execution_count": 2,
   "id": "d6cf2241d1f79d23",
   "metadata": {
    "ExecuteTime": {
     "end_time": "2025-02-13T07:19:41.186068Z",
     "start_time": "2025-02-13T07:19:39.219553Z"
    }
   },
   "outputs": [],
   "source": [
    "tile_store = BAG3DTileStore(dirpath=r\"data/store\")\n",
    "tile_id = \"10-280-560\""
   ]
  },
  {
   "cell_type": "code",
   "execution_count": 15,
   "id": "c7961c7bf44aa2b9",
   "metadata": {
    "ExecuteTime": {
     "end_time": "2025-02-13T07:28:52.766266Z",
     "start_time": "2025-02-13T07:28:50.133112Z"
    }
   },
   "outputs": [],
   "source": [
    "for name, lod in zip(\n",
    "    [\"lod12\", \"lod13\", \"lod22\"],\n",
    "    [LevelOfDetail.LoD12, LevelOfDetail.LoD13, LevelOfDetail.LoD22],\n",
    "):\n",
    "    src_filepath = rf\"../obia/{tile_id}.map.{lod}.tif\"\n",
    "    dst_filepath = rf\"../test/{tile_id}.map.{lod}.test.tif\"\n",
    "\n",
    "    all_surfs = gpd.read_file(f\"{tile_id}.test.{lod.name}.gpkg\")\n",
    "\n",
    "    src: rasterio.io.DatasetReader\n",
    "    with rasterio.open(src_filepath) as src:\n",
    "        bbox = gpd.GeoDataFrame(\n",
    "            {\"id\": [0], \"geometry\": [shapely.box(*src.bounds)]}, crs=\"EPSG:28992\"\n",
    "        )\n",
    "        data = src.read(indexes=1)\n",
    "        meta = src.profile\n",
    "\n",
    "    valid_surfs = all_surfs.overlay(bbox)\n",
    "\n",
    "    rasterio.features.rasterize(\n",
    "        shapes=(\n",
    "            (surf, val)\n",
    "            for surf, val in zip(valid_surfs.geometry, valid_surfs._majority)\n",
    "        ),\n",
    "        out_shape=src.shape,\n",
    "        transform=src.transform,\n",
    "    )\n",
    "\n",
    "    dst: rasterio.io.DatasetWriter\n",
    "    with rasterio.open(dst_filepath, mode=\"w\", **meta) as dst:\n",
    "        dst.write(data, indexes=1)"
   ]
  }
 ],
 "metadata": {
  "kernelspec": {
   "display_name": "Python 3",
   "language": "python",
   "name": "python3"
  },
  "language_info": {
   "codemirror_mode": {
    "name": "ipython",
    "version": 2
   },
   "file_extension": ".py",
   "mimetype": "text/x-python",
   "name": "python",
   "nbconvert_exporter": "python",
   "pygments_lexer": "ipython2",
   "version": "2.7.6"
  }
 },
 "nbformat": 4,
 "nbformat_minor": 5
}
